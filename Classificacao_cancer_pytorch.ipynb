{
  "nbformat": 4,
  "nbformat_minor": 0,
  "metadata": {
    "colab": {
      "provenance": []
    },
    "kernelspec": {
      "name": "python3",
      "display_name": "Python 3"
    },
    "language_info": {
      "name": "python"
    }
  },
  "cells": [
    {
      "cell_type": "markdown",
      "source": [
        "Classificação câncer de mama.\n"
      ],
      "metadata": {
        "id": "-OkF0TwLXVKW"
      }
    },
    {
      "cell_type": "code",
      "source": [
        "# Importação das bibliotecas\n",
        "import pandas as pd\n",
        "import numpy as np\n",
        "from sklearn.model_selection import train_test_split # dividir a base de dados entre teste e treino\n",
        "from sklearn.metrics import confusion_matrix, accuracy_score\n",
        "import seaborn as sns\n",
        "import torch.nn as nn"
      ],
      "metadata": {
        "id": "pELCtkGzXb5U"
      },
      "execution_count": 26,
      "outputs": []
    },
    {
      "cell_type": "code",
      "source": [
        "import torch\n",
        "torch.__version__"
      ],
      "metadata": {
        "colab": {
          "base_uri": "https://localhost:8080/",
          "height": 35
        },
        "id": "wg0kHXNfnRP-",
        "outputId": "696bbe25-c8c3-44fb-8638-41f108aea81e"
      },
      "execution_count": 27,
      "outputs": [
        {
          "output_type": "execute_result",
          "data": {
            "text/plain": [
              "'2.0.1+cu118'"
            ],
            "application/vnd.google.colaboratory.intrinsic+json": {
              "type": "string"
            }
          },
          "metadata": {},
          "execution_count": 27
        }
      ]
    },
    {
      "cell_type": "code",
      "source": [
        "np.random.seed(123) # semente geradora aleatória, para gerar os mesmos numeros aleatorios, para recurso de divisão de base de dados\n",
        "torch.manual_seed(123) # para os pesos terem os mesmo resultads quando executados"
      ],
      "metadata": {
        "colab": {
          "base_uri": "https://localhost:8080/"
        },
        "id": "FGuKAx6AkkD9",
        "outputId": "d896c3e9-1b55-4447-d526-7cf8ff9cf424"
      },
      "execution_count": 28,
      "outputs": [
        {
          "output_type": "execute_result",
          "data": {
            "text/plain": [
              "<torch._C.Generator at 0x7f6d76dffaf0>"
            ]
          },
          "metadata": {},
          "execution_count": 28
        }
      ]
    },
    {
      "cell_type": "code",
      "source": [
        "# Carregando as bases de dados\n",
        "previsor = pd.read_csv('/content/entradas_breast.csv')\n",
        "classificador = pd.read_csv('/content/saidas_breast.csv')"
      ],
      "metadata": {
        "id": "A_eVbo2en02O"
      },
      "execution_count": 29,
      "outputs": []
    },
    {
      "cell_type": "code",
      "source": [
        "# Observando a base previsor\n",
        "previsor.head()\n"
      ],
      "metadata": {
        "colab": {
          "base_uri": "https://localhost:8080/",
          "height": 300
        },
        "id": "taHSqPvzoLXF",
        "outputId": "fefbe1ed-c343-428c-b7a2-630f365e9322"
      },
      "execution_count": 30,
      "outputs": [
        {
          "output_type": "execute_result",
          "data": {
            "text/plain": [
              "    radius_mean   texture_mean   perimeter_mean   area_mean   smoothness_mean  \\\n",
              "0         17.99          10.38           122.80      1001.0           0.11840   \n",
              "1         20.57          17.77           132.90      1326.0           0.08474   \n",
              "2         19.69          21.25           130.00      1203.0           0.10960   \n",
              "3         11.42          20.38            77.58       386.1           0.14250   \n",
              "4         20.29          14.34           135.10      1297.0           0.10030   \n",
              "\n",
              "    compactness_mean   concavity_mean  concave_points_mean   symmetry_mean  \\\n",
              "0            0.27760           0.3001              0.14710          0.2419   \n",
              "1            0.07864           0.0869              0.07017          0.1812   \n",
              "2            0.15990           0.1974              0.12790          0.2069   \n",
              "3            0.28390           0.2414              0.10520          0.2597   \n",
              "4            0.13280         198.0000              0.10430          0.1809   \n",
              "\n",
              "    fractal_dimension_mean  ...   radius_worst   texture_worst  \\\n",
              "0                  0.07871  ...          25.38           17.33   \n",
              "1                  0.05667  ...          24.99           23.41   \n",
              "2                  0.05999  ...          23.57           25.53   \n",
              "3                  0.09744  ...          14.91           26.50   \n",
              "4                  0.05883  ...          22.54           16.67   \n",
              "\n",
              "    perimeter_worst   area_worst   smoothness_worst   compactness_worst  \\\n",
              "0            184.60       2019.0             0.1622              0.6656   \n",
              "1            158.80       1956.0             0.1238              0.1866   \n",
              "2            152.50       1709.0             0.1444              0.4245   \n",
              "3             98.87        567.7             0.2098              0.8663   \n",
              "4            152.20       1575.0             0.1374            205.0000   \n",
              "\n",
              "    concavity_worst   concave_points_worst   symmetry_worst  \\\n",
              "0            0.7119                 0.2654           0.4601   \n",
              "1            0.2416               186.0000         275.0000   \n",
              "2            0.4504               243.0000           0.3613   \n",
              "3            0.6869                 0.2575           0.6638   \n",
              "4            0.4000                 0.1625           0.2364   \n",
              "\n",
              "    fractal_dimension_worst  \n",
              "0                   0.11890  \n",
              "1                   0.08902  \n",
              "2                   0.08758  \n",
              "3                 173.00000  \n",
              "4                   0.07678  \n",
              "\n",
              "[5 rows x 30 columns]"
            ],
            "text/html": [
              "\n",
              "\n",
              "  <div id=\"df-1a3db543-01e2-4cdf-927e-2246cd682977\">\n",
              "    <div class=\"colab-df-container\">\n",
              "      <div>\n",
              "<style scoped>\n",
              "    .dataframe tbody tr th:only-of-type {\n",
              "        vertical-align: middle;\n",
              "    }\n",
              "\n",
              "    .dataframe tbody tr th {\n",
              "        vertical-align: top;\n",
              "    }\n",
              "\n",
              "    .dataframe thead th {\n",
              "        text-align: right;\n",
              "    }\n",
              "</style>\n",
              "<table border=\"1\" class=\"dataframe\">\n",
              "  <thead>\n",
              "    <tr style=\"text-align: right;\">\n",
              "      <th></th>\n",
              "      <th>radius_mean</th>\n",
              "      <th>texture_mean</th>\n",
              "      <th>perimeter_mean</th>\n",
              "      <th>area_mean</th>\n",
              "      <th>smoothness_mean</th>\n",
              "      <th>compactness_mean</th>\n",
              "      <th>concavity_mean</th>\n",
              "      <th>concave_points_mean</th>\n",
              "      <th>symmetry_mean</th>\n",
              "      <th>fractal_dimension_mean</th>\n",
              "      <th>...</th>\n",
              "      <th>radius_worst</th>\n",
              "      <th>texture_worst</th>\n",
              "      <th>perimeter_worst</th>\n",
              "      <th>area_worst</th>\n",
              "      <th>smoothness_worst</th>\n",
              "      <th>compactness_worst</th>\n",
              "      <th>concavity_worst</th>\n",
              "      <th>concave_points_worst</th>\n",
              "      <th>symmetry_worst</th>\n",
              "      <th>fractal_dimension_worst</th>\n",
              "    </tr>\n",
              "  </thead>\n",
              "  <tbody>\n",
              "    <tr>\n",
              "      <th>0</th>\n",
              "      <td>17.99</td>\n",
              "      <td>10.38</td>\n",
              "      <td>122.80</td>\n",
              "      <td>1001.0</td>\n",
              "      <td>0.11840</td>\n",
              "      <td>0.27760</td>\n",
              "      <td>0.3001</td>\n",
              "      <td>0.14710</td>\n",
              "      <td>0.2419</td>\n",
              "      <td>0.07871</td>\n",
              "      <td>...</td>\n",
              "      <td>25.38</td>\n",
              "      <td>17.33</td>\n",
              "      <td>184.60</td>\n",
              "      <td>2019.0</td>\n",
              "      <td>0.1622</td>\n",
              "      <td>0.6656</td>\n",
              "      <td>0.7119</td>\n",
              "      <td>0.2654</td>\n",
              "      <td>0.4601</td>\n",
              "      <td>0.11890</td>\n",
              "    </tr>\n",
              "    <tr>\n",
              "      <th>1</th>\n",
              "      <td>20.57</td>\n",
              "      <td>17.77</td>\n",
              "      <td>132.90</td>\n",
              "      <td>1326.0</td>\n",
              "      <td>0.08474</td>\n",
              "      <td>0.07864</td>\n",
              "      <td>0.0869</td>\n",
              "      <td>0.07017</td>\n",
              "      <td>0.1812</td>\n",
              "      <td>0.05667</td>\n",
              "      <td>...</td>\n",
              "      <td>24.99</td>\n",
              "      <td>23.41</td>\n",
              "      <td>158.80</td>\n",
              "      <td>1956.0</td>\n",
              "      <td>0.1238</td>\n",
              "      <td>0.1866</td>\n",
              "      <td>0.2416</td>\n",
              "      <td>186.0000</td>\n",
              "      <td>275.0000</td>\n",
              "      <td>0.08902</td>\n",
              "    </tr>\n",
              "    <tr>\n",
              "      <th>2</th>\n",
              "      <td>19.69</td>\n",
              "      <td>21.25</td>\n",
              "      <td>130.00</td>\n",
              "      <td>1203.0</td>\n",
              "      <td>0.10960</td>\n",
              "      <td>0.15990</td>\n",
              "      <td>0.1974</td>\n",
              "      <td>0.12790</td>\n",
              "      <td>0.2069</td>\n",
              "      <td>0.05999</td>\n",
              "      <td>...</td>\n",
              "      <td>23.57</td>\n",
              "      <td>25.53</td>\n",
              "      <td>152.50</td>\n",
              "      <td>1709.0</td>\n",
              "      <td>0.1444</td>\n",
              "      <td>0.4245</td>\n",
              "      <td>0.4504</td>\n",
              "      <td>243.0000</td>\n",
              "      <td>0.3613</td>\n",
              "      <td>0.08758</td>\n",
              "    </tr>\n",
              "    <tr>\n",
              "      <th>3</th>\n",
              "      <td>11.42</td>\n",
              "      <td>20.38</td>\n",
              "      <td>77.58</td>\n",
              "      <td>386.1</td>\n",
              "      <td>0.14250</td>\n",
              "      <td>0.28390</td>\n",
              "      <td>0.2414</td>\n",
              "      <td>0.10520</td>\n",
              "      <td>0.2597</td>\n",
              "      <td>0.09744</td>\n",
              "      <td>...</td>\n",
              "      <td>14.91</td>\n",
              "      <td>26.50</td>\n",
              "      <td>98.87</td>\n",
              "      <td>567.7</td>\n",
              "      <td>0.2098</td>\n",
              "      <td>0.8663</td>\n",
              "      <td>0.6869</td>\n",
              "      <td>0.2575</td>\n",
              "      <td>0.6638</td>\n",
              "      <td>173.00000</td>\n",
              "    </tr>\n",
              "    <tr>\n",
              "      <th>4</th>\n",
              "      <td>20.29</td>\n",
              "      <td>14.34</td>\n",
              "      <td>135.10</td>\n",
              "      <td>1297.0</td>\n",
              "      <td>0.10030</td>\n",
              "      <td>0.13280</td>\n",
              "      <td>198.0000</td>\n",
              "      <td>0.10430</td>\n",
              "      <td>0.1809</td>\n",
              "      <td>0.05883</td>\n",
              "      <td>...</td>\n",
              "      <td>22.54</td>\n",
              "      <td>16.67</td>\n",
              "      <td>152.20</td>\n",
              "      <td>1575.0</td>\n",
              "      <td>0.1374</td>\n",
              "      <td>205.0000</td>\n",
              "      <td>0.4000</td>\n",
              "      <td>0.1625</td>\n",
              "      <td>0.2364</td>\n",
              "      <td>0.07678</td>\n",
              "    </tr>\n",
              "  </tbody>\n",
              "</table>\n",
              "<p>5 rows × 30 columns</p>\n",
              "</div>\n",
              "      <button class=\"colab-df-convert\" onclick=\"convertToInteractive('df-1a3db543-01e2-4cdf-927e-2246cd682977')\"\n",
              "              title=\"Convert this dataframe to an interactive table.\"\n",
              "              style=\"display:none;\">\n",
              "\n",
              "  <svg xmlns=\"http://www.w3.org/2000/svg\" height=\"24px\"viewBox=\"0 0 24 24\"\n",
              "       width=\"24px\">\n",
              "    <path d=\"M0 0h24v24H0V0z\" fill=\"none\"/>\n",
              "    <path d=\"M18.56 5.44l.94 2.06.94-2.06 2.06-.94-2.06-.94-.94-2.06-.94 2.06-2.06.94zm-11 1L8.5 8.5l.94-2.06 2.06-.94-2.06-.94L8.5 2.5l-.94 2.06-2.06.94zm10 10l.94 2.06.94-2.06 2.06-.94-2.06-.94-.94-2.06-.94 2.06-2.06.94z\"/><path d=\"M17.41 7.96l-1.37-1.37c-.4-.4-.92-.59-1.43-.59-.52 0-1.04.2-1.43.59L10.3 9.45l-7.72 7.72c-.78.78-.78 2.05 0 2.83L4 21.41c.39.39.9.59 1.41.59.51 0 1.02-.2 1.41-.59l7.78-7.78 2.81-2.81c.8-.78.8-2.07 0-2.86zM5.41 20L4 18.59l7.72-7.72 1.47 1.35L5.41 20z\"/>\n",
              "  </svg>\n",
              "      </button>\n",
              "\n",
              "\n",
              "\n",
              "    <div id=\"df-85f40c13-5f79-4440-a6ec-ec1d00bf05cc\">\n",
              "      <button class=\"colab-df-quickchart\" onclick=\"quickchart('df-85f40c13-5f79-4440-a6ec-ec1d00bf05cc')\"\n",
              "              title=\"Suggest charts.\"\n",
              "              style=\"display:none;\">\n",
              "\n",
              "<svg xmlns=\"http://www.w3.org/2000/svg\" height=\"24px\"viewBox=\"0 0 24 24\"\n",
              "     width=\"24px\">\n",
              "    <g>\n",
              "        <path d=\"M19 3H5c-1.1 0-2 .9-2 2v14c0 1.1.9 2 2 2h14c1.1 0 2-.9 2-2V5c0-1.1-.9-2-2-2zM9 17H7v-7h2v7zm4 0h-2V7h2v10zm4 0h-2v-4h2v4z\"/>\n",
              "    </g>\n",
              "</svg>\n",
              "      </button>\n",
              "    </div>\n",
              "\n",
              "<style>\n",
              "  .colab-df-quickchart {\n",
              "    background-color: #E8F0FE;\n",
              "    border: none;\n",
              "    border-radius: 50%;\n",
              "    cursor: pointer;\n",
              "    display: none;\n",
              "    fill: #1967D2;\n",
              "    height: 32px;\n",
              "    padding: 0 0 0 0;\n",
              "    width: 32px;\n",
              "  }\n",
              "\n",
              "  .colab-df-quickchart:hover {\n",
              "    background-color: #E2EBFA;\n",
              "    box-shadow: 0px 1px 2px rgba(60, 64, 67, 0.3), 0px 1px 3px 1px rgba(60, 64, 67, 0.15);\n",
              "    fill: #174EA6;\n",
              "  }\n",
              "\n",
              "  [theme=dark] .colab-df-quickchart {\n",
              "    background-color: #3B4455;\n",
              "    fill: #D2E3FC;\n",
              "  }\n",
              "\n",
              "  [theme=dark] .colab-df-quickchart:hover {\n",
              "    background-color: #434B5C;\n",
              "    box-shadow: 0px 1px 3px 1px rgba(0, 0, 0, 0.15);\n",
              "    filter: drop-shadow(0px 1px 2px rgba(0, 0, 0, 0.3));\n",
              "    fill: #FFFFFF;\n",
              "  }\n",
              "</style>\n",
              "\n",
              "    <script>\n",
              "      async function quickchart(key) {\n",
              "        const containerElement = document.querySelector('#' + key);\n",
              "        const charts = await google.colab.kernel.invokeFunction(\n",
              "            'suggestCharts', [key], {});\n",
              "      }\n",
              "    </script>\n",
              "\n",
              "      <script>\n",
              "\n",
              "function displayQuickchartButton(domScope) {\n",
              "  let quickchartButtonEl =\n",
              "    domScope.querySelector('#df-85f40c13-5f79-4440-a6ec-ec1d00bf05cc button.colab-df-quickchart');\n",
              "  quickchartButtonEl.style.display =\n",
              "    google.colab.kernel.accessAllowed ? 'block' : 'none';\n",
              "}\n",
              "\n",
              "        displayQuickchartButton(document);\n",
              "      </script>\n",
              "      <style>\n",
              "    .colab-df-container {\n",
              "      display:flex;\n",
              "      flex-wrap:wrap;\n",
              "      gap: 12px;\n",
              "    }\n",
              "\n",
              "    .colab-df-convert {\n",
              "      background-color: #E8F0FE;\n",
              "      border: none;\n",
              "      border-radius: 50%;\n",
              "      cursor: pointer;\n",
              "      display: none;\n",
              "      fill: #1967D2;\n",
              "      height: 32px;\n",
              "      padding: 0 0 0 0;\n",
              "      width: 32px;\n",
              "    }\n",
              "\n",
              "    .colab-df-convert:hover {\n",
              "      background-color: #E2EBFA;\n",
              "      box-shadow: 0px 1px 2px rgba(60, 64, 67, 0.3), 0px 1px 3px 1px rgba(60, 64, 67, 0.15);\n",
              "      fill: #174EA6;\n",
              "    }\n",
              "\n",
              "    [theme=dark] .colab-df-convert {\n",
              "      background-color: #3B4455;\n",
              "      fill: #D2E3FC;\n",
              "    }\n",
              "\n",
              "    [theme=dark] .colab-df-convert:hover {\n",
              "      background-color: #434B5C;\n",
              "      box-shadow: 0px 1px 3px 1px rgba(0, 0, 0, 0.15);\n",
              "      filter: drop-shadow(0px 1px 2px rgba(0, 0, 0, 0.3));\n",
              "      fill: #FFFFFF;\n",
              "    }\n",
              "  </style>\n",
              "\n",
              "      <script>\n",
              "        const buttonEl =\n",
              "          document.querySelector('#df-1a3db543-01e2-4cdf-927e-2246cd682977 button.colab-df-convert');\n",
              "        buttonEl.style.display =\n",
              "          google.colab.kernel.accessAllowed ? 'block' : 'none';\n",
              "\n",
              "        async function convertToInteractive(key) {\n",
              "          const element = document.querySelector('#df-1a3db543-01e2-4cdf-927e-2246cd682977');\n",
              "          const dataTable =\n",
              "            await google.colab.kernel.invokeFunction('convertToInteractive',\n",
              "                                                     [key], {});\n",
              "          if (!dataTable) return;\n",
              "\n",
              "          const docLinkHtml = 'Like what you see? Visit the ' +\n",
              "            '<a target=\"_blank\" href=https://colab.research.google.com/notebooks/data_table.ipynb>data table notebook</a>'\n",
              "            + ' to learn more about interactive tables.';\n",
              "          element.innerHTML = '';\n",
              "          dataTable['output_type'] = 'display_data';\n",
              "          await google.colab.output.renderOutput(dataTable, element);\n",
              "          const docLink = document.createElement('div');\n",
              "          docLink.innerHTML = docLinkHtml;\n",
              "          element.appendChild(docLink);\n",
              "        }\n",
              "      </script>\n",
              "    </div>\n",
              "  </div>\n"
            ]
          },
          "metadata": {},
          "execution_count": 30
        }
      ]
    },
    {
      "cell_type": "code",
      "source": [
        "# Observando a base classificador / 0 benigno e 1 maligno\n",
        "classificador"
      ],
      "metadata": {
        "colab": {
          "base_uri": "https://localhost:8080/",
          "height": 424
        },
        "id": "HO8KufI8oVY1",
        "outputId": "b595e983-9dca-4b85-d5b6-bc5e679bd4c2"
      },
      "execution_count": 31,
      "outputs": [
        {
          "output_type": "execute_result",
          "data": {
            "text/plain": [
              "     0\n",
              "0    0\n",
              "1    0\n",
              "2    0\n",
              "3    0\n",
              "4    0\n",
              "..  ..\n",
              "564  0\n",
              "565  0\n",
              "566  0\n",
              "567  0\n",
              "568  1\n",
              "\n",
              "[569 rows x 1 columns]"
            ],
            "text/html": [
              "\n",
              "\n",
              "  <div id=\"df-4c940782-fd20-4827-9a77-315e9edfe0e7\">\n",
              "    <div class=\"colab-df-container\">\n",
              "      <div>\n",
              "<style scoped>\n",
              "    .dataframe tbody tr th:only-of-type {\n",
              "        vertical-align: middle;\n",
              "    }\n",
              "\n",
              "    .dataframe tbody tr th {\n",
              "        vertical-align: top;\n",
              "    }\n",
              "\n",
              "    .dataframe thead th {\n",
              "        text-align: right;\n",
              "    }\n",
              "</style>\n",
              "<table border=\"1\" class=\"dataframe\">\n",
              "  <thead>\n",
              "    <tr style=\"text-align: right;\">\n",
              "      <th></th>\n",
              "      <th>0</th>\n",
              "    </tr>\n",
              "  </thead>\n",
              "  <tbody>\n",
              "    <tr>\n",
              "      <th>0</th>\n",
              "      <td>0</td>\n",
              "    </tr>\n",
              "    <tr>\n",
              "      <th>1</th>\n",
              "      <td>0</td>\n",
              "    </tr>\n",
              "    <tr>\n",
              "      <th>2</th>\n",
              "      <td>0</td>\n",
              "    </tr>\n",
              "    <tr>\n",
              "      <th>3</th>\n",
              "      <td>0</td>\n",
              "    </tr>\n",
              "    <tr>\n",
              "      <th>4</th>\n",
              "      <td>0</td>\n",
              "    </tr>\n",
              "    <tr>\n",
              "      <th>...</th>\n",
              "      <td>...</td>\n",
              "    </tr>\n",
              "    <tr>\n",
              "      <th>564</th>\n",
              "      <td>0</td>\n",
              "    </tr>\n",
              "    <tr>\n",
              "      <th>565</th>\n",
              "      <td>0</td>\n",
              "    </tr>\n",
              "    <tr>\n",
              "      <th>566</th>\n",
              "      <td>0</td>\n",
              "    </tr>\n",
              "    <tr>\n",
              "      <th>567</th>\n",
              "      <td>0</td>\n",
              "    </tr>\n",
              "    <tr>\n",
              "      <th>568</th>\n",
              "      <td>1</td>\n",
              "    </tr>\n",
              "  </tbody>\n",
              "</table>\n",
              "<p>569 rows × 1 columns</p>\n",
              "</div>\n",
              "      <button class=\"colab-df-convert\" onclick=\"convertToInteractive('df-4c940782-fd20-4827-9a77-315e9edfe0e7')\"\n",
              "              title=\"Convert this dataframe to an interactive table.\"\n",
              "              style=\"display:none;\">\n",
              "\n",
              "  <svg xmlns=\"http://www.w3.org/2000/svg\" height=\"24px\"viewBox=\"0 0 24 24\"\n",
              "       width=\"24px\">\n",
              "    <path d=\"M0 0h24v24H0V0z\" fill=\"none\"/>\n",
              "    <path d=\"M18.56 5.44l.94 2.06.94-2.06 2.06-.94-2.06-.94-.94-2.06-.94 2.06-2.06.94zm-11 1L8.5 8.5l.94-2.06 2.06-.94-2.06-.94L8.5 2.5l-.94 2.06-2.06.94zm10 10l.94 2.06.94-2.06 2.06-.94-2.06-.94-.94-2.06-.94 2.06-2.06.94z\"/><path d=\"M17.41 7.96l-1.37-1.37c-.4-.4-.92-.59-1.43-.59-.52 0-1.04.2-1.43.59L10.3 9.45l-7.72 7.72c-.78.78-.78 2.05 0 2.83L4 21.41c.39.39.9.59 1.41.59.51 0 1.02-.2 1.41-.59l7.78-7.78 2.81-2.81c.8-.78.8-2.07 0-2.86zM5.41 20L4 18.59l7.72-7.72 1.47 1.35L5.41 20z\"/>\n",
              "  </svg>\n",
              "      </button>\n",
              "\n",
              "\n",
              "\n",
              "    <div id=\"df-59e633d6-107c-46c1-9117-76eaed4c7333\">\n",
              "      <button class=\"colab-df-quickchart\" onclick=\"quickchart('df-59e633d6-107c-46c1-9117-76eaed4c7333')\"\n",
              "              title=\"Suggest charts.\"\n",
              "              style=\"display:none;\">\n",
              "\n",
              "<svg xmlns=\"http://www.w3.org/2000/svg\" height=\"24px\"viewBox=\"0 0 24 24\"\n",
              "     width=\"24px\">\n",
              "    <g>\n",
              "        <path d=\"M19 3H5c-1.1 0-2 .9-2 2v14c0 1.1.9 2 2 2h14c1.1 0 2-.9 2-2V5c0-1.1-.9-2-2-2zM9 17H7v-7h2v7zm4 0h-2V7h2v10zm4 0h-2v-4h2v4z\"/>\n",
              "    </g>\n",
              "</svg>\n",
              "      </button>\n",
              "    </div>\n",
              "\n",
              "<style>\n",
              "  .colab-df-quickchart {\n",
              "    background-color: #E8F0FE;\n",
              "    border: none;\n",
              "    border-radius: 50%;\n",
              "    cursor: pointer;\n",
              "    display: none;\n",
              "    fill: #1967D2;\n",
              "    height: 32px;\n",
              "    padding: 0 0 0 0;\n",
              "    width: 32px;\n",
              "  }\n",
              "\n",
              "  .colab-df-quickchart:hover {\n",
              "    background-color: #E2EBFA;\n",
              "    box-shadow: 0px 1px 2px rgba(60, 64, 67, 0.3), 0px 1px 3px 1px rgba(60, 64, 67, 0.15);\n",
              "    fill: #174EA6;\n",
              "  }\n",
              "\n",
              "  [theme=dark] .colab-df-quickchart {\n",
              "    background-color: #3B4455;\n",
              "    fill: #D2E3FC;\n",
              "  }\n",
              "\n",
              "  [theme=dark] .colab-df-quickchart:hover {\n",
              "    background-color: #434B5C;\n",
              "    box-shadow: 0px 1px 3px 1px rgba(0, 0, 0, 0.15);\n",
              "    filter: drop-shadow(0px 1px 2px rgba(0, 0, 0, 0.3));\n",
              "    fill: #FFFFFF;\n",
              "  }\n",
              "</style>\n",
              "\n",
              "    <script>\n",
              "      async function quickchart(key) {\n",
              "        const containerElement = document.querySelector('#' + key);\n",
              "        const charts = await google.colab.kernel.invokeFunction(\n",
              "            'suggestCharts', [key], {});\n",
              "      }\n",
              "    </script>\n",
              "\n",
              "      <script>\n",
              "\n",
              "function displayQuickchartButton(domScope) {\n",
              "  let quickchartButtonEl =\n",
              "    domScope.querySelector('#df-59e633d6-107c-46c1-9117-76eaed4c7333 button.colab-df-quickchart');\n",
              "  quickchartButtonEl.style.display =\n",
              "    google.colab.kernel.accessAllowed ? 'block' : 'none';\n",
              "}\n",
              "\n",
              "        displayQuickchartButton(document);\n",
              "      </script>\n",
              "      <style>\n",
              "    .colab-df-container {\n",
              "      display:flex;\n",
              "      flex-wrap:wrap;\n",
              "      gap: 12px;\n",
              "    }\n",
              "\n",
              "    .colab-df-convert {\n",
              "      background-color: #E8F0FE;\n",
              "      border: none;\n",
              "      border-radius: 50%;\n",
              "      cursor: pointer;\n",
              "      display: none;\n",
              "      fill: #1967D2;\n",
              "      height: 32px;\n",
              "      padding: 0 0 0 0;\n",
              "      width: 32px;\n",
              "    }\n",
              "\n",
              "    .colab-df-convert:hover {\n",
              "      background-color: #E2EBFA;\n",
              "      box-shadow: 0px 1px 2px rgba(60, 64, 67, 0.3), 0px 1px 3px 1px rgba(60, 64, 67, 0.15);\n",
              "      fill: #174EA6;\n",
              "    }\n",
              "\n",
              "    [theme=dark] .colab-df-convert {\n",
              "      background-color: #3B4455;\n",
              "      fill: #D2E3FC;\n",
              "    }\n",
              "\n",
              "    [theme=dark] .colab-df-convert:hover {\n",
              "      background-color: #434B5C;\n",
              "      box-shadow: 0px 1px 3px 1px rgba(0, 0, 0, 0.15);\n",
              "      filter: drop-shadow(0px 1px 2px rgba(0, 0, 0, 0.3));\n",
              "      fill: #FFFFFF;\n",
              "    }\n",
              "  </style>\n",
              "\n",
              "      <script>\n",
              "        const buttonEl =\n",
              "          document.querySelector('#df-4c940782-fd20-4827-9a77-315e9edfe0e7 button.colab-df-convert');\n",
              "        buttonEl.style.display =\n",
              "          google.colab.kernel.accessAllowed ? 'block' : 'none';\n",
              "\n",
              "        async function convertToInteractive(key) {\n",
              "          const element = document.querySelector('#df-4c940782-fd20-4827-9a77-315e9edfe0e7');\n",
              "          const dataTable =\n",
              "            await google.colab.kernel.invokeFunction('convertToInteractive',\n",
              "                                                     [key], {});\n",
              "          if (!dataTable) return;\n",
              "\n",
              "          const docLinkHtml = 'Like what you see? Visit the ' +\n",
              "            '<a target=\"_blank\" href=https://colab.research.google.com/notebooks/data_table.ipynb>data table notebook</a>'\n",
              "            + ' to learn more about interactive tables.';\n",
              "          element.innerHTML = '';\n",
              "          dataTable['output_type'] = 'display_data';\n",
              "          await google.colab.output.renderOutput(dataTable, element);\n",
              "          const docLink = document.createElement('div');\n",
              "          docLink.innerHTML = docLinkHtml;\n",
              "          element.appendChild(docLink);\n",
              "        }\n",
              "      </script>\n",
              "    </div>\n",
              "  </div>\n"
            ]
          },
          "metadata": {},
          "execution_count": 31
        }
      ]
    },
    {
      "cell_type": "code",
      "source": [
        "# Observando numero de linhas e colunas\n",
        "previsor.shape"
      ],
      "metadata": {
        "colab": {
          "base_uri": "https://localhost:8080/"
        },
        "id": "hyLy44Zmodve",
        "outputId": "34e88c05-87d9-4df0-d7d5-bdec7cb225b8"
      },
      "execution_count": 32,
      "outputs": [
        {
          "output_type": "execute_result",
          "data": {
            "text/plain": [
              "(569, 30)"
            ]
          },
          "metadata": {},
          "execution_count": 32
        }
      ]
    },
    {
      "cell_type": "code",
      "source": [
        "classificador.shape"
      ],
      "metadata": {
        "colab": {
          "base_uri": "https://localhost:8080/"
        },
        "id": "gGgSTPfjomoW",
        "outputId": "ebd48277-0b07-42f3-fa3a-4419e4d93471"
      },
      "execution_count": 34,
      "outputs": [
        {
          "output_type": "execute_result",
          "data": {
            "text/plain": [
              "(569, 1)"
            ]
          },
          "metadata": {},
          "execution_count": 34
        }
      ]
    },
    {
      "cell_type": "code",
      "source": [
        "# Observando valores nulos\n",
        "previsor.isna().any()"
      ],
      "metadata": {
        "colab": {
          "base_uri": "https://localhost:8080/"
        },
        "id": "I9NDrkDcpMTg",
        "outputId": "ca12bcdf-19db-4157-ce93-82d9af08a4ed"
      },
      "execution_count": 35,
      "outputs": [
        {
          "output_type": "execute_result",
          "data": {
            "text/plain": [
              " radius_mean                False\n",
              " texture_mean               False\n",
              " perimeter_mean             False\n",
              " area_mean                  False\n",
              " smoothness_mean            False\n",
              " compactness_mean           False\n",
              " concavity_mean             False\n",
              "concave_points_mean         False\n",
              " symmetry_mean              False\n",
              " fractal_dimension_mean     False\n",
              " radius_se                  False\n",
              " texture_se                 False\n",
              " perimeter_se               False\n",
              " area_se                    False\n",
              " smoothness_se              False\n",
              " compactness_se             False\n",
              " concavity_se               False\n",
              " concave_points_se          False\n",
              " symmetry_se                False\n",
              " fractal_dimension_se       False\n",
              " radius_worst               False\n",
              " texture_worst              False\n",
              " perimeter_worst            False\n",
              " area_worst                 False\n",
              " smoothness_worst           False\n",
              " compactness_worst          False\n",
              " concavity_worst            False\n",
              " concave_points_worst       False\n",
              " symmetry_worst             False\n",
              " fractal_dimension_worst    False\n",
              "dtype: bool"
            ]
          },
          "metadata": {},
          "execution_count": 35
        }
      ]
    },
    {
      "cell_type": "code",
      "source": [
        "# Observando a base classificador\n",
        "classificador.isna().any()"
      ],
      "metadata": {
        "colab": {
          "base_uri": "https://localhost:8080/"
        },
        "id": "FG3kojuzpW0-",
        "outputId": "6cc12765-781b-4c3b-cf89-ec0933783237"
      },
      "execution_count": 36,
      "outputs": [
        {
          "output_type": "execute_result",
          "data": {
            "text/plain": [
              "0    False\n",
              "dtype: bool"
            ]
          },
          "metadata": {},
          "execution_count": 36
        }
      ]
    },
    {
      "cell_type": "code",
      "source": [
        "# Dividindo as bases entre treinamento e teste\n",
        "previsor_treino, previsor_teste, classe_treino, classe_teste = train_test_split(previsor, classificador, test_size = 0.25)\n",
        "\n",
        ""
      ],
      "metadata": {
        "id": "1Q89nWUOq9gn"
      },
      "execution_count": 38,
      "outputs": []
    },
    {
      "cell_type": "code",
      "source": [
        "# Observando os registros previsor_treino\n",
        "previsor_treino.shape"
      ],
      "metadata": {
        "colab": {
          "base_uri": "https://localhost:8080/"
        },
        "id": "CtfOh0_Lr_9v",
        "outputId": "edb17629-5c68-4c1f-ea6f-0a64811346ec"
      },
      "execution_count": 39,
      "outputs": [
        {
          "output_type": "execute_result",
          "data": {
            "text/plain": [
              "(426, 30)"
            ]
          },
          "metadata": {},
          "execution_count": 39
        }
      ]
    },
    {
      "cell_type": "code",
      "source": [
        "# Observando os registros classe_treino\n",
        "classe_treino.shape"
      ],
      "metadata": {
        "colab": {
          "base_uri": "https://localhost:8080/"
        },
        "id": "c-773idDsH9Q",
        "outputId": "d17e2a3a-4fb9-45fe-b172-db12d6fef272"
      },
      "execution_count": 40,
      "outputs": [
        {
          "output_type": "execute_result",
          "data": {
            "text/plain": [
              "(426, 1)"
            ]
          },
          "metadata": {},
          "execution_count": 40
        }
      ]
    },
    {
      "cell_type": "code",
      "source": [
        "# Obervando os registros para teste previsor_teste\n",
        "previsor_teste.shape"
      ],
      "metadata": {
        "colab": {
          "base_uri": "https://localhost:8080/"
        },
        "id": "ZCY4fyA3sThl",
        "outputId": "5f2f479b-3e35-4590-89d8-9729e4f89149"
      },
      "execution_count": 41,
      "outputs": [
        {
          "output_type": "execute_result",
          "data": {
            "text/plain": [
              "(143, 30)"
            ]
          },
          "metadata": {},
          "execution_count": 41
        }
      ]
    },
    {
      "cell_type": "code",
      "source": [
        "# Obervando os registros para teste classe_teste\n",
        "classe_teste.shape"
      ],
      "metadata": {
        "colab": {
          "base_uri": "https://localhost:8080/"
        },
        "id": "LQt1hrWAsbnv",
        "outputId": "de569d43-dee6-4145-8f65-9f00e005b8ef"
      },
      "execution_count": 42,
      "outputs": [
        {
          "output_type": "execute_result",
          "data": {
            "text/plain": [
              "(143, 1)"
            ]
          },
          "metadata": {},
          "execution_count": 42
        }
      ]
    },
    {
      "cell_type": "code",
      "source": [
        "# Transformando os dados para tensores para ficar no formato Pytorch\n",
        "# Primeiramente do pandas para numpy\n",
        "# Em seguida do numpy para pytorch\n",
        "# Observando formato atual\n",
        "type(previsor_treino)"
      ],
      "metadata": {
        "colab": {
          "base_uri": "https://localhost:8080/"
        },
        "id": "VYSXhCimsueg",
        "outputId": "a6bd1a0f-1ef0-447e-f829-ca4b87d078c7"
      },
      "execution_count": 43,
      "outputs": [
        {
          "output_type": "execute_result",
          "data": {
            "text/plain": [
              "pandas.core.frame.DataFrame"
            ]
          },
          "metadata": {},
          "execution_count": 43
        }
      ]
    },
    {
      "cell_type": "code",
      "source": [
        "# Convertendo para o numpy\n",
        "type(np.array(previsor_treino))"
      ],
      "metadata": {
        "colab": {
          "base_uri": "https://localhost:8080/"
        },
        "id": "P6IpdERGtQBQ",
        "outputId": "a4515567-0af7-4101-ec27-b9417b85b7bd"
      },
      "execution_count": 44,
      "outputs": [
        {
          "output_type": "execute_result",
          "data": {
            "text/plain": [
              "numpy.ndarray"
            ]
          },
          "metadata": {},
          "execution_count": 44
        }
      ]
    },
    {
      "cell_type": "code",
      "source": [
        "# Convertendo para pytorch\n",
        "previsor_treino = torch.tensor(np.array(previsor_treino), dtype=torch.float)\n",
        "classe_treino = torch.tensor(np.array(classe_treino), dtype = torch.float)"
      ],
      "metadata": {
        "id": "AbkfUdaQt0bP"
      },
      "execution_count": 46,
      "outputs": []
    },
    {
      "cell_type": "code",
      "source": [
        "# Observando se a conversão foi feita previsor_treino\n",
        "type(previsor_treino)"
      ],
      "metadata": {
        "colab": {
          "base_uri": "https://localhost:8080/"
        },
        "id": "ooiKsPiKuLuP",
        "outputId": "c7626040-f9ea-4dbf-e1c6-a8b2c0d526f8"
      },
      "execution_count": 47,
      "outputs": [
        {
          "output_type": "execute_result",
          "data": {
            "text/plain": [
              "torch.Tensor"
            ]
          },
          "metadata": {},
          "execution_count": 47
        }
      ]
    },
    {
      "cell_type": "code",
      "source": [
        "# Observando se a conversão foi feita classe_treino\n",
        "type(classe_treino)"
      ],
      "metadata": {
        "colab": {
          "base_uri": "https://localhost:8080/"
        },
        "id": "DCZHN6D2uSc_",
        "outputId": "c3285d3c-9d61-4a6b-a4c3-1d8fb5d75795"
      },
      "execution_count": 48,
      "outputs": [
        {
          "output_type": "execute_result",
          "data": {
            "text/plain": [
              "torch.Tensor"
            ]
          },
          "metadata": {},
          "execution_count": 48
        }
      ]
    },
    {
      "cell_type": "code",
      "source": [
        "# Criando um dataset para passar como parâmetro para o Pytorch e unir as 2 variáveis em uma só\n",
        "dados = torch.utils.data.TensorDataset(previsor_treino, classe_treino)"
      ],
      "metadata": {
        "id": "Xd-YC_8FufrG"
      },
      "execution_count": 49,
      "outputs": []
    },
    {
      "cell_type": "code",
      "source": [
        "# Fornecendo dataloader para que o Pytoch faça as interações\n",
        "# Calcula e ajusta os pesos a cada 10 registros e mantem o histórico para não repetir os pesos\n",
        "treino = torch.utils.data.DataLoader(dados, batch_size=10, shuffle=True)\n"
      ],
      "metadata": {
        "id": "4wO_fuY-vWdA"
      },
      "execution_count": 54,
      "outputs": []
    },
    {
      "cell_type": "code",
      "source": [
        "# Criando o modelo\n",
        "# 30 neurônios na camada de entrada porque temos 30 atributos previsores\n",
        "# 2 camadas ocultas, duas com 16 neurônios. (entrada 30 + saída 1 /2) = aprox 16\n",
        "# 1 camada de saída com 1 neurônio, pois é classificação binária 0 ou 1, benigno ou maligno\n",
        "classificador = nn.Sequential(\n",
        "    nn.Linear(in_features=30, out_features=16),\n",
        "    nn.ReLU(),\n",
        "    nn.Linear(16, 16),\n",
        "    nn.ReLU(),\n",
        "    nn.Linear(16, 1),\n",
        "    nn.Sigmoid())\n"
      ],
      "metadata": {
        "id": "zojCKD09BipT"
      },
      "execution_count": 56,
      "outputs": []
    },
    {
      "cell_type": "code",
      "source": [
        "# Observando os parâmetros do modelo de rede neural\n",
        "classificador.parameters"
      ],
      "metadata": {
        "colab": {
          "base_uri": "https://localhost:8080/"
        },
        "id": "uY2HLpl4EYJw",
        "outputId": "90b8b38d-ee76-4ae8-e8f5-3e440698a976"
      },
      "execution_count": 57,
      "outputs": [
        {
          "output_type": "execute_result",
          "data": {
            "text/plain": [
              "<bound method Module.parameters of Sequential(\n",
              "  (0): Linear(in_features=30, out_features=16, bias=True)\n",
              "  (1): ReLU()\n",
              "  (2): Linear(in_features=16, out_features=16, bias=True)\n",
              "  (3): ReLU()\n",
              "  (4): Linear(in_features=16, out_features=1, bias=True)\n",
              "  (5): Sigmoid()\n",
              ")>"
            ]
          },
          "metadata": {},
          "execution_count": 57
        }
      ]
    },
    {
      "cell_type": "code",
      "source": [
        "# Criando a função de erro\n",
        "errofunc = nn.BCELoss()"
      ],
      "metadata": {
        "id": "ULK6QFSrC4Dk"
      },
      "execution_count": 58,
      "outputs": []
    },
    {
      "cell_type": "code",
      "source": [
        "# criando o otimizador. lr * weigh_decay ajuda o algoritmo a chegar ao min global. weigh diminui o valor da lr para se aroximar mais do gradiente\n",
        "otimizador = torch.optim.Adam(classificador.parameters(), lr=0.001, weight_decay=0.0001)"
      ],
      "metadata": {
        "id": "vPbaIoQRE-97"
      },
      "execution_count": 65,
      "outputs": []
    },
    {
      "cell_type": "code",
      "source": [
        "# Treinando o modelo\n",
        "# O Pytorch nescessita de um loop para fazer o treinamento\n",
        "for i in range(200): # rodando 200 vezes a atualização dos pesos\n",
        "  running_loss = 0. # variável acumulativa de erro\n",
        "\n",
        "  for j in treino: # novo loop com a variavel treino que contém os previsores e classificadores divididos\n",
        "    inputs, labels = j # inputs são as entradas e labels são as saídas\n",
        "    otimizador.zero_grad() # zera os valores acumulados para cacular o gradiente separado\n",
        "\n",
        "    outputs = classificador(inputs) # saída passando as entradas para prever\n",
        "    loss = errofunc(outputs, labels) # calculado a valor do erro( previsões, respostas reais)\n",
        "    loss.backward()\n",
        "    otimizador.step() # ajuste dos pesos\n",
        "\n",
        "    running_loss += loss.item()\n",
        "  print('Época %3d: perda %.5f' % (i+1, running_loss/len(treino)))"
      ],
      "metadata": {
        "colab": {
          "base_uri": "https://localhost:8080/"
        },
        "id": "4ookTCtpF06M",
        "outputId": "36de2b8d-4af2-4911-ee1d-6be94e22ee11"
      },
      "execution_count": 68,
      "outputs": [
        {
          "output_type": "stream",
          "name": "stdout",
          "text": [
            "Época   1: perda 0.14993\n",
            "Época   2: perda 0.16895\n",
            "Época   3: perda 0.15087\n",
            "Época   4: perda 0.13330\n",
            "Época   5: perda 0.10984\n",
            "Época   6: perda 0.12729\n",
            "Época   7: perda 0.11854\n",
            "Época   8: perda 0.16056\n",
            "Época   9: perda 0.15616\n",
            "Época  10: perda 0.17061\n",
            "Época  11: perda 0.12586\n",
            "Época  12: perda 0.11607\n",
            "Época  13: perda 0.15158\n",
            "Época  14: perda 0.19889\n",
            "Época  15: perda 0.20564\n",
            "Época  16: perda 0.12387\n",
            "Época  17: perda 0.10574\n",
            "Época  18: perda 0.14243\n",
            "Época  19: perda 0.11714\n",
            "Época  20: perda 0.20699\n",
            "Época  21: perda 0.14712\n",
            "Época  22: perda 0.15846\n",
            "Época  23: perda 0.12235\n",
            "Época  24: perda 0.16136\n",
            "Época  25: perda 0.12674\n",
            "Época  26: perda 0.12384\n",
            "Época  27: perda 0.10076\n",
            "Época  28: perda 0.11889\n",
            "Época  29: perda 0.11832\n",
            "Época  30: perda 0.11454\n",
            "Época  31: perda 0.11280\n",
            "Época  32: perda 0.12953\n",
            "Época  33: perda 0.14206\n",
            "Época  34: perda 0.16151\n",
            "Época  35: perda 0.11797\n",
            "Época  36: perda 0.09573\n",
            "Época  37: perda 0.13311\n",
            "Época  38: perda 0.11234\n",
            "Época  39: perda 0.09354\n",
            "Época  40: perda 0.10392\n",
            "Época  41: perda 0.09803\n",
            "Época  42: perda 0.11560\n",
            "Época  43: perda 0.10067\n",
            "Época  44: perda 0.09798\n",
            "Época  45: perda 0.09891\n",
            "Época  46: perda 0.13571\n",
            "Época  47: perda 0.10626\n",
            "Época  48: perda 0.12884\n",
            "Época  49: perda 0.18084\n",
            "Época  50: perda 0.14148\n",
            "Época  51: perda 0.21713\n",
            "Época  52: perda 0.11544\n",
            "Época  53: perda 0.11059\n",
            "Época  54: perda 0.10983\n",
            "Época  55: perda 0.08865\n",
            "Época  56: perda 0.12622\n",
            "Época  57: perda 0.19224\n",
            "Época  58: perda 0.11136\n",
            "Época  59: perda 0.12741\n",
            "Época  60: perda 0.20262\n",
            "Época  61: perda 0.10312\n",
            "Época  62: perda 0.08585\n",
            "Época  63: perda 0.08519\n",
            "Época  64: perda 0.10298\n",
            "Época  65: perda 0.10623\n",
            "Época  66: perda 0.14894\n",
            "Época  67: perda 0.11864\n",
            "Época  68: perda 0.09085\n",
            "Época  69: perda 0.09536\n",
            "Época  70: perda 0.07943\n",
            "Época  71: perda 0.10345\n",
            "Época  72: perda 0.10537\n",
            "Época  73: perda 0.11944\n",
            "Época  74: perda 0.07641\n",
            "Época  75: perda 0.10340\n",
            "Época  76: perda 0.09987\n",
            "Época  77: perda 0.09729\n",
            "Época  78: perda 0.11425\n",
            "Época  79: perda 0.08429\n",
            "Época  80: perda 0.12721\n",
            "Época  81: perda 0.09875\n",
            "Época  82: perda 0.08433\n",
            "Época  83: perda 0.11046\n",
            "Época  84: perda 0.12822\n",
            "Época  85: perda 0.10228\n",
            "Época  86: perda 0.10604\n",
            "Época  87: perda 0.08336\n",
            "Época  88: perda 0.07793\n",
            "Época  89: perda 0.14220\n",
            "Época  90: perda 0.15423\n",
            "Época  91: perda 0.09467\n",
            "Época  92: perda 0.08319\n",
            "Época  93: perda 0.10414\n",
            "Época  94: perda 0.16799\n",
            "Época  95: perda 0.08979\n",
            "Época  96: perda 0.09842\n",
            "Época  97: perda 0.08752\n",
            "Época  98: perda 0.10585\n",
            "Época  99: perda 0.10334\n",
            "Época 100: perda 0.15343\n",
            "Época 101: perda 0.08732\n",
            "Época 102: perda 0.08716\n",
            "Época 103: perda 0.09864\n",
            "Época 104: perda 0.12280\n",
            "Época 105: perda 0.08419\n",
            "Época 106: perda 0.11409\n",
            "Época 107: perda 0.13273\n",
            "Época 108: perda 0.12162\n",
            "Época 109: perda 0.13828\n",
            "Época 110: perda 0.14082\n",
            "Época 111: perda 0.11990\n",
            "Época 112: perda 0.09072\n",
            "Época 113: perda 0.10814\n",
            "Época 114: perda 0.08633\n",
            "Época 115: perda 0.10359\n",
            "Época 116: perda 0.07970\n",
            "Época 117: perda 0.09730\n",
            "Época 118: perda 0.07957\n",
            "Época 119: perda 0.11058\n",
            "Época 120: perda 0.09562\n",
            "Época 121: perda 0.12718\n",
            "Época 122: perda 0.10312\n",
            "Época 123: perda 0.13333\n",
            "Época 124: perda 0.14062\n",
            "Época 125: perda 0.07301\n",
            "Época 126: perda 0.07440\n",
            "Época 127: perda 0.08852\n",
            "Época 128: perda 0.08362\n",
            "Época 129: perda 0.08475\n",
            "Época 130: perda 0.08866\n",
            "Época 131: perda 0.09595\n",
            "Época 132: perda 0.12167\n",
            "Época 133: perda 0.10181\n",
            "Época 134: perda 0.08504\n",
            "Época 135: perda 0.08301\n",
            "Época 136: perda 0.11426\n",
            "Época 137: perda 0.12929\n",
            "Época 138: perda 0.07215\n",
            "Época 139: perda 0.06867\n",
            "Época 140: perda 0.11453\n",
            "Época 141: perda 0.10936\n",
            "Época 142: perda 0.09780\n",
            "Época 143: perda 0.09483\n",
            "Época 144: perda 0.07985\n",
            "Época 145: perda 0.11080\n",
            "Época 146: perda 0.07524\n",
            "Época 147: perda 0.08242\n",
            "Época 148: perda 0.07813\n",
            "Época 149: perda 0.08087\n",
            "Época 150: perda 0.08797\n",
            "Época 151: perda 0.09713\n",
            "Época 152: perda 0.09165\n",
            "Época 153: perda 0.07777\n",
            "Época 154: perda 0.11488\n",
            "Época 155: perda 0.12348\n",
            "Época 156: perda 0.08523\n",
            "Época 157: perda 0.08148\n",
            "Época 158: perda 0.12486\n",
            "Época 159: perda 0.08182\n",
            "Época 160: perda 0.08142\n",
            "Época 161: perda 0.09681\n",
            "Época 162: perda 0.08555\n",
            "Época 163: perda 0.09080\n",
            "Época 164: perda 0.07910\n",
            "Época 165: perda 0.10316\n",
            "Época 166: perda 0.09401\n",
            "Época 167: perda 0.07632\n",
            "Época 168: perda 0.16045\n",
            "Época 169: perda 0.11182\n",
            "Época 170: perda 0.08628\n",
            "Época 171: perda 0.08965\n",
            "Época 172: perda 0.09123\n",
            "Época 173: perda 0.10364\n",
            "Época 174: perda 0.07030\n",
            "Época 175: perda 0.06857\n",
            "Época 176: perda 0.08829\n",
            "Época 177: perda 0.08124\n",
            "Época 178: perda 0.06814\n",
            "Época 179: perda 0.07357\n",
            "Época 180: perda 0.07952\n",
            "Época 181: perda 0.08877\n",
            "Época 182: perda 0.10836\n",
            "Época 183: perda 0.07062\n",
            "Época 184: perda 0.10116\n",
            "Época 185: perda 0.07940\n",
            "Época 186: perda 0.07210\n",
            "Época 187: perda 0.07714\n",
            "Época 188: perda 0.07371\n",
            "Época 189: perda 0.09018\n",
            "Época 190: perda 0.08364\n",
            "Época 191: perda 0.08982\n",
            "Época 192: perda 0.08049\n",
            "Época 193: perda 0.10951\n",
            "Época 194: perda 0.07049\n",
            "Época 195: perda 0.06138\n",
            "Época 196: perda 0.09268\n",
            "Época 197: perda 0.08442\n",
            "Época 198: perda 0.14456\n",
            "Época 199: perda 0.15021\n",
            "Época 200: perda 0.08108\n"
          ]
        }
      ]
    },
    {
      "cell_type": "code",
      "source": [
        "# Visualizando os pesos após o treinamento\n",
        "# Criando nova variável e transformando em lista para facilitar a visualização\n",
        "pesos = list(classificador.parameters())\n",
        "pesos"
      ],
      "metadata": {
        "colab": {
          "base_uri": "https://localhost:8080/"
        },
        "id": "fYLUbf7UOell",
        "outputId": "d72bdc1e-e5af-4efd-fcf8-0e0ca03afd02"
      },
      "execution_count": 70,
      "outputs": [
        {
          "output_type": "execute_result",
          "data": {
            "text/plain": [
              "[Parameter containing:\n",
              " tensor([[-7.0598e-01,  7.5450e-02, -5.7791e-01, -1.9443e-01,  1.2021e-01,\n",
              "           2.2378e-02, -1.3475e-02, -9.3254e-02, -2.0912e-01,  5.3563e-01,\n",
              "           7.2281e-02,  6.5518e-02,  7.7060e-02,  4.6885e-02,  2.3225e-02,\n",
              "           6.4989e-02, -4.7081e-01,  3.6957e-02,  6.9681e-01,  1.1067e-01,\n",
              "          -9.2448e-02,  2.6232e-01, -4.1479e-01,  1.6303e-01,  3.6242e-01,\n",
              "          -7.8483e-02, -3.7933e-01, -1.4703e-01,  2.4095e-01,  6.1180e-01],\n",
              "         [-3.6489e-10, -9.3782e-06, -2.3264e-03, -2.0793e-02,  1.2736e-38,\n",
              "           1.8070e-38,  2.0519e-38,  5.9812e-38, -2.7022e-39, -3.0153e-39,\n",
              "           6.1457e-39, -6.2645e-03, -2.0303e-02, -6.3507e-03,  1.9739e-38,\n",
              "          -3.1332e-38,  4.4849e-39,  4.9943e-38,  1.1449e-38,  6.2463e-39,\n",
              "           5.4479e-02, -5.4356e-05, -3.1562e-03, -2.3277e-02, -7.6859e-39,\n",
              "          -1.9336e-39,  1.0608e-39, -1.3593e-38, -6.1814e-39, -5.9267e-40],\n",
              "         [ 1.0756e-01,  2.5670e-02,  2.2476e-02,  4.2743e-02,  1.1118e-01,\n",
              "          -2.7392e-01,  2.0003e-01,  3.8936e-01,  1.8318e-01,  3.8977e-01,\n",
              "           1.1295e-01,  8.1451e-02,  2.3464e-02,  1.9840e-01,  4.5015e-03,\n",
              "           1.2512e-02,  1.6888e-02, -9.9406e-04,  2.3009e-01,  1.0402e-02,\n",
              "           1.2650e-01, -4.2677e-01,  1.6796e-01, -2.6812e-01, -9.0763e-02,\n",
              "           2.7605e-02,  3.6305e-01, -4.4308e-02,  2.5972e-01, -3.9213e-01],\n",
              "         [-3.8867e-01, -5.5109e-01, -3.0414e-01, -9.6028e-02, -4.3800e-02,\n",
              "           1.5172e-01,  2.3027e-01,  6.0255e-02,  1.7244e-02,  9.9354e-02,\n",
              "           1.0741e-01,  5.9900e-02, -9.8962e-02,  9.3820e-03,  9.1773e-04,\n",
              "          -7.6318e-03, -8.4234e-03, -8.4848e-02,  7.6298e-01,  3.4928e-03,\n",
              "          -7.5827e-02, -5.8860e-01, -1.9721e-01,  2.0573e-01,  1.5034e-01,\n",
              "           2.3328e-01, -9.1032e-02,  2.1906e-02,  3.6571e-01,  2.5249e-01],\n",
              "         [-5.3677e-01, -2.4585e-01, -4.1865e-01, -3.3716e-02, -6.7549e-03,\n",
              "           7.8019e-01, -4.4306e-01, -2.9274e-01, -2.3195e-01,  1.2709e-02,\n",
              "           4.1461e-02, -2.3652e-02,  2.7345e-02,  8.6958e-02,  1.0478e-02,\n",
              "           7.2338e-02,  6.6587e-02, -3.4340e-02,  8.3318e-01,  2.6362e-02,\n",
              "          -2.5836e-01,  1.9745e-01, -3.4641e-01,  1.8697e-01, -3.1378e-01,\n",
              "          -6.7079e-02, -5.8170e-01, -3.0554e-01, -1.4955e-01,  4.0548e-01],\n",
              "         [-5.5777e-01, -9.3144e-02, -3.9211e-01, -1.8519e-02,  4.0989e-02,\n",
              "          -1.4200e-01,  1.9791e-01, -4.4362e-01, -2.2564e-01, -1.0066e-01,\n",
              "           1.7389e-02, -9.3354e-02,  7.8723e-02,  3.6529e-03,  1.2293e-02,\n",
              "           8.8518e-02, -4.4924e-01, -6.3899e-03,  6.3385e-02,  2.5105e-01,\n",
              "          -8.7711e-03,  3.1298e-01, -1.6579e-01,  9.5643e-02,  3.7063e-01,\n",
              "           1.4058e-01,  3.6415e-01, -2.4331e-01, -2.0916e-01,  3.8246e-01],\n",
              "         [ 1.0572e-02,  2.4669e-02, -4.7731e-03, -1.3835e-02,  2.2989e-04,\n",
              "           1.4320e-04,  2.8820e-05,  3.3319e-06,  1.8591e-02, -2.5580e-02,\n",
              "          -1.1382e-02,  3.8044e-02, -3.1142e-02,  9.9737e-02, -1.5092e-05,\n",
              "           1.5882e-03, -5.6876e-05, -8.0145e-05, -8.6137e-05, -6.8305e-05,\n",
              "           3.0282e-02,  6.0623e-02,  2.3900e-02, -8.3194e-02,  6.5120e-02,\n",
              "          -4.7056e-03, -1.3998e-02,  2.3144e-03,  1.2462e-01,  1.1118e-02],\n",
              "         [ 5.0638e-01, -1.6104e-02,  4.5599e-01,  7.9908e-03, -1.2189e-01,\n",
              "          -3.1013e-01,  3.5030e-03, -8.6203e-03, -3.4180e-01,  1.4120e-01,\n",
              "           2.1918e-02,  1.2447e-02,  4.8741e-03,  3.5743e-02, -2.4240e-02,\n",
              "          -8.6025e-02,  7.4609e-02,  2.4760e-02, -2.1150e-01, -7.0497e-02,\n",
              "           2.3250e-01, -1.6132e-01,  4.6929e-01, -1.0566e-01,  5.5055e-02,\n",
              "           2.8420e-02,  3.7288e-01, -2.4259e-01, -9.9110e-02, -5.9395e-01],\n",
              "         [ 2.2340e-01, -9.4754e-02,  1.9059e-01,  2.3214e-01, -1.5791e-01,\n",
              "           2.4688e-01, -1.5516e-01,  3.2342e-01,  5.3738e-01, -2.8086e-01,\n",
              "           3.0035e-01,  5.5363e-02, -5.5482e-02, -3.6969e-01, -1.3866e-02,\n",
              "          -4.4152e-02,  4.5719e-01, -1.4847e-02, -8.2277e-01, -2.1088e-01,\n",
              "           2.6212e-01, -4.6963e-01,  2.8269e-01, -1.4585e-02, -1.7693e-01,\n",
              "          -2.8182e-02,  1.1621e-03,  5.3306e-01,  1.4434e-01, -4.8158e-01],\n",
              "         [ 2.9197e-01, -1.7968e-01,  6.5484e-02,  2.0107e-01, -5.5756e-01,\n",
              "          -4.4459e-02, -2.9971e-01,  1.7252e-02, -8.0462e-03,  4.1046e-02,\n",
              "          -8.5655e-02, -2.3125e-01, -4.2609e-02, -2.2833e-01, -3.4354e-03,\n",
              "          -1.2311e-02, -6.3320e-03, -5.3989e-03,  3.8630e-01, -8.7527e-04,\n",
              "           6.7160e-02, -5.3054e-01,  2.2698e-01,  7.4339e-03, -1.0699e-01,\n",
              "           2.3439e-02, -3.4280e-02, -7.5999e-02,  3.7871e-02, -4.5328e-02],\n",
              "         [ 9.0777e-02,  1.9458e-01,  2.5985e-01, -1.0812e-01, -1.4747e-02,\n",
              "           2.5883e-02, -4.2248e-02,  2.9693e-01, -9.0175e-02, -3.1659e-01,\n",
              "          -2.0782e-01,  1.5722e-01, -1.1201e-01, -6.8234e-02, -1.2328e-02,\n",
              "           3.0381e-03, -1.6279e-02, -1.1730e-02, -6.5481e-01, -1.5097e-02,\n",
              "           8.6031e-02,  2.7526e-01,  2.1920e-01, -1.2289e-01, -2.5396e-01,\n",
              "          -5.0655e-02,  3.4451e-03, -3.3449e-02,  5.7444e-01, -1.3703e-01],\n",
              "         [-6.2618e-01,  1.4397e-02, -2.9220e-01,  1.4176e-02, -2.6685e-02,\n",
              "          -1.0268e-01,  1.1788e-01, -4.5640e-02, -3.5458e-01, -1.1490e-01,\n",
              "          -1.0482e-01,  6.6557e-02, -3.1091e-03,  2.2039e-02,  1.1561e-02,\n",
              "           3.7587e-02, -8.7065e-02, -1.4998e-02, -2.6676e-01,  7.6450e-02,\n",
              "          -5.2445e-01,  2.7150e-01, -4.3189e-01,  1.9143e-01, -1.6814e-01,\n",
              "          -2.1162e-01, -2.6332e-01,  2.7514e-03, -4.6296e-02,  3.3348e-01],\n",
              "         [-3.3288e-01,  2.3789e-01, -2.4960e-01,  1.0339e-01,  4.7088e-01,\n",
              "          -2.7590e-01,  5.4743e-02, -2.3493e-02,  7.7449e-02,  4.5143e-01,\n",
              "          -1.2518e-01, -5.7567e-02, -8.2847e-02,  4.5176e-02,  9.2831e-03,\n",
              "           3.0457e-02, -5.4435e-01,  1.1248e-02, -2.5049e-01,  1.7378e-03,\n",
              "          -1.3682e-01,  7.2443e-01, -1.3807e-01,  1.8509e-01, -2.1101e-01,\n",
              "           3.2436e-02,  2.4632e-01,  1.4024e-01, -4.3809e-02,  2.6950e-02],\n",
              "         [-2.5841e-01,  3.5768e-01, -2.4072e-01, -1.6654e-01,  2.0023e-01,\n",
              "           1.3527e-01, -8.2249e-02,  1.1426e-01,  2.2623e-01,  1.0828e-02,\n",
              "          -1.3080e-01, -6.8751e-02,  1.1320e-01, -2.1982e-02,  6.0169e-03,\n",
              "           2.8518e-02, -1.8318e-03,  8.7362e-03, -3.2148e-01,  1.0016e-01,\n",
              "          -1.5881e-02,  3.5269e-01, -1.0591e-01, -7.0416e-02, -1.8378e-01,\n",
              "           3.0235e-01,  4.0772e-01,  2.9086e-01,  7.0419e-02,  5.4325e-01],\n",
              "         [ 6.3128e-01, -1.0949e-01,  3.5678e-01,  1.0541e-01, -3.4825e-01,\n",
              "          -1.6436e-01, -1.3684e-01,  8.9757e-02, -1.4085e-01,  1.2318e-02,\n",
              "          -1.5534e-01, -3.5622e-02,  9.4815e-02, -9.8899e-02, -3.0357e-02,\n",
              "          -1.0635e-01,  4.5477e-01, -4.6816e-02,  5.8335e-01, -1.6049e-01,\n",
              "           2.5304e-01, -3.4552e-01,  2.4495e-01, -2.5742e-01, -3.8846e-01,\n",
              "          -4.1906e-02, -3.8038e-02, -2.2422e-01, -2.5778e-01, -5.8838e-01],\n",
              "         [ 1.2434e-01,  3.2340e-01,  2.0742e-01, -1.0103e-01,  5.4047e-02,\n",
              "          -1.6644e-01, -7.3771e-02, -2.3496e-02,  5.3458e-01,  4.8020e-02,\n",
              "          -1.3726e-01,  1.4832e-03, -7.6896e-02, -2.2424e-01,  2.3998e-04,\n",
              "          -1.4463e-02, -2.3708e-02,  1.6672e-02, -3.3801e-01,  2.1500e-04,\n",
              "           2.9935e-02,  3.3718e-01,  6.9830e-02,  6.6280e-02, -9.1468e-02,\n",
              "           4.3766e-02, -4.7618e-02, -3.7743e-02,  1.4901e-01, -3.3437e-03]],\n",
              "        requires_grad=True),\n",
              " Parameter containing:\n",
              " tensor([-7.2035e-01, -5.8134e-39,  3.0112e-01, -4.6188e-01, -5.7472e-01,\n",
              "         -5.6815e-01,  1.0524e-03,  6.4180e-01,  4.9678e-01,  2.9647e-01,\n",
              "          3.9280e-02, -5.9224e-01, -2.4104e-01, -3.0299e-01,  7.5183e-01,\n",
              "          1.0660e-01], requires_grad=True),\n",
              " Parameter containing:\n",
              " tensor([[-5.7680e-03, -1.0551e-39, -8.1113e-03,  6.7340e-08, -4.9263e-03,\n",
              "          -3.5554e-03,  5.0729e-39, -2.6675e-03, -3.7107e-03,  1.8523e-05,\n",
              "           1.4458e-09, -1.7749e-03, -1.6113e-05, -4.4649e-03, -3.7278e-03,\n",
              "           6.3324e-07],\n",
              "         [ 1.8198e-01,  3.1827e-03, -1.8468e-01, -2.6651e-01,  4.3700e-02,\n",
              "           1.6946e-01,  7.7383e-03,  2.6083e-02,  1.8889e-01,  1.8993e-01,\n",
              "           3.0235e-01, -2.9943e-01, -1.3133e-01, -2.3291e-01, -1.3606e-01,\n",
              "          -1.6062e-01],\n",
              "         [-4.0120e-01, -2.0957e-04,  1.4067e-01,  7.8441e-03, -2.7753e-01,\n",
              "          -2.6342e-02,  5.9735e-03,  4.8663e-02,  2.2376e-01,  1.7328e-01,\n",
              "          -4.4148e-01, -2.2541e-02, -1.7472e-01,  1.2730e-01, -3.4208e-01,\n",
              "          -1.2366e-01],\n",
              "         [ 6.1564e-02,  1.9776e-02,  1.7028e-01, -1.2029e-01, -1.8057e-01,\n",
              "           1.2908e-01,  4.0060e-02,  1.6799e-01, -7.9737e-02,  9.9671e-02,\n",
              "           1.2022e-01, -2.2507e-01, -1.0726e-01,  4.6722e-02, -1.4426e-02,\n",
              "           2.2454e-01],\n",
              "         [ 5.5568e-02,  1.9442e-02,  1.6340e-01, -2.2010e-01,  5.9720e-02,\n",
              "          -1.3356e-01,  2.1933e-01,  1.6528e-01,  1.3970e-01,  1.9911e-01,\n",
              "           1.0882e-01, -1.8305e-01, -6.9860e-02,  7.5116e-02,  1.2766e-01,\n",
              "          -8.5647e-02],\n",
              "         [-1.8091e-01,  4.9539e-04, -1.4062e-01, -2.3226e-01, -4.3640e-01,\n",
              "          -8.7912e-02,  2.8619e-03,  2.2206e-01,  9.5913e-04, -2.3329e-02,\n",
              "           1.1647e-01,  5.3236e-04,  3.0913e-02, -2.1951e-01, -1.8101e-01,\n",
              "           1.7472e-01],\n",
              "         [-1.7203e-01,  7.0112e-14, -2.6478e-01, -4.1114e-02,  1.2269e-01,\n",
              "           1.9158e-01,  3.2049e-02,  1.3991e-01, -2.1337e-01, -2.0525e-01,\n",
              "           2.9434e-02,  1.8491e-02, -1.6104e-01,  1.7481e-01,  2.3394e-01,\n",
              "           1.3525e-01],\n",
              "         [-9.9661e-02, -2.7732e-02,  1.9666e-01,  9.4693e-02,  2.4537e-01,\n",
              "           2.0940e-01, -2.3045e-01,  1.9500e-01, -3.0790e-02, -1.7673e-01,\n",
              "           9.9452e-02, -1.7474e-01,  2.4238e-02,  1.4457e-01,  1.8809e-01,\n",
              "          -2.7024e-01],\n",
              "         [-2.4670e-02, -9.4044e-40, -1.6466e-02,  1.7471e-24, -1.7544e-02,\n",
              "          -1.9384e-02,  4.6020e-39, -1.4896e-02, -2.0130e-02,  4.4070e-06,\n",
              "          -2.4229e-24, -2.2789e-02,  2.8110e-05, -1.4732e-02, -2.2362e-02,\n",
              "          -2.3069e-22],\n",
              "         [-3.1593e-03, -2.8675e-05, -8.7554e-03,  1.3362e-01,  2.1068e-01,\n",
              "           1.5947e-01,  4.4594e-03, -3.3573e-01, -6.5966e-02, -1.1848e-01,\n",
              "           9.3797e-02, -2.9748e-01,  5.8215e-02,  2.2396e-01,  2.0087e-02,\n",
              "          -5.1761e-02],\n",
              "         [-2.7375e-01, -1.9409e-02,  1.2512e-01, -2.2605e-01,  1.3380e-01,\n",
              "          -1.3117e-03,  1.0597e-01,  1.4615e-01,  2.5688e-01,  1.2044e-01,\n",
              "           2.8070e-01, -7.6094e-02, -2.1593e-01,  7.1652e-02,  1.8431e-01,\n",
              "          -4.5912e-02],\n",
              "         [ 2.5153e-01,  4.1074e-02,  6.2548e-02,  3.2774e-01,  4.8207e-02,\n",
              "           1.0956e-01, -2.2815e-01,  2.3084e-02,  2.9572e-02,  7.5554e-02,\n",
              "           4.5170e-02, -7.6466e-02,  2.6506e-01,  2.1444e-01, -2.0307e-01,\n",
              "          -9.2101e-02],\n",
              "         [-1.1956e-01,  4.6321e-04, -2.7421e-01, -7.9345e-02, -4.6434e-01,\n",
              "          -3.6989e-01,  3.7851e-02,  2.3308e-01,  1.0380e-01,  1.3903e-02,\n",
              "           1.1565e-01, -1.8147e-01,  9.1955e-02,  2.0634e-02,  8.5282e-02,\n",
              "           4.1957e-02],\n",
              "         [-1.3834e-03, -3.3563e-39, -3.4161e-04,  8.8446e-05, -3.0690e-04,\n",
              "          -9.7240e-06,  6.8510e-39, -2.1437e-04, -1.2407e-03, -1.7377e-05,\n",
              "           2.0031e-04, -1.0702e-03, -1.0011e-06, -4.8949e-39, -3.8487e-08,\n",
              "           2.0647e-07],\n",
              "         [-6.7570e-03, -1.3881e-05,  1.1003e-01, -2.0153e-01, -3.3539e-01,\n",
              "          -2.7629e-01,  3.6239e-04, -2.8419e-01, -2.1835e-01, -1.3224e-01,\n",
              "           2.8391e-01,  8.8531e-02, -1.4840e-01,  2.2898e-01,  2.2911e-01,\n",
              "           3.3557e-02],\n",
              "         [-1.4592e-01,  3.2569e-02,  1.4097e-02,  1.1457e-01, -2.4535e-02,\n",
              "           8.3532e-02, -3.8504e-02, -5.4432e-02,  1.9740e-01, -6.4310e-02,\n",
              "          -2.1125e-01, -1.1930e-01, -1.2192e-01, -2.3520e-02,  7.2330e-02,\n",
              "           7.4037e-02]], requires_grad=True),\n",
              " Parameter containing:\n",
              " tensor([-2.2147e-39,  6.2998e-01, -5.4325e-01,  8.4350e-01,  7.5238e-01,\n",
              "          2.6654e-01,  7.7463e-01, -6.7190e-01, -1.5651e-22, -6.5144e-01,\n",
              "          6.6613e-01, -7.1399e-01,  3.1437e-01,  6.5050e-39,  9.0231e-02,\n",
              "          6.9825e-01], requires_grad=True),\n",
              " Parameter containing:\n",
              " tensor([[-0.0037,  0.0440, -0.1622,  0.1932,  0.1204,  0.2095,  0.1252, -0.1106,\n",
              "          -0.0284, -0.0588,  0.1154, -0.0966,  0.2025, -0.0033,  0.1754,  0.0260]],\n",
              "        requires_grad=True),\n",
              " Parameter containing:\n",
              " tensor([1.1277], requires_grad=True)]"
            ]
          },
          "metadata": {},
          "execution_count": 70
        }
      ]
    },
    {
      "cell_type": "code",
      "source": [
        "# Avaliando o modelo com a base de teste\n",
        "# Colocando a variave em modo de avaliação\n",
        "classificador.eval()\n"
      ],
      "metadata": {
        "colab": {
          "base_uri": "https://localhost:8080/"
        },
        "id": "2kU5Cmh1QZEf",
        "outputId": "19d2dabe-89c5-453d-b6d6-4f628536169a"
      },
      "execution_count": 71,
      "outputs": [
        {
          "output_type": "execute_result",
          "data": {
            "text/plain": [
              "Sequential(\n",
              "  (0): Linear(in_features=30, out_features=16, bias=True)\n",
              "  (1): ReLU()\n",
              "  (2): Linear(in_features=16, out_features=16, bias=True)\n",
              "  (3): ReLU()\n",
              "  (4): Linear(in_features=16, out_features=1, bias=True)\n",
              "  (5): Sigmoid()\n",
              ")"
            ]
          },
          "metadata": {},
          "execution_count": 71
        }
      ]
    },
    {
      "cell_type": "code",
      "source": [
        "# Covertendo a base de teste para o formato Pytorch\n",
        "previsor_teste = torch.tensor(np.array(previsor_teste), dtype=torch.float)"
      ],
      "metadata": {
        "id": "O5nctq1QSQwP"
      },
      "execution_count": 72,
      "outputs": []
    },
    {
      "cell_type": "code",
      "source": [
        "# Observando se a conversão foi feita\n",
        "type(previsor_teste)"
      ],
      "metadata": {
        "colab": {
          "base_uri": "https://localhost:8080/"
        },
        "id": "H-soyXpWSaZH",
        "outputId": "7ec6c5e9-fa66-4943-8314-d2b169222f6f"
      },
      "execution_count": 73,
      "outputs": [
        {
          "output_type": "execute_result",
          "data": {
            "text/plain": [
              "torch.Tensor"
            ]
          },
          "metadata": {},
          "execution_count": 73
        }
      ]
    },
    {
      "cell_type": "code",
      "source": [
        "# Fazendo as previsões\n",
        "previsoes = classificador.forward(previsor_teste)"
      ],
      "metadata": {
        "id": "gjQvFUzNStRg"
      },
      "execution_count": 74,
      "outputs": []
    },
    {
      "cell_type": "code",
      "source": [
        "# Observando\n",
        "previsoes"
      ],
      "metadata": {
        "colab": {
          "base_uri": "https://localhost:8080/"
        },
        "id": "tWzYAzZOS3ow",
        "outputId": "7712188e-5cb0-490b-f50a-b25bead6328c"
      },
      "execution_count": 75,
      "outputs": [
        {
          "output_type": "execute_result",
          "data": {
            "text/plain": [
              "tensor([[9.9741e-01],\n",
              "        [1.0000e+00],\n",
              "        [8.4218e-02],\n",
              "        [9.7943e-01],\n",
              "        [2.9927e-05],\n",
              "        [9.8188e-01],\n",
              "        [7.9119e-01],\n",
              "        [7.1297e-01],\n",
              "        [9.0256e-01],\n",
              "        [2.6069e-01],\n",
              "        [9.7110e-01],\n",
              "        [9.9996e-01],\n",
              "        [1.2429e-16],\n",
              "        [9.9931e-01],\n",
              "        [9.9833e-01],\n",
              "        [4.1849e-01],\n",
              "        [9.9781e-01],\n",
              "        [1.0000e+00],\n",
              "        [5.3290e-01],\n",
              "        [1.0000e+00],\n",
              "        [7.5167e-17],\n",
              "        [5.6386e-04],\n",
              "        [6.2226e-01],\n",
              "        [1.0000e+00],\n",
              "        [9.7498e-01],\n",
              "        [1.8501e-03],\n",
              "        [8.2726e-01],\n",
              "        [9.9997e-01],\n",
              "        [3.5894e-07],\n",
              "        [9.9960e-01],\n",
              "        [4.1662e-01],\n",
              "        [9.9975e-01],\n",
              "        [6.0744e-01],\n",
              "        [9.6328e-01],\n",
              "        [1.5091e-01],\n",
              "        [9.9765e-01],\n",
              "        [5.4899e-01],\n",
              "        [1.0000e+00],\n",
              "        [9.9039e-01],\n",
              "        [4.6857e-04],\n",
              "        [3.3185e-03],\n",
              "        [8.4707e-01],\n",
              "        [2.2888e-07],\n",
              "        [2.4530e-01],\n",
              "        [3.5528e-06],\n",
              "        [1.1701e-01],\n",
              "        [1.4682e-04],\n",
              "        [1.2068e-09],\n",
              "        [8.6106e-01],\n",
              "        [1.8932e-01],\n",
              "        [7.0860e-01],\n",
              "        [1.0593e-18],\n",
              "        [9.7236e-01],\n",
              "        [7.3280e-01],\n",
              "        [9.9693e-01],\n",
              "        [7.8807e-01],\n",
              "        [9.9358e-01],\n",
              "        [4.0097e-10],\n",
              "        [5.0400e-08],\n",
              "        [9.8911e-01],\n",
              "        [7.9260e-06],\n",
              "        [9.9618e-01],\n",
              "        [9.9996e-01],\n",
              "        [9.9720e-01],\n",
              "        [8.2057e-01],\n",
              "        [7.8133e-09],\n",
              "        [1.0000e+00],\n",
              "        [1.0000e+00],\n",
              "        [1.0000e+00],\n",
              "        [4.8524e-01],\n",
              "        [1.0000e+00],\n",
              "        [9.8889e-01],\n",
              "        [2.1128e-01],\n",
              "        [8.9348e-01],\n",
              "        [1.8569e-05],\n",
              "        [9.9921e-01],\n",
              "        [5.6419e-01],\n",
              "        [1.7493e-17],\n",
              "        [3.7899e-05],\n",
              "        [6.0148e-03],\n",
              "        [8.4050e-01],\n",
              "        [4.9547e-05],\n",
              "        [4.3634e-12],\n",
              "        [9.9498e-01],\n",
              "        [1.0000e+00],\n",
              "        [1.0000e+00],\n",
              "        [4.1719e-02],\n",
              "        [9.9925e-01],\n",
              "        [5.2431e-04],\n",
              "        [5.6003e-01],\n",
              "        [4.4974e-02],\n",
              "        [9.7685e-01],\n",
              "        [3.9148e-01],\n",
              "        [4.5340e-02],\n",
              "        [9.9978e-01],\n",
              "        [9.9995e-01],\n",
              "        [9.8002e-01],\n",
              "        [9.9991e-01],\n",
              "        [5.8625e-01],\n",
              "        [1.0000e+00],\n",
              "        [9.9143e-01],\n",
              "        [1.0000e+00],\n",
              "        [9.9483e-01],\n",
              "        [9.9763e-01],\n",
              "        [1.0000e+00],\n",
              "        [1.0000e+00],\n",
              "        [1.0000e+00],\n",
              "        [9.9997e-01],\n",
              "        [1.0000e+00],\n",
              "        [9.9984e-01],\n",
              "        [1.0000e+00],\n",
              "        [9.9968e-01],\n",
              "        [5.7867e-01],\n",
              "        [1.6366e-07],\n",
              "        [9.4959e-01],\n",
              "        [1.8497e-03],\n",
              "        [9.9935e-01],\n",
              "        [6.4064e-05],\n",
              "        [9.9992e-01],\n",
              "        [9.9423e-01],\n",
              "        [8.8039e-02],\n",
              "        [9.8246e-01],\n",
              "        [9.9732e-01],\n",
              "        [9.9996e-01],\n",
              "        [1.0441e-12],\n",
              "        [9.8851e-01],\n",
              "        [1.6941e-01],\n",
              "        [5.2371e-02],\n",
              "        [1.0000e+00],\n",
              "        [1.0000e+00],\n",
              "        [5.4684e-13],\n",
              "        [9.9399e-01],\n",
              "        [1.0000e+00],\n",
              "        [4.9432e-03],\n",
              "        [5.1081e-05],\n",
              "        [9.6524e-01],\n",
              "        [9.9861e-01],\n",
              "        [9.9938e-01],\n",
              "        [5.8679e-02],\n",
              "        [7.0984e-04],\n",
              "        [2.3549e-06],\n",
              "        [9.8166e-01],\n",
              "        [8.5430e-10]], grad_fn=<SigmoidBackward0>)"
            ]
          },
          "metadata": {},
          "execution_count": 75
        }
      ]
    },
    {
      "cell_type": "code",
      "source": [
        "# Classificando, se maior que 0.5 será igual a 1 true, maligno\n",
        "previsoes = np.array(previsoes > 0.5)\n",
        "previsoes"
      ],
      "metadata": {
        "colab": {
          "base_uri": "https://localhost:8080/"
        },
        "id": "pteHpngQTcX2",
        "outputId": "8a08f009-063d-4802-e489-1a639392808e"
      },
      "execution_count": 76,
      "outputs": [
        {
          "output_type": "execute_result",
          "data": {
            "text/plain": [
              "array([[ True],\n",
              "       [ True],\n",
              "       [False],\n",
              "       [ True],\n",
              "       [False],\n",
              "       [ True],\n",
              "       [ True],\n",
              "       [ True],\n",
              "       [ True],\n",
              "       [False],\n",
              "       [ True],\n",
              "       [ True],\n",
              "       [False],\n",
              "       [ True],\n",
              "       [ True],\n",
              "       [False],\n",
              "       [ True],\n",
              "       [ True],\n",
              "       [ True],\n",
              "       [ True],\n",
              "       [False],\n",
              "       [False],\n",
              "       [ True],\n",
              "       [ True],\n",
              "       [ True],\n",
              "       [False],\n",
              "       [ True],\n",
              "       [ True],\n",
              "       [False],\n",
              "       [ True],\n",
              "       [False],\n",
              "       [ True],\n",
              "       [ True],\n",
              "       [ True],\n",
              "       [False],\n",
              "       [ True],\n",
              "       [ True],\n",
              "       [ True],\n",
              "       [ True],\n",
              "       [False],\n",
              "       [False],\n",
              "       [ True],\n",
              "       [False],\n",
              "       [False],\n",
              "       [False],\n",
              "       [False],\n",
              "       [False],\n",
              "       [False],\n",
              "       [ True],\n",
              "       [False],\n",
              "       [ True],\n",
              "       [False],\n",
              "       [ True],\n",
              "       [ True],\n",
              "       [ True],\n",
              "       [ True],\n",
              "       [ True],\n",
              "       [False],\n",
              "       [False],\n",
              "       [ True],\n",
              "       [False],\n",
              "       [ True],\n",
              "       [ True],\n",
              "       [ True],\n",
              "       [ True],\n",
              "       [False],\n",
              "       [ True],\n",
              "       [ True],\n",
              "       [ True],\n",
              "       [False],\n",
              "       [ True],\n",
              "       [ True],\n",
              "       [False],\n",
              "       [ True],\n",
              "       [False],\n",
              "       [ True],\n",
              "       [ True],\n",
              "       [False],\n",
              "       [False],\n",
              "       [False],\n",
              "       [ True],\n",
              "       [False],\n",
              "       [False],\n",
              "       [ True],\n",
              "       [ True],\n",
              "       [ True],\n",
              "       [False],\n",
              "       [ True],\n",
              "       [False],\n",
              "       [ True],\n",
              "       [False],\n",
              "       [ True],\n",
              "       [False],\n",
              "       [False],\n",
              "       [ True],\n",
              "       [ True],\n",
              "       [ True],\n",
              "       [ True],\n",
              "       [ True],\n",
              "       [ True],\n",
              "       [ True],\n",
              "       [ True],\n",
              "       [ True],\n",
              "       [ True],\n",
              "       [ True],\n",
              "       [ True],\n",
              "       [ True],\n",
              "       [ True],\n",
              "       [ True],\n",
              "       [ True],\n",
              "       [ True],\n",
              "       [ True],\n",
              "       [ True],\n",
              "       [False],\n",
              "       [ True],\n",
              "       [False],\n",
              "       [ True],\n",
              "       [False],\n",
              "       [ True],\n",
              "       [ True],\n",
              "       [False],\n",
              "       [ True],\n",
              "       [ True],\n",
              "       [ True],\n",
              "       [False],\n",
              "       [ True],\n",
              "       [False],\n",
              "       [False],\n",
              "       [ True],\n",
              "       [ True],\n",
              "       [False],\n",
              "       [ True],\n",
              "       [ True],\n",
              "       [False],\n",
              "       [False],\n",
              "       [ True],\n",
              "       [ True],\n",
              "       [ True],\n",
              "       [False],\n",
              "       [False],\n",
              "       [False],\n",
              "       [ True],\n",
              "       [False]])"
            ]
          },
          "metadata": {},
          "execution_count": 76
        }
      ]
    },
    {
      "cell_type": "code",
      "source": [
        "# Verificando a taxa de acerto da rede neural com as previsões e os registros reais\n",
        "precisao = accuracy_score(classe_teste, previsoes)\n",
        "precisao\n"
      ],
      "metadata": {
        "colab": {
          "base_uri": "https://localhost:8080/"
        },
        "id": "_sqZpVGhT7ag",
        "outputId": "39605bbe-70af-4fdd-fccb-71edf7d2a725"
      },
      "execution_count": 78,
      "outputs": [
        {
          "output_type": "execute_result",
          "data": {
            "text/plain": [
              "0.9020979020979021"
            ]
          },
          "metadata": {},
          "execution_count": 78
        }
      ]
    }
  ]
}