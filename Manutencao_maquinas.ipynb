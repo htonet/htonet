{
  "nbformat": 4,
  "nbformat_minor": 0,
  "metadata": {
    "colab": {
      "provenance": []
    },
    "kernelspec": {
      "name": "python3",
      "display_name": "Python 3"
    },
    "language_info": {
      "name": "python"
    }
  },
  "cells": [
    {
      "cell_type": "code",
      "execution_count": 1,
      "metadata": {
        "id": "9lACMa26InRX"
      },
      "outputs": [],
      "source": [
        "import pandas as pd\n",
        "import numpy as np\n",
        "import plotly.express as px\n",
        "import plotly.figure_factory as ff\n",
        "import plotly.graph_objects as go\n",
        "import matplotlib.pyplot as plt\n",
        "import seaborn as sns\n",
        "from plotly.subplots import make_subplots\n",
        "from scipy import sparse\n",
        "from numpy import count_nonzero\n",
        "from sklearn.model_selection import train_test_split, GridSearchCV\n",
        "from sklearn.metrics import precision_score\n",
        "from sklearn.metrics import confusion_matrix, ConfusionMatrixDisplay\n",
        "from sklearn.metrics import classification_report\n",
        "from sklearn.metrics import r2_score, accuracy_score\n",
        "from sklearn.preprocessing import StandardScaler\n",
        "from sklearn.ensemble import RandomForestClassifier, GradientBoostingClassifier\n",
        "from sklearn.linear_model import LogisticRegression\n",
        "from sklearn.svm import SVC\n",
        "from sklearn.metrics import classification_report, confusion_matrix, roc_curve, auc, accuracy_score\n",
        "import joblib\n",
        "import warnings\n",
        "pd.set_option('display.max_columns', None)\n",
        "pd.set_option('display.max_rows', None)\n",
        "warnings.filterwarnings(\"ignore\")\n",
        "pd.options.display.float_format = '{:.2f}'.format"
      ]
    },
    {
      "cell_type": "code",
      "source": [
        "# Carregando a base de treino\n",
        "missing_value_formats = [\"n.a.\", \"?\", \"NA\", \"n/a\", \"na\", \"--\"]\n",
        "dados = pd.read_csv('/content/data.csv', na_values = missing_value_formats)"
      ],
      "metadata": {
        "id": "P72q9VPOJw6p"
      },
      "execution_count": 2,
      "outputs": []
    },
    {
      "cell_type": "code",
      "source": [
        "# Observando\n",
        "dados.head()"
      ],
      "metadata": {
        "colab": {
          "base_uri": "https://localhost:8080/",
          "height": 206
        },
        "id": "WYj9SS40J3Gf",
        "outputId": "4a17a472-6996-4e4e-a9e6-3daf51a30b00"
      },
      "execution_count": 3,
      "outputs": [
        {
          "output_type": "execute_result",
          "data": {
            "text/plain": [
              "   footfall  tempMode  AQ  USS  CS  VOC  RP  IP  Temperature  fail\n",
              "0         0         7   7    1   6    6  36   3            1     1\n",
              "1       190         1   3    3   5    1  20   4            1     0\n",
              "2        31         7   2    2   6    1  24   6            1     0\n",
              "3        83         4   3    4   5    1  28   6            1     0\n",
              "4       640         7   5    6   4    0  68   6            1     0"
            ],
            "text/html": [
              "\n",
              "  <div id=\"df-b36edcde-5e1d-40eb-a509-d1fba1abc152\" class=\"colab-df-container\">\n",
              "    <div>\n",
              "<style scoped>\n",
              "    .dataframe tbody tr th:only-of-type {\n",
              "        vertical-align: middle;\n",
              "    }\n",
              "\n",
              "    .dataframe tbody tr th {\n",
              "        vertical-align: top;\n",
              "    }\n",
              "\n",
              "    .dataframe thead th {\n",
              "        text-align: right;\n",
              "    }\n",
              "</style>\n",
              "<table border=\"1\" class=\"dataframe\">\n",
              "  <thead>\n",
              "    <tr style=\"text-align: right;\">\n",
              "      <th></th>\n",
              "      <th>footfall</th>\n",
              "      <th>tempMode</th>\n",
              "      <th>AQ</th>\n",
              "      <th>USS</th>\n",
              "      <th>CS</th>\n",
              "      <th>VOC</th>\n",
              "      <th>RP</th>\n",
              "      <th>IP</th>\n",
              "      <th>Temperature</th>\n",
              "      <th>fail</th>\n",
              "    </tr>\n",
              "  </thead>\n",
              "  <tbody>\n",
              "    <tr>\n",
              "      <th>0</th>\n",
              "      <td>0</td>\n",
              "      <td>7</td>\n",
              "      <td>7</td>\n",
              "      <td>1</td>\n",
              "      <td>6</td>\n",
              "      <td>6</td>\n",
              "      <td>36</td>\n",
              "      <td>3</td>\n",
              "      <td>1</td>\n",
              "      <td>1</td>\n",
              "    </tr>\n",
              "    <tr>\n",
              "      <th>1</th>\n",
              "      <td>190</td>\n",
              "      <td>1</td>\n",
              "      <td>3</td>\n",
              "      <td>3</td>\n",
              "      <td>5</td>\n",
              "      <td>1</td>\n",
              "      <td>20</td>\n",
              "      <td>4</td>\n",
              "      <td>1</td>\n",
              "      <td>0</td>\n",
              "    </tr>\n",
              "    <tr>\n",
              "      <th>2</th>\n",
              "      <td>31</td>\n",
              "      <td>7</td>\n",
              "      <td>2</td>\n",
              "      <td>2</td>\n",
              "      <td>6</td>\n",
              "      <td>1</td>\n",
              "      <td>24</td>\n",
              "      <td>6</td>\n",
              "      <td>1</td>\n",
              "      <td>0</td>\n",
              "    </tr>\n",
              "    <tr>\n",
              "      <th>3</th>\n",
              "      <td>83</td>\n",
              "      <td>4</td>\n",
              "      <td>3</td>\n",
              "      <td>4</td>\n",
              "      <td>5</td>\n",
              "      <td>1</td>\n",
              "      <td>28</td>\n",
              "      <td>6</td>\n",
              "      <td>1</td>\n",
              "      <td>0</td>\n",
              "    </tr>\n",
              "    <tr>\n",
              "      <th>4</th>\n",
              "      <td>640</td>\n",
              "      <td>7</td>\n",
              "      <td>5</td>\n",
              "      <td>6</td>\n",
              "      <td>4</td>\n",
              "      <td>0</td>\n",
              "      <td>68</td>\n",
              "      <td>6</td>\n",
              "      <td>1</td>\n",
              "      <td>0</td>\n",
              "    </tr>\n",
              "  </tbody>\n",
              "</table>\n",
              "</div>\n",
              "    <div class=\"colab-df-buttons\">\n",
              "\n",
              "  <div class=\"colab-df-container\">\n",
              "    <button class=\"colab-df-convert\" onclick=\"convertToInteractive('df-b36edcde-5e1d-40eb-a509-d1fba1abc152')\"\n",
              "            title=\"Convert this dataframe to an interactive table.\"\n",
              "            style=\"display:none;\">\n",
              "\n",
              "  <svg xmlns=\"http://www.w3.org/2000/svg\" height=\"24px\" viewBox=\"0 -960 960 960\">\n",
              "    <path d=\"M120-120v-720h720v720H120Zm60-500h600v-160H180v160Zm220 220h160v-160H400v160Zm0 220h160v-160H400v160ZM180-400h160v-160H180v160Zm440 0h160v-160H620v160ZM180-180h160v-160H180v160Zm440 0h160v-160H620v160Z\"/>\n",
              "  </svg>\n",
              "    </button>\n",
              "\n",
              "  <style>\n",
              "    .colab-df-container {\n",
              "      display:flex;\n",
              "      gap: 12px;\n",
              "    }\n",
              "\n",
              "    .colab-df-convert {\n",
              "      background-color: #E8F0FE;\n",
              "      border: none;\n",
              "      border-radius: 50%;\n",
              "      cursor: pointer;\n",
              "      display: none;\n",
              "      fill: #1967D2;\n",
              "      height: 32px;\n",
              "      padding: 0 0 0 0;\n",
              "      width: 32px;\n",
              "    }\n",
              "\n",
              "    .colab-df-convert:hover {\n",
              "      background-color: #E2EBFA;\n",
              "      box-shadow: 0px 1px 2px rgba(60, 64, 67, 0.3), 0px 1px 3px 1px rgba(60, 64, 67, 0.15);\n",
              "      fill: #174EA6;\n",
              "    }\n",
              "\n",
              "    .colab-df-buttons div {\n",
              "      margin-bottom: 4px;\n",
              "    }\n",
              "\n",
              "    [theme=dark] .colab-df-convert {\n",
              "      background-color: #3B4455;\n",
              "      fill: #D2E3FC;\n",
              "    }\n",
              "\n",
              "    [theme=dark] .colab-df-convert:hover {\n",
              "      background-color: #434B5C;\n",
              "      box-shadow: 0px 1px 3px 1px rgba(0, 0, 0, 0.15);\n",
              "      filter: drop-shadow(0px 1px 2px rgba(0, 0, 0, 0.3));\n",
              "      fill: #FFFFFF;\n",
              "    }\n",
              "  </style>\n",
              "\n",
              "    <script>\n",
              "      const buttonEl =\n",
              "        document.querySelector('#df-b36edcde-5e1d-40eb-a509-d1fba1abc152 button.colab-df-convert');\n",
              "      buttonEl.style.display =\n",
              "        google.colab.kernel.accessAllowed ? 'block' : 'none';\n",
              "\n",
              "      async function convertToInteractive(key) {\n",
              "        const element = document.querySelector('#df-b36edcde-5e1d-40eb-a509-d1fba1abc152');\n",
              "        const dataTable =\n",
              "          await google.colab.kernel.invokeFunction('convertToInteractive',\n",
              "                                                    [key], {});\n",
              "        if (!dataTable) return;\n",
              "\n",
              "        const docLinkHtml = 'Like what you see? Visit the ' +\n",
              "          '<a target=\"_blank\" href=https://colab.research.google.com/notebooks/data_table.ipynb>data table notebook</a>'\n",
              "          + ' to learn more about interactive tables.';\n",
              "        element.innerHTML = '';\n",
              "        dataTable['output_type'] = 'display_data';\n",
              "        await google.colab.output.renderOutput(dataTable, element);\n",
              "        const docLink = document.createElement('div');\n",
              "        docLink.innerHTML = docLinkHtml;\n",
              "        element.appendChild(docLink);\n",
              "      }\n",
              "    </script>\n",
              "  </div>\n",
              "\n",
              "\n",
              "<div id=\"df-95257611-76cf-489b-b22c-8bc3e481b0be\">\n",
              "  <button class=\"colab-df-quickchart\" onclick=\"quickchart('df-95257611-76cf-489b-b22c-8bc3e481b0be')\"\n",
              "            title=\"Suggest charts\"\n",
              "            style=\"display:none;\">\n",
              "\n",
              "<svg xmlns=\"http://www.w3.org/2000/svg\" height=\"24px\"viewBox=\"0 0 24 24\"\n",
              "     width=\"24px\">\n",
              "    <g>\n",
              "        <path d=\"M19 3H5c-1.1 0-2 .9-2 2v14c0 1.1.9 2 2 2h14c1.1 0 2-.9 2-2V5c0-1.1-.9-2-2-2zM9 17H7v-7h2v7zm4 0h-2V7h2v10zm4 0h-2v-4h2v4z\"/>\n",
              "    </g>\n",
              "</svg>\n",
              "  </button>\n",
              "\n",
              "<style>\n",
              "  .colab-df-quickchart {\n",
              "      --bg-color: #E8F0FE;\n",
              "      --fill-color: #1967D2;\n",
              "      --hover-bg-color: #E2EBFA;\n",
              "      --hover-fill-color: #174EA6;\n",
              "      --disabled-fill-color: #AAA;\n",
              "      --disabled-bg-color: #DDD;\n",
              "  }\n",
              "\n",
              "  [theme=dark] .colab-df-quickchart {\n",
              "      --bg-color: #3B4455;\n",
              "      --fill-color: #D2E3FC;\n",
              "      --hover-bg-color: #434B5C;\n",
              "      --hover-fill-color: #FFFFFF;\n",
              "      --disabled-bg-color: #3B4455;\n",
              "      --disabled-fill-color: #666;\n",
              "  }\n",
              "\n",
              "  .colab-df-quickchart {\n",
              "    background-color: var(--bg-color);\n",
              "    border: none;\n",
              "    border-radius: 50%;\n",
              "    cursor: pointer;\n",
              "    display: none;\n",
              "    fill: var(--fill-color);\n",
              "    height: 32px;\n",
              "    padding: 0;\n",
              "    width: 32px;\n",
              "  }\n",
              "\n",
              "  .colab-df-quickchart:hover {\n",
              "    background-color: var(--hover-bg-color);\n",
              "    box-shadow: 0 1px 2px rgba(60, 64, 67, 0.3), 0 1px 3px 1px rgba(60, 64, 67, 0.15);\n",
              "    fill: var(--button-hover-fill-color);\n",
              "  }\n",
              "\n",
              "  .colab-df-quickchart-complete:disabled,\n",
              "  .colab-df-quickchart-complete:disabled:hover {\n",
              "    background-color: var(--disabled-bg-color);\n",
              "    fill: var(--disabled-fill-color);\n",
              "    box-shadow: none;\n",
              "  }\n",
              "\n",
              "  .colab-df-spinner {\n",
              "    border: 2px solid var(--fill-color);\n",
              "    border-color: transparent;\n",
              "    border-bottom-color: var(--fill-color);\n",
              "    animation:\n",
              "      spin 1s steps(1) infinite;\n",
              "  }\n",
              "\n",
              "  @keyframes spin {\n",
              "    0% {\n",
              "      border-color: transparent;\n",
              "      border-bottom-color: var(--fill-color);\n",
              "      border-left-color: var(--fill-color);\n",
              "    }\n",
              "    20% {\n",
              "      border-color: transparent;\n",
              "      border-left-color: var(--fill-color);\n",
              "      border-top-color: var(--fill-color);\n",
              "    }\n",
              "    30% {\n",
              "      border-color: transparent;\n",
              "      border-left-color: var(--fill-color);\n",
              "      border-top-color: var(--fill-color);\n",
              "      border-right-color: var(--fill-color);\n",
              "    }\n",
              "    40% {\n",
              "      border-color: transparent;\n",
              "      border-right-color: var(--fill-color);\n",
              "      border-top-color: var(--fill-color);\n",
              "    }\n",
              "    60% {\n",
              "      border-color: transparent;\n",
              "      border-right-color: var(--fill-color);\n",
              "    }\n",
              "    80% {\n",
              "      border-color: transparent;\n",
              "      border-right-color: var(--fill-color);\n",
              "      border-bottom-color: var(--fill-color);\n",
              "    }\n",
              "    90% {\n",
              "      border-color: transparent;\n",
              "      border-bottom-color: var(--fill-color);\n",
              "    }\n",
              "  }\n",
              "</style>\n",
              "\n",
              "  <script>\n",
              "    async function quickchart(key) {\n",
              "      const quickchartButtonEl =\n",
              "        document.querySelector('#' + key + ' button');\n",
              "      quickchartButtonEl.disabled = true;  // To prevent multiple clicks.\n",
              "      quickchartButtonEl.classList.add('colab-df-spinner');\n",
              "      try {\n",
              "        const charts = await google.colab.kernel.invokeFunction(\n",
              "            'suggestCharts', [key], {});\n",
              "      } catch (error) {\n",
              "        console.error('Error during call to suggestCharts:', error);\n",
              "      }\n",
              "      quickchartButtonEl.classList.remove('colab-df-spinner');\n",
              "      quickchartButtonEl.classList.add('colab-df-quickchart-complete');\n",
              "    }\n",
              "    (() => {\n",
              "      let quickchartButtonEl =\n",
              "        document.querySelector('#df-95257611-76cf-489b-b22c-8bc3e481b0be button');\n",
              "      quickchartButtonEl.style.display =\n",
              "        google.colab.kernel.accessAllowed ? 'block' : 'none';\n",
              "    })();\n",
              "  </script>\n",
              "</div>\n",
              "\n",
              "    </div>\n",
              "  </div>\n"
            ],
            "application/vnd.google.colaboratory.intrinsic+json": {
              "type": "dataframe",
              "variable_name": "dados",
              "summary": "{\n  \"name\": \"dados\",\n  \"rows\": 944,\n  \"fields\": [\n    {\n      \"column\": \"footfall\",\n      \"properties\": {\n        \"dtype\": \"number\",\n        \"std\": 1082,\n        \"min\": 0,\n        \"max\": 7300,\n        \"num_unique_values\": 99,\n        \"samples\": [\n          370,\n          170,\n          88\n        ],\n        \"semantic_type\": \"\",\n        \"description\": \"\"\n      }\n    },\n    {\n      \"column\": \"tempMode\",\n      \"properties\": {\n        \"dtype\": \"number\",\n        \"std\": 2,\n        \"min\": 0,\n        \"max\": 7,\n        \"num_unique_values\": 8,\n        \"samples\": [\n          1,\n          5,\n          7\n        ],\n        \"semantic_type\": \"\",\n        \"description\": \"\"\n      }\n    },\n    {\n      \"column\": \"AQ\",\n      \"properties\": {\n        \"dtype\": \"number\",\n        \"std\": 1,\n        \"min\": 1,\n        \"max\": 7,\n        \"num_unique_values\": 7,\n        \"samples\": [\n          7,\n          3,\n          6\n        ],\n        \"semantic_type\": \"\",\n        \"description\": \"\"\n      }\n    },\n    {\n      \"column\": \"USS\",\n      \"properties\": {\n        \"dtype\": \"number\",\n        \"std\": 1,\n        \"min\": 1,\n        \"max\": 7,\n        \"num_unique_values\": 7,\n        \"samples\": [\n          1,\n          3,\n          7\n        ],\n        \"semantic_type\": \"\",\n        \"description\": \"\"\n      }\n    },\n    {\n      \"column\": \"CS\",\n      \"properties\": {\n        \"dtype\": \"number\",\n        \"std\": 1,\n        \"min\": 1,\n        \"max\": 7,\n        \"num_unique_values\": 7,\n        \"samples\": [\n          6,\n          5,\n          2\n        ],\n        \"semantic_type\": \"\",\n        \"description\": \"\"\n      }\n    },\n    {\n      \"column\": \"VOC\",\n      \"properties\": {\n        \"dtype\": \"number\",\n        \"std\": 2,\n        \"min\": 0,\n        \"max\": 6,\n        \"num_unique_values\": 7,\n        \"samples\": [\n          6,\n          1,\n          5\n        ],\n        \"semantic_type\": \"\",\n        \"description\": \"\"\n      }\n    },\n    {\n      \"column\": \"RP\",\n      \"properties\": {\n        \"dtype\": \"number\",\n        \"std\": 16,\n        \"min\": 19,\n        \"max\": 91,\n        \"num_unique_values\": 71,\n        \"samples\": [\n          34,\n          36,\n          53\n        ],\n        \"semantic_type\": \"\",\n        \"description\": \"\"\n      }\n    },\n    {\n      \"column\": \"IP\",\n      \"properties\": {\n        \"dtype\": \"number\",\n        \"std\": 1,\n        \"min\": 1,\n        \"max\": 7,\n        \"num_unique_values\": 7,\n        \"samples\": [\n          3,\n          4,\n          1\n        ],\n        \"semantic_type\": \"\",\n        \"description\": \"\"\n      }\n    },\n    {\n      \"column\": \"Temperature\",\n      \"properties\": {\n        \"dtype\": \"number\",\n        \"std\": 5,\n        \"min\": 1,\n        \"max\": 24,\n        \"num_unique_values\": 24,\n        \"samples\": [\n          9,\n          17,\n          1\n        ],\n        \"semantic_type\": \"\",\n        \"description\": \"\"\n      }\n    },\n    {\n      \"column\": \"fail\",\n      \"properties\": {\n        \"dtype\": \"number\",\n        \"std\": 0,\n        \"min\": 0,\n        \"max\": 1,\n        \"num_unique_values\": 2,\n        \"samples\": [\n          0,\n          1\n        ],\n        \"semantic_type\": \"\",\n        \"description\": \"\"\n      }\n    }\n  ]\n}"
            }
          },
          "metadata": {},
          "execution_count": 3
        }
      ]
    },
    {
      "cell_type": "code",
      "source": [
        "# Observando numero de linhas e colunas\n",
        "dados.shape"
      ],
      "metadata": {
        "colab": {
          "base_uri": "https://localhost:8080/"
        },
        "id": "CAHsZalAJ8Y_",
        "outputId": "131d2e20-f00f-483d-c7fb-ae4614ed339a"
      },
      "execution_count": 4,
      "outputs": [
        {
          "output_type": "execute_result",
          "data": {
            "text/plain": [
              "(944, 10)"
            ]
          },
          "metadata": {},
          "execution_count": 4
        }
      ]
    },
    {
      "cell_type": "code",
      "source": [
        "# Informações dos tipos de variáveis\n",
        "dados.info()"
      ],
      "metadata": {
        "colab": {
          "base_uri": "https://localhost:8080/"
        },
        "id": "emC1P5KVJ_vm",
        "outputId": "bc8cef45-c1f5-4980-dca1-7708cd2ea56f"
      },
      "execution_count": 5,
      "outputs": [
        {
          "output_type": "stream",
          "name": "stdout",
          "text": [
            "<class 'pandas.core.frame.DataFrame'>\n",
            "RangeIndex: 944 entries, 0 to 943\n",
            "Data columns (total 10 columns):\n",
            " #   Column       Non-Null Count  Dtype\n",
            "---  ------       --------------  -----\n",
            " 0   footfall     944 non-null    int64\n",
            " 1   tempMode     944 non-null    int64\n",
            " 2   AQ           944 non-null    int64\n",
            " 3   USS          944 non-null    int64\n",
            " 4   CS           944 non-null    int64\n",
            " 5   VOC          944 non-null    int64\n",
            " 6   RP           944 non-null    int64\n",
            " 7   IP           944 non-null    int64\n",
            " 8   Temperature  944 non-null    int64\n",
            " 9   fail         944 non-null    int64\n",
            "dtypes: int64(10)\n",
            "memory usage: 73.9 KB\n"
          ]
        }
      ]
    },
    {
      "cell_type": "code",
      "source": [
        "# Informações estatísticas\n",
        "dados.describe()"
      ],
      "metadata": {
        "colab": {
          "base_uri": "https://localhost:8080/",
          "height": 300
        },
        "id": "B4MkOvUeKc75",
        "outputId": "e61c2c76-7be3-4f2f-bcba-891862fd2013"
      },
      "execution_count": 6,
      "outputs": [
        {
          "output_type": "execute_result",
          "data": {
            "text/plain": [
              "       footfall  tempMode     AQ    USS     CS    VOC     RP     IP  \\\n",
              "count    944.00    944.00 944.00 944.00 944.00 944.00 944.00 944.00   \n",
              "mean     306.38      3.73   4.33   2.94   5.39   2.84  47.04   4.57   \n",
              "std     1082.61      2.68   1.44   1.38   1.27   2.27  16.42   1.60   \n",
              "min        0.00      0.00   1.00   1.00   1.00   0.00  19.00   1.00   \n",
              "25%        1.00      1.00   3.00   2.00   5.00   1.00  34.00   3.00   \n",
              "50%       22.00      3.00   4.00   3.00   6.00   2.00  44.00   4.00   \n",
              "75%      110.00      7.00   6.00   4.00   6.00   5.00  58.00   6.00   \n",
              "max     7300.00      7.00   7.00   7.00   7.00   6.00  91.00   7.00   \n",
              "\n",
              "       Temperature   fail  \n",
              "count       944.00 944.00  \n",
              "mean         16.33   0.42  \n",
              "std           5.97   0.49  \n",
              "min           1.00   0.00  \n",
              "25%          14.00   0.00  \n",
              "50%          17.00   0.00  \n",
              "75%          21.00   1.00  \n",
              "max          24.00   1.00  "
            ],
            "text/html": [
              "\n",
              "  <div id=\"df-c6931ff1-13ec-4b9e-aa8b-e75a016e22e2\" class=\"colab-df-container\">\n",
              "    <div>\n",
              "<style scoped>\n",
              "    .dataframe tbody tr th:only-of-type {\n",
              "        vertical-align: middle;\n",
              "    }\n",
              "\n",
              "    .dataframe tbody tr th {\n",
              "        vertical-align: top;\n",
              "    }\n",
              "\n",
              "    .dataframe thead th {\n",
              "        text-align: right;\n",
              "    }\n",
              "</style>\n",
              "<table border=\"1\" class=\"dataframe\">\n",
              "  <thead>\n",
              "    <tr style=\"text-align: right;\">\n",
              "      <th></th>\n",
              "      <th>footfall</th>\n",
              "      <th>tempMode</th>\n",
              "      <th>AQ</th>\n",
              "      <th>USS</th>\n",
              "      <th>CS</th>\n",
              "      <th>VOC</th>\n",
              "      <th>RP</th>\n",
              "      <th>IP</th>\n",
              "      <th>Temperature</th>\n",
              "      <th>fail</th>\n",
              "    </tr>\n",
              "  </thead>\n",
              "  <tbody>\n",
              "    <tr>\n",
              "      <th>count</th>\n",
              "      <td>944.00</td>\n",
              "      <td>944.00</td>\n",
              "      <td>944.00</td>\n",
              "      <td>944.00</td>\n",
              "      <td>944.00</td>\n",
              "      <td>944.00</td>\n",
              "      <td>944.00</td>\n",
              "      <td>944.00</td>\n",
              "      <td>944.00</td>\n",
              "      <td>944.00</td>\n",
              "    </tr>\n",
              "    <tr>\n",
              "      <th>mean</th>\n",
              "      <td>306.38</td>\n",
              "      <td>3.73</td>\n",
              "      <td>4.33</td>\n",
              "      <td>2.94</td>\n",
              "      <td>5.39</td>\n",
              "      <td>2.84</td>\n",
              "      <td>47.04</td>\n",
              "      <td>4.57</td>\n",
              "      <td>16.33</td>\n",
              "      <td>0.42</td>\n",
              "    </tr>\n",
              "    <tr>\n",
              "      <th>std</th>\n",
              "      <td>1082.61</td>\n",
              "      <td>2.68</td>\n",
              "      <td>1.44</td>\n",
              "      <td>1.38</td>\n",
              "      <td>1.27</td>\n",
              "      <td>2.27</td>\n",
              "      <td>16.42</td>\n",
              "      <td>1.60</td>\n",
              "      <td>5.97</td>\n",
              "      <td>0.49</td>\n",
              "    </tr>\n",
              "    <tr>\n",
              "      <th>min</th>\n",
              "      <td>0.00</td>\n",
              "      <td>0.00</td>\n",
              "      <td>1.00</td>\n",
              "      <td>1.00</td>\n",
              "      <td>1.00</td>\n",
              "      <td>0.00</td>\n",
              "      <td>19.00</td>\n",
              "      <td>1.00</td>\n",
              "      <td>1.00</td>\n",
              "      <td>0.00</td>\n",
              "    </tr>\n",
              "    <tr>\n",
              "      <th>25%</th>\n",
              "      <td>1.00</td>\n",
              "      <td>1.00</td>\n",
              "      <td>3.00</td>\n",
              "      <td>2.00</td>\n",
              "      <td>5.00</td>\n",
              "      <td>1.00</td>\n",
              "      <td>34.00</td>\n",
              "      <td>3.00</td>\n",
              "      <td>14.00</td>\n",
              "      <td>0.00</td>\n",
              "    </tr>\n",
              "    <tr>\n",
              "      <th>50%</th>\n",
              "      <td>22.00</td>\n",
              "      <td>3.00</td>\n",
              "      <td>4.00</td>\n",
              "      <td>3.00</td>\n",
              "      <td>6.00</td>\n",
              "      <td>2.00</td>\n",
              "      <td>44.00</td>\n",
              "      <td>4.00</td>\n",
              "      <td>17.00</td>\n",
              "      <td>0.00</td>\n",
              "    </tr>\n",
              "    <tr>\n",
              "      <th>75%</th>\n",
              "      <td>110.00</td>\n",
              "      <td>7.00</td>\n",
              "      <td>6.00</td>\n",
              "      <td>4.00</td>\n",
              "      <td>6.00</td>\n",
              "      <td>5.00</td>\n",
              "      <td>58.00</td>\n",
              "      <td>6.00</td>\n",
              "      <td>21.00</td>\n",
              "      <td>1.00</td>\n",
              "    </tr>\n",
              "    <tr>\n",
              "      <th>max</th>\n",
              "      <td>7300.00</td>\n",
              "      <td>7.00</td>\n",
              "      <td>7.00</td>\n",
              "      <td>7.00</td>\n",
              "      <td>7.00</td>\n",
              "      <td>6.00</td>\n",
              "      <td>91.00</td>\n",
              "      <td>7.00</td>\n",
              "      <td>24.00</td>\n",
              "      <td>1.00</td>\n",
              "    </tr>\n",
              "  </tbody>\n",
              "</table>\n",
              "</div>\n",
              "    <div class=\"colab-df-buttons\">\n",
              "\n",
              "  <div class=\"colab-df-container\">\n",
              "    <button class=\"colab-df-convert\" onclick=\"convertToInteractive('df-c6931ff1-13ec-4b9e-aa8b-e75a016e22e2')\"\n",
              "            title=\"Convert this dataframe to an interactive table.\"\n",
              "            style=\"display:none;\">\n",
              "\n",
              "  <svg xmlns=\"http://www.w3.org/2000/svg\" height=\"24px\" viewBox=\"0 -960 960 960\">\n",
              "    <path d=\"M120-120v-720h720v720H120Zm60-500h600v-160H180v160Zm220 220h160v-160H400v160Zm0 220h160v-160H400v160ZM180-400h160v-160H180v160Zm440 0h160v-160H620v160ZM180-180h160v-160H180v160Zm440 0h160v-160H620v160Z\"/>\n",
              "  </svg>\n",
              "    </button>\n",
              "\n",
              "  <style>\n",
              "    .colab-df-container {\n",
              "      display:flex;\n",
              "      gap: 12px;\n",
              "    }\n",
              "\n",
              "    .colab-df-convert {\n",
              "      background-color: #E8F0FE;\n",
              "      border: none;\n",
              "      border-radius: 50%;\n",
              "      cursor: pointer;\n",
              "      display: none;\n",
              "      fill: #1967D2;\n",
              "      height: 32px;\n",
              "      padding: 0 0 0 0;\n",
              "      width: 32px;\n",
              "    }\n",
              "\n",
              "    .colab-df-convert:hover {\n",
              "      background-color: #E2EBFA;\n",
              "      box-shadow: 0px 1px 2px rgba(60, 64, 67, 0.3), 0px 1px 3px 1px rgba(60, 64, 67, 0.15);\n",
              "      fill: #174EA6;\n",
              "    }\n",
              "\n",
              "    .colab-df-buttons div {\n",
              "      margin-bottom: 4px;\n",
              "    }\n",
              "\n",
              "    [theme=dark] .colab-df-convert {\n",
              "      background-color: #3B4455;\n",
              "      fill: #D2E3FC;\n",
              "    }\n",
              "\n",
              "    [theme=dark] .colab-df-convert:hover {\n",
              "      background-color: #434B5C;\n",
              "      box-shadow: 0px 1px 3px 1px rgba(0, 0, 0, 0.15);\n",
              "      filter: drop-shadow(0px 1px 2px rgba(0, 0, 0, 0.3));\n",
              "      fill: #FFFFFF;\n",
              "    }\n",
              "  </style>\n",
              "\n",
              "    <script>\n",
              "      const buttonEl =\n",
              "        document.querySelector('#df-c6931ff1-13ec-4b9e-aa8b-e75a016e22e2 button.colab-df-convert');\n",
              "      buttonEl.style.display =\n",
              "        google.colab.kernel.accessAllowed ? 'block' : 'none';\n",
              "\n",
              "      async function convertToInteractive(key) {\n",
              "        const element = document.querySelector('#df-c6931ff1-13ec-4b9e-aa8b-e75a016e22e2');\n",
              "        const dataTable =\n",
              "          await google.colab.kernel.invokeFunction('convertToInteractive',\n",
              "                                                    [key], {});\n",
              "        if (!dataTable) return;\n",
              "\n",
              "        const docLinkHtml = 'Like what you see? Visit the ' +\n",
              "          '<a target=\"_blank\" href=https://colab.research.google.com/notebooks/data_table.ipynb>data table notebook</a>'\n",
              "          + ' to learn more about interactive tables.';\n",
              "        element.innerHTML = '';\n",
              "        dataTable['output_type'] = 'display_data';\n",
              "        await google.colab.output.renderOutput(dataTable, element);\n",
              "        const docLink = document.createElement('div');\n",
              "        docLink.innerHTML = docLinkHtml;\n",
              "        element.appendChild(docLink);\n",
              "      }\n",
              "    </script>\n",
              "  </div>\n",
              "\n",
              "\n",
              "<div id=\"df-29777d56-3447-41b5-a3d3-6654e773370a\">\n",
              "  <button class=\"colab-df-quickchart\" onclick=\"quickchart('df-29777d56-3447-41b5-a3d3-6654e773370a')\"\n",
              "            title=\"Suggest charts\"\n",
              "            style=\"display:none;\">\n",
              "\n",
              "<svg xmlns=\"http://www.w3.org/2000/svg\" height=\"24px\"viewBox=\"0 0 24 24\"\n",
              "     width=\"24px\">\n",
              "    <g>\n",
              "        <path d=\"M19 3H5c-1.1 0-2 .9-2 2v14c0 1.1.9 2 2 2h14c1.1 0 2-.9 2-2V5c0-1.1-.9-2-2-2zM9 17H7v-7h2v7zm4 0h-2V7h2v10zm4 0h-2v-4h2v4z\"/>\n",
              "    </g>\n",
              "</svg>\n",
              "  </button>\n",
              "\n",
              "<style>\n",
              "  .colab-df-quickchart {\n",
              "      --bg-color: #E8F0FE;\n",
              "      --fill-color: #1967D2;\n",
              "      --hover-bg-color: #E2EBFA;\n",
              "      --hover-fill-color: #174EA6;\n",
              "      --disabled-fill-color: #AAA;\n",
              "      --disabled-bg-color: #DDD;\n",
              "  }\n",
              "\n",
              "  [theme=dark] .colab-df-quickchart {\n",
              "      --bg-color: #3B4455;\n",
              "      --fill-color: #D2E3FC;\n",
              "      --hover-bg-color: #434B5C;\n",
              "      --hover-fill-color: #FFFFFF;\n",
              "      --disabled-bg-color: #3B4455;\n",
              "      --disabled-fill-color: #666;\n",
              "  }\n",
              "\n",
              "  .colab-df-quickchart {\n",
              "    background-color: var(--bg-color);\n",
              "    border: none;\n",
              "    border-radius: 50%;\n",
              "    cursor: pointer;\n",
              "    display: none;\n",
              "    fill: var(--fill-color);\n",
              "    height: 32px;\n",
              "    padding: 0;\n",
              "    width: 32px;\n",
              "  }\n",
              "\n",
              "  .colab-df-quickchart:hover {\n",
              "    background-color: var(--hover-bg-color);\n",
              "    box-shadow: 0 1px 2px rgba(60, 64, 67, 0.3), 0 1px 3px 1px rgba(60, 64, 67, 0.15);\n",
              "    fill: var(--button-hover-fill-color);\n",
              "  }\n",
              "\n",
              "  .colab-df-quickchart-complete:disabled,\n",
              "  .colab-df-quickchart-complete:disabled:hover {\n",
              "    background-color: var(--disabled-bg-color);\n",
              "    fill: var(--disabled-fill-color);\n",
              "    box-shadow: none;\n",
              "  }\n",
              "\n",
              "  .colab-df-spinner {\n",
              "    border: 2px solid var(--fill-color);\n",
              "    border-color: transparent;\n",
              "    border-bottom-color: var(--fill-color);\n",
              "    animation:\n",
              "      spin 1s steps(1) infinite;\n",
              "  }\n",
              "\n",
              "  @keyframes spin {\n",
              "    0% {\n",
              "      border-color: transparent;\n",
              "      border-bottom-color: var(--fill-color);\n",
              "      border-left-color: var(--fill-color);\n",
              "    }\n",
              "    20% {\n",
              "      border-color: transparent;\n",
              "      border-left-color: var(--fill-color);\n",
              "      border-top-color: var(--fill-color);\n",
              "    }\n",
              "    30% {\n",
              "      border-color: transparent;\n",
              "      border-left-color: var(--fill-color);\n",
              "      border-top-color: var(--fill-color);\n",
              "      border-right-color: var(--fill-color);\n",
              "    }\n",
              "    40% {\n",
              "      border-color: transparent;\n",
              "      border-right-color: var(--fill-color);\n",
              "      border-top-color: var(--fill-color);\n",
              "    }\n",
              "    60% {\n",
              "      border-color: transparent;\n",
              "      border-right-color: var(--fill-color);\n",
              "    }\n",
              "    80% {\n",
              "      border-color: transparent;\n",
              "      border-right-color: var(--fill-color);\n",
              "      border-bottom-color: var(--fill-color);\n",
              "    }\n",
              "    90% {\n",
              "      border-color: transparent;\n",
              "      border-bottom-color: var(--fill-color);\n",
              "    }\n",
              "  }\n",
              "</style>\n",
              "\n",
              "  <script>\n",
              "    async function quickchart(key) {\n",
              "      const quickchartButtonEl =\n",
              "        document.querySelector('#' + key + ' button');\n",
              "      quickchartButtonEl.disabled = true;  // To prevent multiple clicks.\n",
              "      quickchartButtonEl.classList.add('colab-df-spinner');\n",
              "      try {\n",
              "        const charts = await google.colab.kernel.invokeFunction(\n",
              "            'suggestCharts', [key], {});\n",
              "      } catch (error) {\n",
              "        console.error('Error during call to suggestCharts:', error);\n",
              "      }\n",
              "      quickchartButtonEl.classList.remove('colab-df-spinner');\n",
              "      quickchartButtonEl.classList.add('colab-df-quickchart-complete');\n",
              "    }\n",
              "    (() => {\n",
              "      let quickchartButtonEl =\n",
              "        document.querySelector('#df-29777d56-3447-41b5-a3d3-6654e773370a button');\n",
              "      quickchartButtonEl.style.display =\n",
              "        google.colab.kernel.accessAllowed ? 'block' : 'none';\n",
              "    })();\n",
              "  </script>\n",
              "</div>\n",
              "\n",
              "    </div>\n",
              "  </div>\n"
            ],
            "application/vnd.google.colaboratory.intrinsic+json": {
              "type": "dataframe",
              "summary": "{\n  \"name\": \"dados\",\n  \"rows\": 8,\n  \"fields\": [\n    {\n      \"column\": \"footfall\",\n      \"properties\": {\n        \"dtype\": \"number\",\n        \"std\": 2493.9301299388376,\n        \"min\": 0.0,\n        \"max\": 7300.0,\n        \"num_unique_values\": 8,\n        \"samples\": [\n          306.3813559322034,\n          22.0,\n          944.0\n        ],\n        \"semantic_type\": \"\",\n        \"description\": \"\"\n      }\n    },\n    {\n      \"column\": \"tempMode\",\n      \"properties\": {\n        \"dtype\": \"number\",\n        \"std\": 332.5312092618602,\n        \"min\": 0.0,\n        \"max\": 944.0,\n        \"num_unique_values\": 7,\n        \"samples\": [\n          944.0,\n          3.7277542372881354,\n          3.0\n        ],\n        \"semantic_type\": \"\",\n        \"description\": \"\"\n      }\n    },\n    {\n      \"column\": \"AQ\",\n      \"properties\": {\n        \"dtype\": \"number\",\n        \"std\": 332.4089604723971,\n        \"min\": 1.0,\n        \"max\": 944.0,\n        \"num_unique_values\": 8,\n        \"samples\": [\n          4.325211864406779,\n          4.0,\n          944.0\n        ],\n        \"semantic_type\": \"\",\n        \"description\": \"\"\n      }\n    },\n    {\n      \"column\": \"USS\",\n      \"properties\": {\n        \"dtype\": \"number\",\n        \"std\": 332.68269121506137,\n        \"min\": 1.0,\n        \"max\": 944.0,\n        \"num_unique_values\": 8,\n        \"samples\": [\n          2.9396186440677967,\n          3.0,\n          944.0\n        ],\n        \"semantic_type\": \"\",\n        \"description\": \"\"\n      }\n    },\n    {\n      \"column\": \"CS\",\n      \"properties\": {\n        \"dtype\": \"number\",\n        \"std\": 332.16257191262105,\n        \"min\": 1.0,\n        \"max\": 944.0,\n        \"num_unique_values\": 7,\n        \"samples\": [\n          944.0,\n          5.3940677966101696,\n          6.0\n        ],\n        \"semantic_type\": \"\",\n        \"description\": \"\"\n      }\n    },\n    {\n      \"column\": \"VOC\",\n      \"properties\": {\n        \"dtype\": \"number\",\n        \"std\": 332.79472718725947,\n        \"min\": 0.0,\n        \"max\": 944.0,\n        \"num_unique_values\": 8,\n        \"samples\": [\n          2.8421610169491527,\n          2.0,\n          944.0\n        ],\n        \"semantic_type\": \"\",\n        \"description\": \"\"\n      }\n    },\n    {\n      \"column\": \"RP\",\n      \"properties\": {\n        \"dtype\": \"number\",\n        \"std\": 318.9983208105749,\n        \"min\": 16.423130472188713,\n        \"max\": 944.0,\n        \"num_unique_values\": 8,\n        \"samples\": [\n          47.043432203389834,\n          44.0,\n          944.0\n        ],\n        \"semantic_type\": \"\",\n        \"description\": \"\"\n      }\n    },\n    {\n      \"column\": \"IP\",\n      \"properties\": {\n        \"dtype\": \"number\",\n        \"std\": 332.3885913384278,\n        \"min\": 1.0,\n        \"max\": 944.0,\n        \"num_unique_values\": 8,\n        \"samples\": [\n          4.565677966101695,\n          4.0,\n          944.0\n        ],\n        \"semantic_type\": \"\",\n        \"description\": \"\"\n      }\n    },\n    {\n      \"column\": \"Temperature\",\n      \"properties\": {\n        \"dtype\": \"number\",\n        \"std\": 328.8248341735301,\n        \"min\": 1.0,\n        \"max\": 944.0,\n        \"num_unique_values\": 8,\n        \"samples\": [\n          16.33156779661017,\n          17.0,\n          944.0\n        ],\n        \"semantic_type\": \"\",\n        \"description\": \"\"\n      }\n    },\n    {\n      \"column\": \"fail\",\n      \"properties\": {\n        \"dtype\": \"number\",\n        \"std\": 333.6077061646051,\n        \"min\": 0.0,\n        \"max\": 944.0,\n        \"num_unique_values\": 5,\n        \"samples\": [\n          0.4163135593220339,\n          1.0,\n          0.49320813481593295\n        ],\n        \"semantic_type\": \"\",\n        \"description\": \"\"\n      }\n    }\n  ]\n}"
            }
          },
          "metadata": {},
          "execution_count": 6
        }
      ]
    },
    {
      "cell_type": "code",
      "source": [
        "# Observando a existência de valores nulos\n",
        "dados.isnull().sum().sum()"
      ],
      "metadata": {
        "colab": {
          "base_uri": "https://localhost:8080/"
        },
        "id": "V7h_PRZ_KhS_",
        "outputId": "e5fd300d-28d1-402f-ba60-cfcd4b2132a8"
      },
      "execution_count": 7,
      "outputs": [
        {
          "output_type": "execute_result",
          "data": {
            "text/plain": [
              "0"
            ]
          },
          "metadata": {},
          "execution_count": 7
        }
      ]
    },
    {
      "cell_type": "code",
      "source": [
        "# Observando valores duplicados\n",
        "dados.duplicated().sum()"
      ],
      "metadata": {
        "colab": {
          "base_uri": "https://localhost:8080/"
        },
        "id": "FdaokzvVKmfP",
        "outputId": "beec5774-66f3-4e39-d5d8-7caabbc61d4c"
      },
      "execution_count": 8,
      "outputs": [
        {
          "output_type": "execute_result",
          "data": {
            "text/plain": [
              "1"
            ]
          },
          "metadata": {},
          "execution_count": 8
        }
      ]
    },
    {
      "cell_type": "code",
      "source": [
        "# Excluindo dados duplicados\n",
        "dados = dados.drop_duplicates()"
      ],
      "metadata": {
        "id": "jl7omFm7N6op"
      },
      "execution_count": 9,
      "outputs": []
    },
    {
      "cell_type": "code",
      "source": [
        "# Conferindo\n",
        "dados.duplicated().sum()"
      ],
      "metadata": {
        "colab": {
          "base_uri": "https://localhost:8080/"
        },
        "id": "p7Z8fmSbmaD2",
        "outputId": "97a99d6f-7cfc-4939-ebab-cc74a0ae1220"
      },
      "execution_count": 10,
      "outputs": [
        {
          "output_type": "execute_result",
          "data": {
            "text/plain": [
              "0"
            ]
          },
          "metadata": {},
          "execution_count": 10
        }
      ]
    },
    {
      "cell_type": "code",
      "source": [
        "dados.shape"
      ],
      "metadata": {
        "colab": {
          "base_uri": "https://localhost:8080/"
        },
        "id": "8Z6Q6djjOCUB",
        "outputId": "0e58bdb4-bbaa-43f9-adbd-e5791a65baff"
      },
      "execution_count": 11,
      "outputs": [
        {
          "output_type": "execute_result",
          "data": {
            "text/plain": [
              "(943, 10)"
            ]
          },
          "metadata": {},
          "execution_count": 11
        }
      ]
    },
    {
      "cell_type": "code",
      "source": [
        "# Calculando a dispersão dos dados\n",
        "sparsity = 1 - count_nonzero(dados) / dados.size\n",
        "print(\"A dispersão do dataframe é: \" + str(round(sparsity, 2)) + \".\")"
      ],
      "metadata": {
        "colab": {
          "base_uri": "https://localhost:8080/"
        },
        "id": "V6_ImPytOQXI",
        "outputId": "91f4df77-3459-45d7-da8e-d3ae6d72ec27"
      },
      "execution_count": 12,
      "outputs": [
        {
          "output_type": "stream",
          "name": "stdout",
          "text": [
            "A dispersão do dataframe é: 0.12.\n"
          ]
        }
      ]
    },
    {
      "cell_type": "code",
      "source": [
        "# Confirmando\n",
        "sparse.issparse(dados)"
      ],
      "metadata": {
        "colab": {
          "base_uri": "https://localhost:8080/"
        },
        "id": "syUdDdzIOUTR",
        "outputId": "554794fd-56f8-4d64-a3b0-d4dc139bd190"
      },
      "execution_count": 13,
      "outputs": [
        {
          "output_type": "execute_result",
          "data": {
            "text/plain": [
              "False"
            ]
          },
          "metadata": {},
          "execution_count": 13
        }
      ]
    },
    {
      "cell_type": "code",
      "source": [
        "# Observando graficamente a variável target\n",
        "dados[\"fail\"].hist(grid = False, xlabelsize = 10, ylabelsize = 10, legend = \"fail\", bins = 3);"
      ],
      "metadata": {
        "colab": {
          "base_uri": "https://localhost:8080/",
          "height": 430
        },
        "id": "abbRT-xFOYxQ",
        "outputId": "ee410083-8686-471f-9a73-3963574c96cb"
      },
      "execution_count": 14,
      "outputs": [
        {
          "output_type": "display_data",
          "data": {
            "text/plain": [
              "<Figure size 640x480 with 1 Axes>"
            ],
            "image/png": "[encoded data removed]"
          },
          "metadata": {}
        }
      ]
    },
    {
      "cell_type": "code",
      "source": [
        "# Observando a porcentagem de falhas\n",
        "plt.figure(figsize=(8,6))\n",
        "dados['fail'].value_counts().plot.pie(autopct='%1.1f%%',shadow=True)"
      ],
      "metadata": {
        "colab": {
          "base_uri": "https://localhost:8080/",
          "height": 517
        },
        "id": "jYlVETfVO8lB",
        "outputId": "ea95fe00-d890-4700-d6c3-fb9bc2d95cd2"
      },
      "execution_count": 15,
      "outputs": [
        {
          "output_type": "execute_result",
          "data": {
            "text/plain": [
              "<Axes: ylabel='count'>"
            ]
          },
          "metadata": {},
          "execution_count": 15
        },
        {
          "output_type": "display_data",
          "data": {
            "text/plain": [
              "<Figure size 800x600 with 1 Axes>"
            ],
            "image/png": "[encoded data removed]"
          },
          "metadata": {}
        }
      ]
    },
    {
      "cell_type": "code",
      "source": [
        "# Distribuição das variáveis\n",
        "fig = make_subplots(rows=5, cols=2, subplot_titles=dados.columns)\n",
        "for i, column in enumerate(dados.columns):\n",
        "    row = i // 2 + 1\n",
        "    col = i % 2 + 1\n",
        "    hist = px.histogram(dados, x=column, template='plotly_dark', color_discrete_sequence=['#00FF00'])\n",
        "    hist.update_traces(marker_line_width=0.5, marker_line_color=\"white\")\n",
        "    fig.add_trace(hist.data[0], row=row, col=col)\n",
        "\n",
        "fig.update_layout(height=1200, title_text=\"Distribuição das variáveis numéricas\", title_font=dict(size=25), title_x=0.5, showlegend=False)\n",
        "fig.show()"
      ],
      "metadata": {
        "colab": {
          "base_uri": "https://localhost:8080/",
          "height": 1000
        },
        "id": "ObJ3Nm99RTJh",
        "outputId": "03d59bb4-af78-423d-c73f-da84dcf2d28b"
      },
      "execution_count": 16,
      "outputs": [
        {
          "output_type": "display_data",
          "data": {
            "text/html": [
              "<html>\n",
              "<head><meta charset=\"utf-8\" /></head>\n",
              "<body>\n",
              "    <div>            <script src=\"https://cdnjs.cloudflare.com/ajax/libs/mathjax/2.7.5/MathJax.js?config=TeX-AMS-MML_SVG\"></script><script type=\"text/javascript\">if (window.MathJax && window.MathJax.Hub && window.MathJax.Hub.Config) {window.MathJax.Hub.Config({SVG: {font: \"STIX-Web\"}});}</script>                <script type=\"text/javascript\">window.PlotlyConfig = {MathJaxConfig: 'local'};</script>\n",
              "        <script charset=\"utf-8\" src=\"https://cdn.plot.ly/plotly-2.24.1.min.js\"></script>                <div id=\"1bc1e035-ecd3-4830-9a77-d76c04c03c40\" class=\"plotly-graph-div\" style=\"height:1200px; width:100%;\"></div>            <script type=\"text/javascript\">                                    window.PLOTLYENV=window.PLOTLYENV || {};                                    if (document.getElementById(\"1bc1e035-ecd3-4830-9a77-d76c04c03c40\")) {                    Plotly.newPlot(                        \"1bc1e035-ecd3-4830-9a77-d76c04c03c40\",                        [{\"alignmentgroup\":\"True\",\"bingroup\":\"x\",\"hovertemplate\":\"footfall=%{x}\\u003cbr\\u003ecount=%{y}\\u003cextra\\u003e\\u003c\\u002fextra\\u003e\",\"legendgroup\":\"\",\"marker\":{\"color\":\"#00FF00\",\"line\":{\"color\":\"white\",\"width\":0.5},\"pattern\":{\"shape\":\"\"}},\"name\":\"\",\"offsetgroup\":\"\",\"orientation\":\"v\",\"showlegend\":false,\"x\":[0,190,31,83,640,110,100,31,180,2800,1600,330,190,100,1000,0,130,5,33,19,74,190,12,0,19,0,390,40,3,450,350,64,3,0,640,0,12,62,31,0,180,640,110,100,100,11,0,4,35,0,0,0,33,270,45,40,6,2,0,35,83,3500,100,350,100,67,30,0,0,6,350,400,15,0,3,22,64,32,390,0,0,59,0,35,0,170,12,40,31,31,1600,1,4,190,53,31,16,33,0,0,0,27,84,22,0,3500,390,0,16,200,640,0,45,12,20,7300,64,13,190,9,0,170,640,9,0,7300,2800,0,30,44,7300,330,3,51,29,630,170,33,0,9,22,100,2,0,50,15,3,720,640,5,24,22,55,0,1600,170,1000,63,110,16,100,7300,22,71,900,35,2,83,370,12,370,100,470,22,2800,47,900,330,84,0,33,53,8,2,0,0,0,0,15,900,30,0,170,900,0,1600,0,2800,110,1,3,0,22,63,290,2,40,67,0,470,0,4,20,2800,0,1,640,170,270,390,16,11,0,270,170,900,270,0,350,0,6,290,630,900,31,1600,71,200,0,30,10,0,900,71,22,0,0,0,0,7300,83,93,0,51,31,93,0,0,31,900,0,2,110,63,900,31,510,270,9,3,29,45,83,22,15,110,8,11,56,8,100,900,67,35,35,22,110,12,7300,0,19,470,4,640,640,200,0,29,330,19,1,110,0,350,2,0,7,71,53,0,2,190,31,16,22,3,0,0,67,40,74,3,140,14,110,35,0,310,900,0,11,0,270,51,11,2,20,31,2,5,22,0,27,7,0,0,0,2800,0,22,9,0,9,0,37,23,0,0,0,40,0,9,15,640,0,0,0,0,22,22,10,29,170,4,11,31,0,0,360,0,900,51,0,110,1,8,5,87,3,51,350,3,630,180,0,35,0,0,6,7300,2,35,0,45,0,5,35,900,35,0,0,11,40,0,23,270,9,0,0,0,2,0,16,7300,0,23,42,2,0,42,470,42,0,40,180,110,140,0,0,190,35,45,170,0,0,35,5,350,4,70,8,12,5,0,16,0,9,14,22,0,1,1600,7300,19,9,0,1600,12,1,0,0,0,9,0,170,3,14,1,23,0,1,0,9,130,5,4,2800,4,6,4,84,0,9,290,0,9,0,0,22,0,640,10,4,0,640,110,0,0,67,520,0,51,0,2800,110,7300,7300,0,16,140,54,2,470,0,75,11,0,2800,140,9,7300,45,1600,9,0,130,9,3500,0,0,35,900,27,900,0,64,4,0,0,53,290,15,0,35,0,470,16,40,290,4,1,140,110,0,900,0,0,51,71,900,83,360,180,1,22,1,2,34,33,10,290,0,76,20,0,0,0,470,9,0,0,8,1,1,7,0,170,270,0,13,10,22,640,900,22,62,110,84,0,13,20,0,16,6,12,0,0,170,100,5,3500,71,4,7300,7,290,0,0,520,430,9,40,2,75,170,170,640,2800,9,150,0,0,100,33,310,53,13,290,310,0,54,1600,14,25,45,20,18,740,9,5,7300,81,190,51,7300,350,27,33,50,1,11,51,160,16,110,110,13,220,470,22,9,22,190,100,14,0,180,3,51,9,0,0,71,290,45,0,26,87,0,630,50,35,180,32,0,51,40,0,0,0,1,7,0,71,75,55,290,88,0,16,75,220,3,130,0,110,12,180,93,170,31,62,30,66,3,18,350,71,3500,0,360,81,350,190,0,290,18,11,2,570,310,1,0,35,22,2,0,0,310,470,0,270,110,50,0,3,22,83,9,5,0,0,0,27,110,0,0,350,0,5,15,35,0,75,0,16,0,0,0,4,62,0,4,56,2,0,75,10,0,0,220,0,75,0,140,290,350,55,31,17,51,140,9,0,640,32,5,8,18,0,0,0,31,350,20,70,31,3,9,59,27,51,9,0,88,67,29,5,0,900,18,190,2,5,56,75,56,0,0,75,1600,15,19,16,42,18,0,310,1600,23,20,51,0,0,0,18,7300,110,0,3500,720,9,47,350,0,0,83,1,190,0,12,9,23,9,18,0,12,0,170,0,9,23,0,9,290,1,350,20,0,23,150,31,0,9,47,900,83,18,0,20,24,18,9,0,9,0,18,19,31,3500,0,33,0,18,0,31,0,59,0,7300,75,0,27,1600,0,0,7300,16,0,0,0,0,18],\"xaxis\":\"x\",\"yaxis\":\"y\",\"type\":\"histogram\"},{\"alignmentgroup\":\"True\",\"bingroup\":\"x\",\"hovertemplate\":\"tempMode=%{x}\\u003cbr\\u003ecount=%{y}\\u003cextra\\u003e\\u003c\\u002fextra\\u003e\",\"legendgroup\":\"\",\"marker\":{\"color\":\"#00FF00\",\"line\":{\"color\":\"white\",\"width\":0.5},\"pattern\":{\"shape\":\"\"}},\"name\":\"\",\"offsetgroup\":\"\",\"orientation\":\"v\",\"showlegend\":false,\"x\":[7,1,7,4,7,3,7,1,7,0,0,5,2,7,7,7,7,5,7,2,7,0,3,7,0,2,5,7,3,3,0,3,0,1,7,7,7,6,2,1,6,3,0,1,7,3,7,7,6,1,7,2,7,2,7,3,1,7,0,3,0,7,2,2,3,1,5,7,0,7,1,1,7,0,2,5,2,5,7,7,7,5,6,7,2,7,1,4,2,7,1,1,7,0,3,7,7,5,3,3,7,2,7,3,3,0,7,7,7,0,0,7,7,0,7,5,7,7,0,4,7,2,7,4,4,5,0,7,7,7,1,4,0,2,5,2,0,7,3,5,4,0,2,6,7,4,4,5,7,7,2,7,7,2,5,6,7,0,0,7,3,3,2,3,4,7,7,2,5,0,7,7,7,7,0,5,5,7,0,0,3,7,7,7,0,2,0,7,7,0,2,7,3,2,6,7,7,0,5,7,5,4,0,3,0,7,0,0,5,7,7,6,0,7,0,0,0,3,2,0,2,7,1,7,2,7,7,7,3,0,0,7,7,0,2,5,7,7,0,5,1,7,2,7,3,7,4,3,1,3,0,7,7,7,2,2,7,3,4,1,4,7,3,1,0,3,1,2,3,1,1,2,5,7,3,7,0,5,4,3,5,7,7,4,3,0,7,0,7,0,5,3,3,4,2,7,7,4,2,5,7,5,7,4,5,7,4,1,0,0,6,4,0,7,7,4,6,7,3,7,4,6,7,0,0,3,1,7,2,7,4,2,7,7,5,0,7,3,0,3,7,7,0,7,0,4,1,0,4,1,7,1,5,1,5,0,4,7,5,0,5,2,5,5,4,7,2,7,7,7,1,1,7,2,0,3,7,7,2,7,2,5,2,0,7,5,5,4,1,1,7,7,0,4,0,7,7,7,1,2,1,3,0,3,7,1,5,5,2,7,2,7,1,3,7,3,1,6,3,7,0,2,7,0,5,4,0,4,0,7,2,0,5,7,7,7,5,4,2,1,1,0,1,4,2,0,7,1,0,0,2,5,1,7,6,0,0,7,7,7,3,5,1,0,6,7,5,7,0,3,2,0,7,3,7,7,0,5,5,0,5,4,0,2,5,7,7,0,7,7,2,0,1,0,3,7,2,7,0,5,7,0,5,2,4,5,2,2,0,7,3,1,0,7,2,7,5,2,7,4,2,2,4,1,3,2,0,6,1,7,2,3,7,7,7,4,0,3,3,0,7,1,7,7,2,2,7,3,2,0,2,2,0,0,0,1,7,1,7,7,7,3,1,1,1,2,4,7,2,4,4,3,7,3,7,0,2,4,2,1,7,2,3,7,5,0,7,4,6,0,7,0,0,7,1,3,0,3,0,4,7,0,5,3,7,1,2,4,1,2,7,3,3,7,0,7,0,7,0,4,5,4,7,5,0,4,0,1,7,5,2,0,7,7,0,1,5,1,3,7,7,7,0,7,7,1,2,6,7,7,7,0,0,7,0,2,6,7,6,0,7,7,1,1,7,0,2,5,4,7,1,5,7,7,6,4,6,7,7,6,2,3,2,5,7,7,1,6,2,2,7,2,2,1,3,3,1,3,0,0,5,7,7,0,7,1,0,2,7,1,6,2,2,2,2,1,4,4,7,7,1,1,5,0,5,2,7,3,7,7,5,4,4,7,3,3,5,7,5,0,6,2,5,1,7,1,0,3,2,0,3,7,2,1,7,1,7,3,0,5,4,3,0,3,0,7,7,2,0,7,7,7,6,1,1,7,3,3,7,7,4,7,2,3,5,7,1,0,0,1,0,3,7,2,6,0,7,2,6,2,2,1,0,3,5,1,7,1,3,7,4,7,4,7,7,2,7,1,0,6,1,3,2,7,1,3,3,7,7,1,2,4,7,2,0,0,2,0,0,1,1,2,7,3,3,7,0,5,0,6,7,0,3,7,2,5,3,1,7,5,1,5,2,4,2,7,7,1,0,1,7,4,7,7,5,0,0,4,7,7,7,5,7,1,5,5,3,6,2,7,0,3,0,1,7,0,1,0,3,1,4,0,7,2,0,0,3,7,0,0,7,0,3,1,0,4,7,3,3,7,7,0,1,3,0,3,5,7,0,7,4,7,7,7,7,7,1,7,7,7,3,6,7],\"xaxis\":\"x2\",\"yaxis\":\"y2\",\"type\":\"histogram\"},{\"alignmentgroup\":\"True\",\"bingroup\":\"x\",\"hovertemplate\":\"AQ=%{x}\\u003cbr\\u003ecount=%{y}\\u003cextra\\u003e\\u003c\\u002fextra\\u003e\",\"legendgroup\":\"\",\"marker\":{\"color\":\"#00FF00\",\"line\":{\"color\":\"white\",\"width\":0.5},\"pattern\":{\"shape\":\"\"}},\"name\":\"\",\"offsetgroup\":\"\",\"orientation\":\"v\",\"showlegend\":false,\"x\":[7,3,2,3,5,3,5,5,4,3,3,4,5,4,5,6,4,3,6,2,4,2,4,6,4,4,3,4,5,4,3,4,4,4,7,3,4,7,7,3,5,6,2,7,4,6,4,4,4,3,5,5,4,5,2,6,5,4,6,4,2,2,4,3,4,4,7,6,6,6,4,2,6,4,4,4,2,3,3,3,4,3,4,3,6,4,6,6,3,2,3,4,6,6,5,4,5,4,5,4,4,6,4,5,3,4,4,4,5,5,2,4,6,7,6,7,6,5,4,4,4,4,3,6,5,3,1,2,7,5,2,3,6,6,4,6,4,4,2,5,4,7,4,5,6,6,3,1,1,4,6,2,4,4,4,1,4,6,4,4,4,5,4,4,5,4,7,3,6,4,4,6,6,6,3,3,4,3,3,6,6,2,2,4,4,4,5,5,2,6,4,4,4,3,7,4,4,4,3,6,5,5,5,6,6,1,2,6,4,5,6,3,4,4,4,6,4,3,3,3,6,4,5,1,4,6,5,4,6,5,5,2,6,5,4,2,2,5,6,2,4,5,5,2,7,6,6,6,6,2,3,2,4,6,6,1,3,4,6,3,3,6,4,6,3,4,4,3,3,6,5,3,3,4,5,5,4,6,6,4,4,4,3,6,4,5,7,4,4,4,4,4,3,6,4,7,3,3,4,5,5,6,5,3,3,2,2,6,4,6,3,2,3,4,3,4,5,4,4,4,2,5,6,2,5,4,4,6,6,3,6,4,3,3,2,4,5,3,6,4,2,5,2,4,1,3,6,2,4,6,5,6,4,4,4,5,5,7,3,4,3,5,4,4,3,6,4,6,6,5,6,4,4,4,3,7,4,6,4,6,3,2,5,3,4,6,4,3,2,5,3,5,6,6,6,5,6,6,4,3,7,3,2,6,4,3,6,6,3,6,6,4,3,5,3,4,6,6,6,4,4,6,5,4,2,6,4,4,3,4,5,3,1,5,2,4,3,4,4,6,3,1,2,2,6,6,4,4,6,5,5,4,6,6,2,4,4,4,7,6,3,6,6,5,5,5,2,3,6,1,6,2,3,2,6,6,6,2,4,6,2,4,6,6,5,4,5,4,2,5,4,5,4,5,4,1,4,4,5,3,6,6,5,5,4,3,4,6,3,4,4,6,4,2,2,4,5,6,7,4,2,2,5,6,5,6,3,5,5,3,4,3,5,4,2,3,2,4,6,7,2,4,3,4,3,5,3,4,7,3,6,2,6,3,5,5,6,5,2,2,1,2,4,4,2,4,4,3,4,3,1,4,2,6,5,4,4,6,6,2,5,5,2,3,4,6,6,4,6,3,2,5,4,4,6,4,6,6,4,5,6,6,4,3,3,6,7,2,6,4,6,4,6,5,2,6,6,4,5,6,2,6,5,5,3,4,5,6,4,4,3,3,6,6,3,2,5,7,7,4,4,6,3,4,5,4,3,5,6,6,4,4,6,6,4,5,4,5,2,6,4,4,6,4,3,6,4,6,3,6,4,3,2,1,6,5,3,4,4,6,6,6,4,6,3,4,6,3,5,6,5,4,5,5,5,4,5,2,2,3,5,4,6,2,3,6,6,5,4,4,6,2,6,2,3,2,3,6,4,2,5,4,5,5,4,6,4,3,4,4,3,7,4,4,5,5,5,4,5,3,5,5,4,5,5,5,6,5,6,6,5,3,6,5,5,2,4,6,5,2,6,3,2,6,6,6,5,4,4,5,7,4,3,3,6,4,5,3,6,5,3,3,4,3,6,6,6,2,3,6,4,2,4,5,4,4,6,2,6,1,4,7,5,2,3,6,4,5,3,2,6,2,6,5,5,5,6,5,5,5,3,6,6,6,5,5,5,2,4,2,3,2,6,7,3,4,6,6,6,6,6,3,4,6,4,4,5,6,7,6,5,5,5,6,3,5,3,5,5,6,5,5,5,4,6,5,5,5,5,3,5,4,6,3,2,4,2,4,2,3,4,5,2,3,6,5,2,5,2,4,4,5,6,2,6,5,7,4,6,6,3,5,4,5,3,3,2,5,6,4,3,2,3,6,6,4,6,2,2,7,2,4,6,4,3,5,3,4,3,3,5,5,4,4,6,6,2,7,7,5,6,6,4],\"xaxis\":\"x3\",\"yaxis\":\"y3\",\"type\":\"histogram\"},{\"alignmentgroup\":\"True\",\"bingroup\":\"x\",\"hovertemplate\":\"USS=%{x}\\u003cbr\\u003ecount=%{y}\\u003cextra\\u003e\\u003c\\u002fextra\\u003e\",\"legendgroup\":\"\",\"marker\":{\"color\":\"#00FF00\",\"line\":{\"color\":\"white\",\"width\":0.5},\"pattern\":{\"shape\":\"\"}},\"name\":\"\",\"offsetgroup\":\"\",\"orientation\":\"v\",\"showlegend\":false,\"x\":[1,3,2,4,6,4,6,4,6,3,2,3,4,4,7,7,4,3,2,1,4,4,6,1,2,3,4,3,5,7,4,4,4,3,5,4,3,2,2,2,5,4,3,7,4,6,3,6,4,4,1,2,3,4,4,2,2,4,2,2,4,2,4,3,6,4,7,3,1,2,5,3,2,4,6,2,1,7,6,4,5,3,3,2,4,3,2,5,4,2,3,2,1,2,3,3,3,3,3,2,3,1,5,3,3,3,5,3,6,5,3,4,3,3,2,7,3,4,5,5,4,2,6,3,3,4,1,3,3,3,2,5,7,1,1,4,1,5,3,4,4,5,4,3,3,3,5,5,1,4,2,2,5,4,4,2,4,3,1,6,2,3,2,2,2,1,1,3,7,5,4,2,2,1,6,5,4,6,2,2,1,3,2,4,6,4,6,2,4,2,2,4,4,3,1,6,5,5,4,2,2,1,3,2,3,2,4,1,5,5,2,4,5,1,4,2,7,2,4,4,7,1,2,1,4,7,2,2,3,4,4,2,4,4,4,3,2,2,4,3,3,6,2,3,1,2,3,2,2,2,4,3,5,1,1,3,2,2,2,2,2,3,5,4,2,3,4,4,4,6,2,2,3,2,4,2,5,2,5,4,2,2,3,2,3,4,1,2,2,1,2,4,5,2,2,1,2,4,5,1,3,1,4,4,3,2,4,2,2,1,4,3,2,2,3,5,3,3,4,4,2,2,4,2,3,3,5,4,5,2,2,3,2,1,4,6,4,3,2,3,1,5,4,3,4,1,2,2,2,1,1,2,2,4,5,2,1,1,2,2,3,5,3,4,2,5,3,2,2,4,1,5,2,3,4,2,4,2,6,1,2,4,2,3,7,2,4,4,1,3,3,3,5,7,2,3,2,2,4,3,7,2,2,1,3,2,1,2,1,1,1,6,5,3,3,3,2,3,3,3,2,2,2,2,3,1,2,3,3,3,3,6,3,4,2,2,3,6,2,2,3,2,2,3,1,1,3,3,4,7,2,2,2,2,3,6,5,1,1,2,3,2,3,6,4,2,3,4,2,2,1,3,4,3,2,4,1,3,4,1,3,4,2,4,5,2,3,3,3,1,6,2,3,2,4,4,3,2,2,2,2,2,2,1,5,5,5,2,4,2,3,2,2,2,3,4,2,1,6,4,2,3,2,1,2,2,2,2,3,2,3,4,2,5,2,4,3,2,2,3,4,2,7,4,5,2,3,2,1,6,2,3,3,4,4,2,3,3,2,3,2,3,2,4,3,3,2,3,6,3,4,4,2,1,2,3,3,2,2,3,2,3,2,2,6,2,4,4,1,3,5,1,2,6,3,3,2,7,2,3,1,2,5,4,3,2,1,3,2,2,1,2,2,6,2,2,2,1,3,4,4,2,2,4,3,5,4,2,4,5,3,3,5,2,5,3,3,1,2,3,1,3,2,3,2,5,2,1,1,2,2,3,3,3,5,2,3,1,2,1,1,3,2,4,4,2,1,1,2,5,3,3,3,3,2,2,3,1,2,1,3,3,2,2,3,3,1,2,2,1,2,2,7,3,2,5,2,3,3,4,3,3,2,3,2,4,3,3,3,4,1,3,2,1,2,2,4,3,3,4,1,2,1,2,4,2,3,3,3,2,3,2,3,3,2,2,4,2,2,4,2,2,4,2,1,3,1,5,3,2,4,2,3,2,3,2,3,1,2,3,1,2,4,4,1,2,6,1,2,2,1,3,5,5,5,6,2,3,1,4,3,3,3,3,2,2,2,4,3,2,4,2,2,2,2,4,2,2,2,2,2,2,2,2,3,2,3,2,3,2,3,2,2,1,3,2,2,2,4,2,2,6,2,1,2,3,2,4,4,2,5,3,2,2,3,5,2,2,1,2,1,3,5,3,4,2,2,1,1,3,3,5,3,2,3,2,3,2,2,3,4,3,2,3,1,4,2,2,2,4,5,5,3,2,2,2,3,4,4,3,3,1,2,3,1,3,4,3,3,2,4,2,2,4,4,1,2,3,2,1,3,2,1,2,4,4,3,4,1,3,4,4,2,1,2,2,2,2,3,3,4,3,3,3,4,2,2,2,3,3,2,2,4,2,3,2,3,1,1,2,2,2,2],\"xaxis\":\"x4\",\"yaxis\":\"y4\",\"type\":\"histogram\"},{\"alignmentgroup\":\"True\",\"bingroup\":\"x\",\"hovertemplate\":\"CS=%{x}\\u003cbr\\u003ecount=%{y}\\u003cextra\\u003e\\u003c\\u002fextra\\u003e\",\"legendgroup\":\"\",\"marker\":{\"color\":\"#00FF00\",\"line\":{\"color\":\"white\",\"width\":0.5},\"pattern\":{\"shape\":\"\"}},\"name\":\"\",\"offsetgroup\":\"\",\"orientation\":\"v\",\"showlegend\":false,\"x\":[6,5,6,5,4,6,4,5,3,7,4,6,6,6,4,5,5,6,6,4,7,6,3,6,2,6,7,4,4,1,7,2,3,7,7,6,6,7,6,6,5,4,6,5,7,3,1,6,2,5,6,6,6,3,6,5,4,6,6,6,6,6,7,6,2,7,2,5,5,6,6,7,6,4,5,6,3,4,2,5,2,5,6,5,5,2,6,4,6,7,6,7,6,6,6,6,6,5,6,7,5,6,6,5,5,7,3,2,3,4,5,5,7,6,5,6,1,7,3,1,7,6,4,6,6,3,7,5,7,7,7,6,3,5,6,5,6,7,6,5,6,1,5,6,4,4,7,6,5,7,6,6,4,4,6,6,5,2,6,6,6,6,7,6,5,5,2,6,4,3,1,6,4,6,1,7,6,4,7,5,7,6,6,2,3,3,4,6,7,5,6,6,6,7,7,1,4,6,5,5,4,4,5,6,6,7,6,5,4,2,6,5,3,6,3,4,4,7,6,6,4,6,6,2,4,4,7,7,6,5,5,6,6,7,3,6,7,3,7,6,6,3,5,6,6,6,1,6,6,6,7,7,4,5,5,6,6,6,6,7,6,5,7,6,5,6,6,6,7,2,4,6,6,6,7,5,5,6,3,3,6,6,6,5,5,6,5,5,4,5,6,7,3,5,3,4,4,6,5,4,4,6,6,6,5,6,5,5,6,6,6,6,6,6,4,3,6,5,7,6,6,6,5,6,6,5,6,3,3,7,6,5,7,7,4,4,6,6,5,6,7,4,6,6,6,4,5,7,5,5,4,5,5,6,5,4,6,6,6,4,4,6,6,6,6,3,3,5,5,6,5,3,6,4,7,6,6,5,5,5,7,7,6,6,2,6,6,6,6,2,7,6,4,5,6,6,6,6,7,4,5,6,6,6,5,6,6,6,6,5,6,2,3,7,7,3,5,6,5,4,4,5,6,6,6,5,6,5,6,6,6,5,6,6,6,6,6,3,6,6,6,7,7,7,6,6,5,4,2,7,6,6,5,5,6,2,3,5,6,5,5,6,6,7,6,4,6,6,5,7,6,5,6,7,6,4,5,6,6,6,6,6,5,6,4,6,7,6,6,6,2,5,5,6,6,1,6,6,5,6,6,6,5,6,5,4,2,6,6,5,6,6,3,7,6,7,6,6,5,6,7,6,6,6,5,5,6,5,6,6,6,5,5,5,7,6,6,7,6,4,6,6,4,6,2,6,6,6,5,4,6,4,6,6,6,6,6,5,7,6,7,6,6,6,6,6,5,5,2,6,6,7,4,6,7,5,7,6,6,7,6,7,6,6,5,3,6,6,5,6,7,6,5,1,6,6,6,6,5,6,6,5,7,6,4,6,6,6,6,5,5,7,6,5,6,5,6,5,6,4,2,5,6,7,5,3,6,5,6,7,6,6,5,4,6,6,6,6,5,6,5,6,6,4,5,2,6,5,6,5,6,6,6,6,4,6,5,6,6,5,6,7,6,5,2,6,6,4,6,2,6,6,5,6,6,5,7,4,6,6,6,5,7,6,6,6,6,6,6,6,6,6,2,6,4,4,6,6,6,7,6,4,4,4,5,5,6,6,5,3,6,7,6,7,5,6,5,6,5,3,6,6,6,6,3,5,5,6,5,7,6,6,6,7,5,5,6,5,5,3,6,5,6,5,6,6,6,6,5,6,6,7,6,6,4,5,6,6,7,5,6,7,6,1,6,6,2,6,6,6,7,5,6,3,1,3,7,6,6,6,6,6,6,6,5,6,5,6,5,6,4,6,6,6,6,4,5,6,5,6,6,6,7,5,6,5,7,6,6,6,5,4,6,6,6,6,6,4,6,6,6,4,6,6,6,4,6,3,2,6,7,6,6,6,5,6,5,6,6,7,5,6,5,5,5,6,6,6,4,6,6,6,7,6,5,5,6,5,4,6,6,5,5,6,6,6,6,6,7,7,5,6,6,7,6,6,6,6,6,7,6,7,6,6,6,5,6,5,5,6,6,6,5,7,7,5,6,5,6,6,4,7,5,6,6,7,6,6,5,5,5,6,5,5,6,6,5,6,6,5,5,6,6,6,4,6,4,6,4,5,7,6,7,5,6,6,6,7,6,6,7,5,6],\"xaxis\":\"x5\",\"yaxis\":\"y5\",\"type\":\"histogram\"},{\"alignmentgroup\":\"True\",\"bingroup\":\"x\",\"hovertemplate\":\"VOC=%{x}\\u003cbr\\u003ecount=%{y}\\u003cextra\\u003e\\u003c\\u002fextra\\u003e\",\"legendgroup\":\"\",\"marker\":{\"color\":\"#00FF00\",\"line\":{\"color\":\"white\",\"width\":0.5},\"pattern\":{\"shape\":\"\"}},\"name\":\"\",\"offsetgroup\":\"\",\"orientation\":\"v\",\"showlegend\":false,\"x\":[6,1,1,1,0,1,1,4,3,0,4,1,5,0,0,0,1,1,5,0,2,2,2,6,1,1,1,0,1,0,2,1,0,1,4,0,1,5,6,1,0,5,1,6,2,2,6,0,1,2,5,5,3,0,0,5,2,0,6,0,0,0,2,1,0,1,0,4,4,6,5,1,6,3,1,2,0,1,2,3,3,1,2,0,4,0,5,0,6,0,1,2,6,6,1,1,5,6,5,4,0,5,1,4,0,0,1,6,0,1,0,0,0,6,4,3,0,4,2,2,0,6,0,6,4,3,0,0,6,2,3,1,5,6,1,4,0,0,3,5,0,1,3,1,0,4,0,1,0,0,6,0,1,0,0,0,0,0,1,1,5,1,1,5,5,4,0,0,0,4,1,5,5,6,0,1,1,0,1,5,6,0,0,0,3,5,1,2,1,6,1,2,1,5,5,0,0,0,1,5,0,5,5,6,5,1,0,6,5,1,6,1,2,5,1,5,1,2,0,2,3,5,2,2,0,0,1,0,6,2,5,0,4,0,4,0,0,2,3,0,2,0,2,0,5,6,1,6,6,0,0,0,2,4,6,1,1,4,4,1,2,5,1,4,1,2,0,1,1,0,2,0,1,2,2,6,1,6,0,1,1,5,0,4,1,5,4,2,4,4,5,0,4,4,1,6,5,2,1,6,5,6,1,0,1,0,0,6,1,6,0,0,1,0,5,1,5,2,1,0,1,5,6,0,5,1,2,5,1,1,5,5,1,0,2,0,1,1,6,0,0,0,1,2,1,5,5,0,4,6,5,5,4,5,2,6,5,6,5,1,0,4,2,0,0,0,6,6,6,1,5,0,5,1,1,6,0,6,0,6,0,1,4,1,0,5,0,0,1,0,0,0,1,1,6,2,6,6,0,0,0,1,1,6,0,2,6,6,0,6,6,1,1,6,0,1,5,6,6,3,4,6,5,3,0,6,5,1,0,4,5,2,0,5,0,4,0,2,1,6,1,0,0,0,6,4,4,5,1,3,5,6,4,1,0,5,5,1,6,6,0,6,6,1,0,4,0,0,2,2,6,1,1,0,6,0,6,0,5,6,2,0,6,6,1,0,0,5,0,6,0,4,4,6,2,3,1,2,1,1,6,6,4,4,5,5,0,6,0,4,1,6,4,0,0,0,1,5,2,0,0,2,5,5,5,5,1,3,6,1,1,1,6,5,1,2,0,2,5,5,0,5,3,1,0,6,0,1,5,1,6,1,6,1,4,2,5,4,0,0,1,6,1,1,2,0,4,1,0,0,2,0,0,4,2,6,1,6,4,0,6,2,0,2,2,5,4,1,6,3,0,4,6,2,5,2,6,0,4,5,5,6,1,1,0,6,6,2,6,4,6,1,4,6,0,6,6,4,4,1,5,6,5,1,1,5,5,6,4,1,2,1,5,4,1,0,4,4,4,0,3,4,2,2,1,2,2,5,6,6,4,1,6,5,6,4,5,0,0,5,4,0,6,2,0,5,5,5,0,2,1,0,1,0,6,5,1,6,1,6,5,4,1,6,0,3,6,2,1,6,6,4,2,2,4,1,6,1,1,2,3,3,6,2,4,1,6,5,2,5,6,4,6,0,5,0,5,5,5,1,5,3,5,5,2,4,5,1,3,0,1,6,2,1,6,6,5,6,5,3,4,4,5,1,6,6,6,5,4,4,2,0,1,5,2,0,5,6,0,1,6,0,0,1,6,6,4,3,1,5,6,1,4,5,1,0,5,2,6,5,2,2,2,0,5,6,6,0,2,5,5,1,2,5,5,3,6,1,6,0,6,6,5,1,1,5,2,6,2,0,6,0,5,4,4,6,5,5,0,5,1,0,5,6,4,0,5,6,2,4,1,2,6,5,2,4,6,6,5,5,5,0,3,5,1,5,5,6,6,6,6,1,3,6,0,3,1,4,2,6,5,5,4,0,5,4,5,6,3,1,1,5,6,2,2,6,1,2,0,2,2,4,0,2,5,6,0,5,0,4,3,5,6,2,6,6,6,5,6,6,0,3,6,4,2,2,2,4,6,3,1,1,1,6,6,6,4,0,1,4,2,2,6,4,0,5,6,2,2,1,5,4,2,6,6,6,0,6,4,6,5,6,3],\"xaxis\":\"x6\",\"yaxis\":\"y6\",\"type\":\"histogram\"},{\"alignmentgroup\":\"True\",\"bingroup\":\"x\",\"hovertemplate\":\"RP=%{x}\\u003cbr\\u003ecount=%{y}\\u003cextra\\u003e\\u003c\\u002fextra\\u003e\",\"legendgroup\":\"\",\"marker\":{\"color\":\"#00FF00\",\"line\":{\"color\":\"white\",\"width\":0.5},\"pattern\":{\"shape\":\"\"}},\"name\":\"\",\"offsetgroup\":\"\",\"orientation\":\"v\",\"showlegend\":false,\"x\":[36,20,24,28,68,21,77,21,31,39,26,31,22,42,74,62,58,24,51,36,88,20,27,44,45,21,40,40,48,34,26,60,32,31,33,57,84,75,19,47,51,40,22,35,43,76,45,88,46,22,68,38,69,67,88,68,76,72,37,69,33,34,30,19,44,64,37,31,88,77,30,32,59,47,22,55,24,65,24,30,73,73,91,71,34,48,42,72,20,22,24,39,83,39,33,53,82,82,47,68,84,35,67,33,49,91,43,65,69,56,24,77,74,25,85,21,24,73,37,35,47,21,55,30,76,36,38,67,70,78,27,51,33,80,79,66,32,70,42,73,87,30,52,62,67,37,37,64,34,70,31,29,71,67,41,49,42,78,24,29,39,19,32,69,83,76,62,47,35,23,79,64,70,87,28,58,85,62,26,28,88,57,78,56,46,20,24,72,51,34,21,74,48,28,38,70,72,41,50,73,79,76,62,30,35,66,35,57,37,61,56,53,24,74,36,30,55,35,26,25,27,66,39,58,53,76,51,70,68,32,55,52,73,42,23,30,68,68,68,38,74,59,73,79,28,50,36,50,61,37,29,39,83,68,25,41,67,36,66,55,42,42,36,53,36,29,31,43,33,63,25,72,40,27,26,67,21,27,78,32,68,76,33,38,49,61,57,20,63,53,35,39,48,62,30,26,74,37,43,68,73,60,35,29,25,25,70,41,37,39,35,62,30,74,47,43,64,75,27,21,70,67,82,40,26,29,28,65,25,65,38,72,67,74,71,47,69,29,34,43,30,76,26,76,42,33,25,51,57,21,79,35,57,32,51,62,48,39,26,38,50,33,36,24,25,62,33,53,68,68,38,58,34,58,35,42,54,69,35,66,58,41,35,40,53,67,32,41,43,65,60,77,35,48,52,43,43,67,56,62,62,22,21,34,70,50,42,73,57,40,58,62,44,30,76,50,41,77,35,39,72,42,85,79,39,58,27,43,58,28,27,40,43,64,39,76,64,28,45,22,27,31,34,30,64,36,31,37,48,41,25,82,36,47,67,24,33,59,71,36,41,38,32,32,75,52,29,71,33,67,49,31,53,35,49,74,29,27,70,43,47,42,41,37,61,84,46,39,53,87,51,37,37,40,46,44,37,55,40,42,40,32,58,37,51,44,23,38,42,60,34,49,40,23,47,44,37,26,51,69,36,28,40,45,75,32,27,63,79,40,57,44,78,58,55,25,27,21,37,31,85,33,63,51,46,26,57,48,55,37,39,24,30,36,45,29,41,28,35,46,55,65,22,41,43,49,35,80,57,48,43,34,44,49,43,39,27,30,33,32,31,27,36,45,51,36,47,42,70,40,38,29,58,28,30,48,35,38,56,62,56,32,50,45,36,49,31,33,35,73,54,48,65,46,45,65,45,89,32,38,33,49,64,55,56,30,41,39,34,53,40,48,59,54,41,41,63,39,46,55,42,58,42,40,56,37,37,49,63,30,62,30,34,41,43,33,67,55,33,61,45,34,35,50,38,56,31,40,44,39,45,72,44,61,34,61,67,38,50,62,36,50,30,59,62,40,30,47,41,35,45,34,55,37,61,62,54,33,50,37,44,78,56,29,52,31,34,31,43,31,63,38,31,64,55,41,38,28,42,43,37,47,52,32,29,56,63,35,36,75,48,36,34,35,50,39,70,76,35,53,46,34,69,32,50,35,67,47,50,32,58,49,43,24,58,43,59,40,35,48,40,48,47,23,38,81,52,24,21,70,24,57,37,25,33,45,42,47,51,85,32,31,23,42,55,45,35,45,42,37,38,47,32,35,38,40,62,28,59,25,31,45,42,56,47,38,47,49,29,57,68,76,66,59,37,38,47,36,45,39,34,49,36,81,29,45,21,33,44,52,38,44,87,22,32,69,49,53,44,34,55,35,55,27,26,54,42,57,54,55,50,57,46,53,32,53,39,47,57,49,31,43,44,39,49,72,50,28,48,32,63,36,36,53,44,41,56,63,52,43,40,69,49,65,53,50,27,44,54,33,48,54,56,34,41,40,55,38,40,46,26,49,51,46,40,30,45,52,36,49,38,51,47,52,33,50,48,36,35,34,53,33,52,44,48,20,45,70,39,40,62,46,46,56,55,41,43,34,73,50,43,46,61],\"xaxis\":\"x7\",\"yaxis\":\"y7\",\"type\":\"histogram\"},{\"alignmentgroup\":\"True\",\"bingroup\":\"x\",\"hovertemplate\":\"IP=%{x}\\u003cbr\\u003ecount=%{y}\\u003cextra\\u003e\\u003c\\u002fextra\\u003e\",\"legendgroup\":\"\",\"marker\":{\"color\":\"#00FF00\",\"line\":{\"color\":\"white\",\"width\":0.5},\"pattern\":{\"shape\":\"\"}},\"name\":\"\",\"offsetgroup\":\"\",\"orientation\":\"v\",\"showlegend\":false,\"x\":[3,4,6,6,6,4,4,4,4,3,2,4,4,5,1,3,3,6,4,3,2,4,3,4,3,4,5,6,3,3,2,2,3,3,3,3,3,3,4,6,2,3,6,2,5,6,3,2,3,6,3,3,2,3,4,3,3,2,6,3,6,4,3,3,3,3,4,5,4,4,6,4,1,4,3,3,2,1,3,3,3,5,1,2,4,2,4,2,4,4,6,6,5,3,5,3,3,3,6,3,6,5,2,2,7,1,3,4,3,4,6,3,3,6,1,2,4,4,3,4,3,3,5,6,7,4,3,3,2,4,6,4,4,6,1,1,3,2,3,4,2,5,3,4,3,6,4,6,3,3,5,6,2,1,7,6,5,2,3,3,5,4,5,3,3,2,2,7,3,3,4,5,4,5,2,3,2,3,6,3,2,6,3,3,5,3,4,4,4,6,4,7,1,3,2,3,2,3,7,3,6,2,5,6,4,4,4,6,5,3,3,3,6,3,3,5,2,6,4,4,3,3,2,5,3,3,3,2,4,3,3,4,2,2,5,7,4,3,6,5,3,2,2,3,4,3,4,3,3,4,6,4,6,6,4,6,3,6,4,4,5,3,3,5,5,7,3,6,6,3,5,4,4,6,4,3,3,7,6,3,4,4,5,2,7,4,3,3,6,3,4,3,3,3,5,6,6,5,5,3,5,7,3,6,6,7,6,3,6,5,4,7,7,4,3,6,2,4,6,3,2,3,5,6,4,6,6,3,3,2,5,7,3,3,6,3,1,6,3,4,3,2,5,5,7,3,3,4,3,4,7,5,6,6,6,7,4,3,6,3,4,3,3,6,5,3,3,6,6,3,3,1,6,2,5,6,3,3,4,4,3,3,6,7,1,6,5,4,7,2,5,6,4,4,3,7,5,4,3,4,3,6,5,3,3,3,4,3,7,6,6,3,3,6,5,4,4,3,6,4,3,7,2,4,4,6,6,5,4,7,6,3,6,3,6,4,5,4,3,3,6,4,6,4,3,6,2,3,3,3,4,3,7,3,4,4,6,4,4,3,3,6,3,4,6,3,7,3,6,7,4,7,2,7,7,3,4,6,4,6,7,7,6,4,3,4,6,7,3,6,3,5,6,6,6,3,3,7,6,7,3,3,7,3,3,5,2,3,7,4,4,3,3,4,3,5,7,5,4,3,6,4,4,4,6,6,3,6,7,6,6,6,6,7,3,6,7,3,4,3,7,3,2,3,3,5,6,3,3,5,3,3,6,7,3,3,4,5,4,4,4,4,4,4,7,4,7,3,4,3,6,4,5,6,7,4,3,6,6,5,6,5,4,5,3,4,7,6,6,4,3,3,3,3,4,5,4,3,7,4,4,3,5,6,6,4,6,7,4,4,5,3,4,4,7,7,6,7,4,4,4,7,6,4,7,6,7,5,3,3,6,6,4,4,6,6,7,3,3,3,3,2,4,6,6,4,6,6,4,7,5,6,6,4,3,5,7,5,5,4,3,3,3,6,4,3,3,7,3,4,3,6,7,7,7,6,4,6,6,4,6,6,6,5,6,4,4,3,6,7,4,6,3,4,7,2,6,6,6,3,3,3,3,6,6,3,7,7,6,3,7,4,5,3,7,3,4,6,5,4,4,5,7,4,3,3,7,5,4,5,6,5,6,5,4,7,7,3,6,7,6,4,4,3,2,6,5,3,6,3,5,7,4,6,7,4,3,5,4,4,3,3,7,3,3,7,3,6,5,6,6,7,6,5,3,3,6,6,7,2,7,7,6,6,6,6,7,6,3,4,3,7,6,6,4,3,6,7,5,6,6,4,6,7,7,6,6,4,7,6,3,6,6,4,7,6,7,7,7,7,6,4,6,5,4,6,4,6,3,7,4,5,7,3,6,3,6,3,6,6,7,6,3,6,6,6,4,7,6,6,7,7,4,6,7,5,6,6,4,6,5,6,6,6,4,6,6,4,7,6,4,4,6,3,7,7,7,7,6,7,3,4,7,7,7,4,5,6,7,5,7,5,3,7,6,6,6,6,6,4,6,6,5,6,7,5,5,7,6,6,7,7,6,7,6,4,7,6,7,7,6,7,6,7,6,4,6,3,3,7,6,6,3,7,7,4,7,3,6,6,6,7,7],\"xaxis\":\"x8\",\"yaxis\":\"y8\",\"type\":\"histogram\"},{\"alignmentgroup\":\"True\",\"bingroup\":\"x\",\"hovertemplate\":\"Temperature=%{x}\\u003cbr\\u003ecount=%{y}\\u003cextra\\u003e\\u003c\\u002fextra\\u003e\",\"legendgroup\":\"\",\"marker\":{\"color\":\"#00FF00\",\"line\":{\"color\":\"white\",\"width\":0.5},\"pattern\":{\"shape\":\"\"}},\"name\":\"\",\"offsetgroup\":\"\",\"orientation\":\"v\",\"showlegend\":false,\"x\":[1,1,1,1,1,1,1,1,1,1,1,1,1,1,1,1,1,1,1,2,2,2,2,2,2,2,2,2,2,2,2,3,3,3,3,3,3,3,3,3,3,3,3,3,3,3,3,3,4,4,4,4,4,4,4,4,4,4,4,4,4,4,4,4,4,4,4,5,5,5,5,5,5,5,5,5,5,5,5,5,5,5,5,5,5,6,6,6,6,6,6,6,6,6,6,6,6,6,7,7,7,7,7,7,7,7,7,7,7,8,8,8,8,8,8,8,8,8,8,8,8,8,8,8,8,8,9,9,9,9,9,9,9,9,9,9,10,10,10,10,10,10,10,10,10,10,10,10,10,10,10,11,11,11,11,11,11,11,11,11,11,11,11,11,11,11,11,11,11,11,11,11,11,11,12,12,12,12,12,12,12,12,12,12,12,12,12,12,12,12,12,12,12,12,12,12,12,12,12,12,12,12,12,12,12,12,12,12,12,13,13,13,13,13,13,13,13,13,13,13,13,13,13,13,13,13,13,13,13,13,13,13,13,13,13,14,14,14,14,14,14,14,14,14,14,14,14,14,14,14,14,14,14,14,14,14,14,14,14,14,14,14,14,14,14,14,14,14,14,14,14,14,14,14,15,15,15,15,15,15,15,15,15,15,15,15,15,15,15,15,15,15,15,15,15,15,15,15,15,15,15,15,15,15,15,15,15,15,15,15,15,15,15,15,15,15,15,15,15,15,15,15,15,15,15,15,15,15,15,15,15,15,15,15,15,15,15,15,15,15,15,15,16,16,16,16,16,16,16,16,16,16,16,16,16,16,16,16,16,16,16,16,16,16,16,16,16,16,16,16,16,16,16,16,16,16,16,16,16,16,16,16,16,16,16,16,16,16,16,16,16,16,16,16,16,16,16,16,16,16,16,16,16,16,16,16,16,16,16,16,16,16,17,17,17,17,17,17,17,17,17,17,17,17,17,17,17,17,17,17,17,17,17,17,17,17,17,17,17,17,17,17,17,17,17,17,17,17,17,17,17,17,17,17,17,17,17,17,17,17,17,17,17,17,17,17,17,17,17,17,17,17,17,17,18,18,18,18,18,18,18,18,18,18,18,18,18,18,18,18,18,18,18,18,18,18,18,18,18,18,18,18,18,18,18,18,18,18,18,18,18,18,18,18,18,18,18,18,18,18,18,18,19,19,19,19,19,19,19,19,19,19,19,19,19,19,19,19,19,19,19,19,19,19,19,19,19,19,19,19,19,19,19,19,19,19,19,19,19,19,19,19,19,19,19,19,19,19,19,19,19,19,19,20,20,20,20,20,20,20,20,20,20,20,20,20,20,20,20,20,20,20,20,20,20,20,20,20,20,20,20,20,20,20,20,20,20,20,20,20,20,20,20,20,20,20,20,20,20,20,20,20,20,20,20,20,20,20,20,20,20,20,20,20,20,20,20,20,20,20,20,20,20,20,20,20,20,20,20,20,20,20,20,20,20,20,20,20,20,20,20,20,20,20,20,20,20,20,20,20,20,20,20,21,21,21,21,21,21,21,21,21,21,21,21,21,21,21,21,21,21,21,21,21,21,21,21,21,21,21,21,21,21,21,21,21,21,21,21,21,21,21,21,21,21,21,21,21,21,21,21,21,21,21,21,21,21,21,21,21,21,21,21,21,21,21,21,21,21,21,21,21,21,21,21,21,21,21,21,21,21,21,21,21,21,21,21,21,21,21,21,21,21,21,21,21,21,21,21,21,21,21,21,21,21,22,22,22,22,22,22,22,22,22,22,22,22,22,22,22,22,22,22,22,22,22,22,22,22,22,22,22,22,22,22,22,22,22,22,22,22,22,22,22,22,22,22,22,22,22,22,22,22,22,22,22,22,22,23,23,23,23,23,23,23,23,23,23,23,23,23,23,23,23,23,23,23,23,23,23,23,23,23,23,23,23,23,23,23,23,23,23,23,23,23,23,23,23,23,23,23,23,23,23,23,24,24,24,24,24,24,24,24,24,24,24,24,24,24,24,24,24,24,24,24,24,24,24,24,24,24,24,24,24,24,24,24,24,24,24,24,24,24,24,24,24,24,24,24,24,24,24,24,24,24,24,24,24,24,24,24,24,24,24,24,24,24,24,24,24,24,24,24],\"xaxis\":\"x9\",\"yaxis\":\"y9\",\"type\":\"histogram\"},{\"alignmentgroup\":\"True\",\"bingroup\":\"x\",\"hovertemplate\":\"fail=%{x}\\u003cbr\\u003ecount=%{y}\\u003cextra\\u003e\\u003c\\u002fextra\\u003e\",\"legendgroup\":\"\",\"marker\":{\"color\":\"#00FF00\",\"line\":{\"color\":\"white\",\"width\":0.5},\"pattern\":{\"shape\":\"\"}},\"name\":\"\",\"offsetgroup\":\"\",\"orientation\":\"v\",\"showlegend\":false,\"x\":[1,0,0,0,0,0,0,0,0,0,0,0,1,0,0,0,0,0,1,0,0,0,0,1,0,0,0,0,0,0,0,0,0,0,1,0,0,1,1,0,0,0,0,0,0,0,1,0,0,0,1,1,0,0,0,1,1,0,1,0,0,0,0,0,0,0,0,1,1,1,0,0,1,0,0,0,0,0,0,0,0,0,0,0,1,0,1,0,1,0,0,0,1,1,0,1,1,1,1,0,0,1,0,1,0,0,0,0,0,0,0,0,0,1,1,0,0,0,0,0,0,1,0,1,1,0,0,0,1,0,0,0,0,1,0,1,0,0,0,1,0,0,0,0,0,0,0,0,0,0,1,0,0,0,0,0,0,0,0,0,1,0,0,1,1,1,0,0,0,0,0,1,1,1,0,0,0,0,0,1,1,0,0,0,0,1,0,0,0,1,0,0,0,0,1,0,0,0,0,1,0,1,1,1,1,0,0,1,1,0,1,0,1,1,0,1,0,0,0,0,0,1,0,0,1,0,0,0,1,1,0,0,1,0,1,0,0,0,0,0,0,0,0,0,1,1,0,1,1,0,0,0,1,1,1,0,0,1,1,0,0,1,0,1,0,0,0,0,0,0,0,0,0,0,0,1,0,1,1,0,0,0,0,1,0,1,1,0,1,1,1,0,1,1,0,1,1,0,0,1,1,1,0,0,0,0,0,1,0,1,0,0,0,0,0,0,1,1,0,0,0,1,0,0,1,0,0,0,0,0,1,1,0,0,0,0,0,0,1,0,0,0,0,0,0,1,1,0,1,1,1,1,1,0,0,1,1,1,1,1,0,1,0,0,0,0,1,1,1,0,1,0,1,0,0,1,0,1,0,1,0,0,0,0,0,1,0,0,0,0,0,0,0,0,1,0,1,1,0,0,0,0,0,1,0,0,1,1,0,1,1,0,0,0,0,0,1,1,1,0,1,1,1,0,0,1,1,0,0,1,0,0,0,1,0,1,0,0,0,1,0,0,0,0,1,1,1,1,0,0,1,1,1,1,0,1,1,1,1,1,0,1,1,0,0,1,0,0,0,0,1,0,0,0,1,0,1,0,0,1,0,0,1,1,0,0,0,0,0,1,0,1,1,1,0,1,0,0,1,0,1,1,1,1,1,0,0,1,0,1,0,1,1,0,0,0,1,1,0,0,0,0,1,1,1,1,0,1,1,0,0,0,1,0,0,0,0,0,1,1,0,0,1,0,0,1,0,1,1,0,1,1,1,0,0,0,1,1,0,0,0,0,0,0,0,0,1,0,0,0,0,0,0,1,0,1,0,1,1,0,1,0,0,0,0,1,1,0,1,0,0,1,1,0,1,0,1,0,1,1,1,1,0,0,0,1,1,0,1,1,1,0,1,0,0,1,1,1,0,0,1,1,1,0,0,0,1,1,0,0,0,0,0,1,0,0,0,1,0,0,1,1,0,1,1,0,0,1,1,1,1,0,1,1,1,0,1,1,0,1,0,0,1,0,0,1,1,1,0,0,0,0,0,0,1,1,0,1,0,1,1,1,0,1,0,0,1,0,0,1,1,1,0,0,1,0,1,0,0,0,1,0,0,0,0,0,1,1,0,1,1,0,1,0,0,0,1,1,1,0,1,0,1,1,0,1,1,0,1,0,0,1,0,0,1,1,1,1,1,1,1,1,0,0,1,1,1,0,1,1,0,0,1,1,0,0,1,1,0,0,1,0,0,0,1,1,0,1,0,1,1,0,0,0,0,0,0,0,1,0,0,0,0,0,1,1,1,0,0,1,1,0,0,1,1,0,1,0,1,0,1,1,0,0,0,1,0,1,0,0,1,0,1,1,0,1,1,1,0,1,0,0,1,1,1,0,1,1,0,0,0,0,1,1,1,0,1,1,1,1,1,0,0,1,0,0,1,1,1,1,1,0,0,1,0,1,0,1,0,1,0,1,1,0,1,1,1,1,1,0,0,1,1,0,0,1,0,0,0,0,0,1,0,0,1,1,0,1,0,1,0,1,1,0,0,1,1,1,1,1,0,0,1,0,0,0,0,1,1,0,0,0,0,1,1,1,1,0,0,0,0,0,1,0,0,1,1,0,0,1,1,1,0,1,1,1,0,1,1,1,1,1,1],\"xaxis\":\"x10\",\"yaxis\":\"y10\",\"type\":\"histogram\"}],                        {\"template\":{\"data\":{\"histogram2dcontour\":[{\"type\":\"histogram2dcontour\",\"colorbar\":{\"outlinewidth\":0,\"ticks\":\"\"},\"colorscale\":[[0.0,\"#0d0887\"],[0.1111111111111111,\"#46039f\"],[0.2222222222222222,\"#7201a8\"],[0.3333333333333333,\"#9c179e\"],[0.4444444444444444,\"#bd3786\"],[0.5555555555555556,\"#d8576b\"],[0.6666666666666666,\"#ed7953\"],[0.7777777777777778,\"#fb9f3a\"],[0.8888888888888888,\"#fdca26\"],[1.0,\"#f0f921\"]]}],\"choropleth\":[{\"type\":\"choropleth\",\"colorbar\":{\"outlinewidth\":0,\"ticks\":\"\"}}],\"histogram2d\":[{\"type\":\"histogram2d\",\"colorbar\":{\"outlinewidth\":0,\"ticks\":\"\"},\"colorscale\":[[0.0,\"#0d0887\"],[0.1111111111111111,\"#46039f\"],[0.2222222222222222,\"#7201a8\"],[0.3333333333333333,\"#9c179e\"],[0.4444444444444444,\"#bd3786\"],[0.5555555555555556,\"#d8576b\"],[0.6666666666666666,\"#ed7953\"],[0.7777777777777778,\"#fb9f3a\"],[0.8888888888888888,\"#fdca26\"],[1.0,\"#f0f921\"]]}],\"heatmap\":[{\"type\":\"heatmap\",\"colorbar\":{\"outlinewidth\":0,\"ticks\":\"\"},\"colorscale\":[[0.0,\"#0d0887\"],[0.1111111111111111,\"#46039f\"],[0.2222222222222222,\"#7201a8\"],[0.3333333333333333,\"#9c179e\"],[0.4444444444444444,\"#bd3786\"],[0.5555555555555556,\"#d8576b\"],[0.6666666666666666,\"#ed7953\"],[0.7777777777777778,\"#fb9f3a\"],[0.8888888888888888,\"#fdca26\"],[1.0,\"#f0f921\"]]}],\"heatmapgl\":[{\"type\":\"heatmapgl\",\"colorbar\":{\"outlinewidth\":0,\"ticks\":\"\"},\"colorscale\":[[0.0,\"#0d0887\"],[0.1111111111111111,\"#46039f\"],[0.2222222222222222,\"#7201a8\"],[0.3333333333333333,\"#9c179e\"],[0.4444444444444444,\"#bd3786\"],[0.5555555555555556,\"#d8576b\"],[0.6666666666666666,\"#ed7953\"],[0.7777777777777778,\"#fb9f3a\"],[0.8888888888888888,\"#fdca26\"],[1.0,\"#f0f921\"]]}],\"contourcarpet\":[{\"type\":\"contourcarpet\",\"colorbar\":{\"outlinewidth\":0,\"ticks\":\"\"}}],\"contour\":[{\"type\":\"contour\",\"colorbar\":{\"outlinewidth\":0,\"ticks\":\"\"},\"colorscale\":[[0.0,\"#0d0887\"],[0.1111111111111111,\"#46039f\"],[0.2222222222222222,\"#7201a8\"],[0.3333333333333333,\"#9c179e\"],[0.4444444444444444,\"#bd3786\"],[0.5555555555555556,\"#d8576b\"],[0.6666666666666666,\"#ed7953\"],[0.7777777777777778,\"#fb9f3a\"],[0.8888888888888888,\"#fdca26\"],[1.0,\"#f0f921\"]]}],\"surface\":[{\"type\":\"surface\",\"colorbar\":{\"outlinewidth\":0,\"ticks\":\"\"},\"colorscale\":[[0.0,\"#0d0887\"],[0.1111111111111111,\"#46039f\"],[0.2222222222222222,\"#7201a8\"],[0.3333333333333333,\"#9c179e\"],[0.4444444444444444,\"#bd3786\"],[0.5555555555555556,\"#d8576b\"],[0.6666666666666666,\"#ed7953\"],[0.7777777777777778,\"#fb9f3a\"],[0.8888888888888888,\"#fdca26\"],[1.0,\"#f0f921\"]]}],\"mesh3d\":[{\"type\":\"mesh3d\",\"colorbar\":{\"outlinewidth\":0,\"ticks\":\"\"}}],\"scatter\":[{\"fillpattern\":{\"fillmode\":\"overlay\",\"size\":10,\"solidity\":0.2},\"type\":\"scatter\"}],\"parcoords\":[{\"type\":\"parcoords\",\"line\":{\"colorbar\":{\"outlinewidth\":0,\"ticks\":\"\"}}}],\"scatterpolargl\":[{\"type\":\"scatterpolargl\",\"marker\":{\"colorbar\":{\"outlinewidth\":0,\"ticks\":\"\"}}}],\"bar\":[{\"error_x\":{\"color\":\"#2a3f5f\"},\"error_y\":{\"color\":\"#2a3f5f\"},\"marker\":{\"line\":{\"color\":\"#E5ECF6\",\"width\":0.5},\"pattern\":{\"fillmode\":\"overlay\",\"size\":10,\"solidity\":0.2}},\"type\":\"bar\"}],\"scattergeo\":[{\"type\":\"scattergeo\",\"marker\":{\"colorbar\":{\"outlinewidth\":0,\"ticks\":\"\"}}}],\"scatterpolar\":[{\"type\":\"scatterpolar\",\"marker\":{\"colorbar\":{\"outlinewidth\":0,\"ticks\":\"\"}}}],\"histogram\":[{\"marker\":{\"pattern\":{\"fillmode\":\"overlay\",\"size\":10,\"solidity\":0.2}},\"type\":\"histogram\"}],\"scattergl\":[{\"type\":\"scattergl\",\"marker\":{\"colorbar\":{\"outlinewidth\":0,\"ticks\":\"\"}}}],\"scatter3d\":[{\"type\":\"scatter3d\",\"line\":{\"colorbar\":{\"outlinewidth\":0,\"ticks\":\"\"}},\"marker\":{\"colorbar\":{\"outlinewidth\":0,\"ticks\":\"\"}}}],\"scattermapbox\":[{\"type\":\"scattermapbox\",\"marker\":{\"colorbar\":{\"outlinewidth\":0,\"ticks\":\"\"}}}],\"scatterternary\":[{\"type\":\"scatterternary\",\"marker\":{\"colorbar\":{\"outlinewidth\":0,\"ticks\":\"\"}}}],\"scattercarpet\":[{\"type\":\"scattercarpet\",\"marker\":{\"colorbar\":{\"outlinewidth\":0,\"ticks\":\"\"}}}],\"carpet\":[{\"aaxis\":{\"endlinecolor\":\"#2a3f5f\",\"gridcolor\":\"white\",\"linecolor\":\"white\",\"minorgridcolor\":\"white\",\"startlinecolor\":\"#2a3f5f\"},\"baxis\":{\"endlinecolor\":\"#2a3f5f\",\"gridcolor\":\"white\",\"linecolor\":\"white\",\"minorgridcolor\":\"white\",\"startlinecolor\":\"#2a3f5f\"},\"type\":\"carpet\"}],\"table\":[{\"cells\":{\"fill\":{\"color\":\"#EBF0F8\"},\"line\":{\"color\":\"white\"}},\"header\":{\"fill\":{\"color\":\"#C8D4E3\"},\"line\":{\"color\":\"white\"}},\"type\":\"table\"}],\"barpolar\":[{\"marker\":{\"line\":{\"color\":\"#E5ECF6\",\"width\":0.5},\"pattern\":{\"fillmode\":\"overlay\",\"size\":10,\"solidity\":0.2}},\"type\":\"barpolar\"}],\"pie\":[{\"automargin\":true,\"type\":\"pie\"}]},\"layout\":{\"autotypenumbers\":\"strict\",\"colorway\":[\"#636efa\",\"#EF553B\",\"#00cc96\",\"#ab63fa\",\"#FFA15A\",\"#19d3f3\",\"#FF6692\",\"#B6E880\",\"#FF97FF\",\"#FECB52\"],\"font\":{\"color\":\"#2a3f5f\"},\"hovermode\":\"closest\",\"hoverlabel\":{\"align\":\"left\"},\"paper_bgcolor\":\"white\",\"plot_bgcolor\":\"#E5ECF6\",\"polar\":{\"bgcolor\":\"#E5ECF6\",\"angularaxis\":{\"gridcolor\":\"white\",\"linecolor\":\"white\",\"ticks\":\"\"},\"radialaxis\":{\"gridcolor\":\"white\",\"linecolor\":\"white\",\"ticks\":\"\"}},\"ternary\":{\"bgcolor\":\"#E5ECF6\",\"aaxis\":{\"gridcolor\":\"white\",\"linecolor\":\"white\",\"ticks\":\"\"},\"baxis\":{\"gridcolor\":\"white\",\"linecolor\":\"white\",\"ticks\":\"\"},\"caxis\":{\"gridcolor\":\"white\",\"linecolor\":\"white\",\"ticks\":\"\"}},\"coloraxis\":{\"colorbar\":{\"outlinewidth\":0,\"ticks\":\"\"}},\"colorscale\":{\"sequential\":[[0.0,\"#0d0887\"],[0.1111111111111111,\"#46039f\"],[0.2222222222222222,\"#7201a8\"],[0.3333333333333333,\"#9c179e\"],[0.4444444444444444,\"#bd3786\"],[0.5555555555555556,\"#d8576b\"],[0.6666666666666666,\"#ed7953\"],[0.7777777777777778,\"#fb9f3a\"],[0.8888888888888888,\"#fdca26\"],[1.0,\"#f0f921\"]],\"sequentialminus\":[[0.0,\"#0d0887\"],[0.1111111111111111,\"#46039f\"],[0.2222222222222222,\"#7201a8\"],[0.3333333333333333,\"#9c179e\"],[0.4444444444444444,\"#bd3786\"],[0.5555555555555556,\"#d8576b\"],[0.6666666666666666,\"#ed7953\"],[0.7777777777777778,\"#fb9f3a\"],[0.8888888888888888,\"#fdca26\"],[1.0,\"#f0f921\"]],\"diverging\":[[0,\"#8e0152\"],[0.1,\"#c51b7d\"],[0.2,\"#de77ae\"],[0.3,\"#f1b6da\"],[0.4,\"#fde0ef\"],[0.5,\"#f7f7f7\"],[0.6,\"#e6f5d0\"],[0.7,\"#b8e186\"],[0.8,\"#7fbc41\"],[0.9,\"#4d9221\"],[1,\"#276419\"]]},\"xaxis\":{\"gridcolor\":\"white\",\"linecolor\":\"white\",\"ticks\":\"\",\"title\":{\"standoff\":15},\"zerolinecolor\":\"white\",\"automargin\":true,\"zerolinewidth\":2},\"yaxis\":{\"gridcolor\":\"white\",\"linecolor\":\"white\",\"ticks\":\"\",\"title\":{\"standoff\":15},\"zerolinecolor\":\"white\",\"automargin\":true,\"zerolinewidth\":2},\"scene\":{\"xaxis\":{\"backgroundcolor\":\"#E5ECF6\",\"gridcolor\":\"white\",\"linecolor\":\"white\",\"showbackground\":true,\"ticks\":\"\",\"zerolinecolor\":\"white\",\"gridwidth\":2},\"yaxis\":{\"backgroundcolor\":\"#E5ECF6\",\"gridcolor\":\"white\",\"linecolor\":\"white\",\"showbackground\":true,\"ticks\":\"\",\"zerolinecolor\":\"white\",\"gridwidth\":2},\"zaxis\":{\"backgroundcolor\":\"#E5ECF6\",\"gridcolor\":\"white\",\"linecolor\":\"white\",\"showbackground\":true,\"ticks\":\"\",\"zerolinecolor\":\"white\",\"gridwidth\":2}},\"shapedefaults\":{\"line\":{\"color\":\"#2a3f5f\"}},\"annotationdefaults\":{\"arrowcolor\":\"#2a3f5f\",\"arrowhead\":0,\"arrowwidth\":1},\"geo\":{\"bgcolor\":\"white\",\"landcolor\":\"#E5ECF6\",\"subunitcolor\":\"white\",\"showland\":true,\"showlakes\":true,\"lakecolor\":\"white\"},\"title\":{\"x\":0.05},\"mapbox\":{\"style\":\"light\"}}},\"xaxis\":{\"anchor\":\"y\",\"domain\":[0.0,0.45]},\"yaxis\":{\"anchor\":\"x\",\"domain\":[0.88,1.0]},\"xaxis2\":{\"anchor\":\"y2\",\"domain\":[0.55,1.0]},\"yaxis2\":{\"anchor\":\"x2\",\"domain\":[0.88,1.0]},\"xaxis3\":{\"anchor\":\"y3\",\"domain\":[0.0,0.45]},\"yaxis3\":{\"anchor\":\"x3\",\"domain\":[0.66,0.78]},\"xaxis4\":{\"anchor\":\"y4\",\"domain\":[0.55,1.0]},\"yaxis4\":{\"anchor\":\"x4\",\"domain\":[0.66,0.78]},\"xaxis5\":{\"anchor\":\"y5\",\"domain\":[0.0,0.45]},\"yaxis5\":{\"anchor\":\"x5\",\"domain\":[0.44,0.56]},\"xaxis6\":{\"anchor\":\"y6\",\"domain\":[0.55,1.0]},\"yaxis6\":{\"anchor\":\"x6\",\"domain\":[0.44,0.56]},\"xaxis7\":{\"anchor\":\"y7\",\"domain\":[0.0,0.45]},\"yaxis7\":{\"anchor\":\"x7\",\"domain\":[0.22,0.33999999999999997]},\"xaxis8\":{\"anchor\":\"y8\",\"domain\":[0.55,1.0]},\"yaxis8\":{\"anchor\":\"x8\",\"domain\":[0.22,0.33999999999999997]},\"xaxis9\":{\"anchor\":\"y9\",\"domain\":[0.0,0.45]},\"yaxis9\":{\"anchor\":\"x9\",\"domain\":[0.0,0.12]},\"xaxis10\":{\"anchor\":\"y10\",\"domain\":[0.55,1.0]},\"yaxis10\":{\"anchor\":\"x10\",\"domain\":[0.0,0.12]},\"annotations\":[{\"font\":{\"size\":16},\"showarrow\":false,\"text\":\"footfall\",\"x\":0.225,\"xanchor\":\"center\",\"xref\":\"paper\",\"y\":1.0,\"yanchor\":\"bottom\",\"yref\":\"paper\"},{\"font\":{\"size\":16},\"showarrow\":false,\"text\":\"tempMode\",\"x\":0.775,\"xanchor\":\"center\",\"xref\":\"paper\",\"y\":1.0,\"yanchor\":\"bottom\",\"yref\":\"paper\"},{\"font\":{\"size\":16},\"showarrow\":false,\"text\":\"AQ\",\"x\":0.225,\"xanchor\":\"center\",\"xref\":\"paper\",\"y\":0.78,\"yanchor\":\"bottom\",\"yref\":\"paper\"},{\"font\":{\"size\":16},\"showarrow\":false,\"text\":\"USS\",\"x\":0.775,\"xanchor\":\"center\",\"xref\":\"paper\",\"y\":0.78,\"yanchor\":\"bottom\",\"yref\":\"paper\"},{\"font\":{\"size\":16},\"showarrow\":false,\"text\":\"CS\",\"x\":0.225,\"xanchor\":\"center\",\"xref\":\"paper\",\"y\":0.56,\"yanchor\":\"bottom\",\"yref\":\"paper\"},{\"font\":{\"size\":16},\"showarrow\":false,\"text\":\"VOC\",\"x\":0.775,\"xanchor\":\"center\",\"xref\":\"paper\",\"y\":0.56,\"yanchor\":\"bottom\",\"yref\":\"paper\"},{\"font\":{\"size\":16},\"showarrow\":false,\"text\":\"RP\",\"x\":0.225,\"xanchor\":\"center\",\"xref\":\"paper\",\"y\":0.33999999999999997,\"yanchor\":\"bottom\",\"yref\":\"paper\"},{\"font\":{\"size\":16},\"showarrow\":false,\"text\":\"IP\",\"x\":0.775,\"xanchor\":\"center\",\"xref\":\"paper\",\"y\":0.33999999999999997,\"yanchor\":\"bottom\",\"yref\":\"paper\"},{\"font\":{\"size\":16},\"showarrow\":false,\"text\":\"Temperature\",\"x\":0.225,\"xanchor\":\"center\",\"xref\":\"paper\",\"y\":0.12,\"yanchor\":\"bottom\",\"yref\":\"paper\"},{\"font\":{\"size\":16},\"showarrow\":false,\"text\":\"fail\",\"x\":0.775,\"xanchor\":\"center\",\"xref\":\"paper\",\"y\":0.12,\"yanchor\":\"bottom\",\"yref\":\"paper\"}],\"title\":{\"font\":{\"size\":25},\"text\":\"Distribui\\u00e7\\u00e3o das vari\\u00e1veis num\\u00e9ricas\",\"x\":0.5},\"height\":1200,\"showlegend\":false},                        {\"responsive\": true}                    ).then(function(){\n",
              "                            \n",
              "var gd = document.getElementById('1bc1e035-ecd3-4830-9a77-d76c04c03c40');\n",
              "var x = new MutationObserver(function (mutations, observer) {{\n",
              "        var display = window.getComputedStyle(gd).display;\n",
              "        if (!display || display === 'none') {{\n",
              "            console.log([gd, 'removed!']);\n",
              "            Plotly.purge(gd);\n",
              "            observer.disconnect();\n",
              "        }}\n",
              "}});\n",
              "\n",
              "// Listen for the removal of the full notebook cells\n",
              "var notebookContainer = gd.closest('#notebook-container');\n",
              "if (notebookContainer) {{\n",
              "    x.observe(notebookContainer, {childList: true});\n",
              "}}\n",
              "\n",
              "// Listen for the clearing of the current output cell\n",
              "var outputEl = gd.closest('.output');\n",
              "if (outputEl) {{\n",
              "    x.observe(outputEl, {childList: true});\n",
              "}}\n",
              "\n",
              "                        })                };                            </script>        </div>\n",
              "</body>\n",
              "</html>"
            ]
          },
          "metadata": {}
        }
      ]
    },
    {
      "cell_type": "code",
      "source": [
        "# Matriz de correlação\n",
        "corr = dados.corr()\n",
        "fig = ff.create_annotated_heatmap(\n",
        "    z=corr.values,\n",
        "    x=list(corr.columns),\n",
        "    y=list(corr.index),\n",
        "    annotation_text=corr.round(2).values,\n",
        "    showscale=True,\n",
        "    colorscale='Viridis')\n",
        "fig.update_layout(title_text='Correlation Heatmap', title_font=dict(size=25), title_x=0.5)\n",
        "fig.show()"
      ],
      "metadata": {
        "colab": {
          "base_uri": "https://localhost:8080/",
          "height": 542
        },
        "id": "yIdsS_1XRtRJ",
        "outputId": "cf1f7834-3bc6-479a-b526-997c48c761d7"
      },
      "execution_count": 17,
      "outputs": [
        {
          "output_type": "display_data",
          "data": {
            "text/html": [
              "<html>\n",
              "<head><meta charset=\"utf-8\" /></head>\n",
              "<body>\n",
              "    <div>            <script src=\"https://cdnjs.cloudflare.com/ajax/libs/mathjax/2.7.5/MathJax.js?config=TeX-AMS-MML_SVG\"></script><script type=\"text/javascript\">if (window.MathJax && window.MathJax.Hub && window.MathJax.Hub.Config) {window.MathJax.Hub.Config({SVG: {font: \"STIX-Web\"}});}</script>                <script type=\"text/javascript\">window.PlotlyConfig = {MathJaxConfig: 'local'};</script>\n",
              "        <script charset=\"utf-8\" src=\"https://cdn.plot.ly/plotly-2.24.1.min.js\"></script>                <div id=\"97e8d124-76ef-4cbc-abbc-7e3ea4692933\" class=\"plotly-graph-div\" style=\"height:525px; width:100%;\"></div>            <script type=\"text/javascript\">                                    window.PLOTLYENV=window.PLOTLYENV || {};                                    if (document.getElementById(\"97e8d124-76ef-4cbc-abbc-7e3ea4692933\")) {                    Plotly.newPlot(                        \"97e8d124-76ef-4cbc-abbc-7e3ea4692933\",                        [{\"colorscale\":[[0.0,\"#440154\"],[0.1111111111111111,\"#482878\"],[0.2222222222222222,\"#3e4989\"],[0.3333333333333333,\"#31688e\"],[0.4444444444444444,\"#26828e\"],[0.5555555555555556,\"#1f9e89\"],[0.6666666666666666,\"#35b779\"],[0.7777777777777778,\"#6ece58\"],[0.8888888888888888,\"#b5de2b\"],[1.0,\"#fde725\"]],\"reversescale\":false,\"showscale\":true,\"x\":[\"footfall\",\"tempMode\",\"AQ\",\"USS\",\"CS\",\"VOC\",\"RP\",\"IP\",\"Temperature\",\"fail\"],\"y\":[\"footfall\",\"tempMode\",\"AQ\",\"USS\",\"CS\",\"VOC\",\"RP\",\"IP\",\"Temperature\",\"fail\"],\"z\":[[1.0,0.02058859291281846,-0.0660971617486883,0.019465187520168886,0.025771253698809827,-0.089843483701611,-0.04370549924980147,-0.0036289221062340287,-0.01780437533182584,-0.07332423387027893],[0.02058859291281846,1.0,-0.010396274866591155,0.002119994913291786,-0.014200422203396717,-0.051984758652452855,0.40880461678395924,-0.05859328570095188,-0.06299037063496868,-0.0140429993981071],[-0.0660971617486883,-0.010396274866591155,1.0,-0.15691210708544537,-0.08959395184763146,0.6182710681956367,0.09475615720908258,-0.10508258186596887,0.03511921264376905,0.5828951650565499],[0.019465187520168886,0.002119994913291786,-0.15691210708544537,1.0,-0.35298012342100715,-0.3995791297386572,-0.03255210357068177,-0.2065461519594911,-0.2252316853040358,-0.46671165015888993],[0.025771253698809827,-0.014200422203396717,-0.08959395184763146,-0.35298012342100715,1.0,0.048470004069140586,-0.0270012499887546,0.18538615327891092,0.14363983793461702,0.019292303549643626],[-0.089843483701611,-0.051984758652452855,0.6182710681956367,-0.3995791297386572,0.048470004069140586,1.0,0.008076048606358655,0.10448031271257605,0.20976887173331682,0.7971823618337907],[-0.04370549924980147,0.40880461678395924,0.09475615720908258,-0.03255210357068177,-0.0270012499887546,0.008076048606358655,1.0,-0.15896428107927807,-0.07857252933238756,0.053740323441042],[-0.0036289221062340287,-0.05859328570095188,-0.10508258186596887,-0.2065461519594911,0.18538615327891092,0.10448031271257605,-0.15896428107927807,1.0,0.37230712219957024,0.08649681597877297],[-0.01780437533182584,-0.06299037063496868,0.03511921264376905,-0.2252316853040358,0.14363983793461702,0.20976887173331682,-0.07857252933238756,0.37230712219957024,1.0,0.1910912127547773],[-0.07332423387027893,-0.0140429993981071,0.5828951650565499,-0.46671165015888993,0.019292303549643626,0.7971823618337907,0.053740323441042,0.08649681597877297,0.1910912127547773,1.0]],\"type\":\"heatmap\"}],                        {\"annotations\":[{\"font\":{\"color\":\"#000000\"},\"showarrow\":false,\"text\":\"1.0\",\"x\":\"footfall\",\"xref\":\"x\",\"y\":\"footfall\",\"yref\":\"y\"},{\"font\":{\"color\":\"#FFFFFF\"},\"showarrow\":false,\"text\":\"0.02\",\"x\":\"tempMode\",\"xref\":\"x\",\"y\":\"footfall\",\"yref\":\"y\"},{\"font\":{\"color\":\"#FFFFFF\"},\"showarrow\":false,\"text\":\"-0.07\",\"x\":\"AQ\",\"xref\":\"x\",\"y\":\"footfall\",\"yref\":\"y\"},{\"font\":{\"color\":\"#FFFFFF\"},\"showarrow\":false,\"text\":\"0.02\",\"x\":\"USS\",\"xref\":\"x\",\"y\":\"footfall\",\"yref\":\"y\"},{\"font\":{\"color\":\"#FFFFFF\"},\"showarrow\":false,\"text\":\"0.03\",\"x\":\"CS\",\"xref\":\"x\",\"y\":\"footfall\",\"yref\":\"y\"},{\"font\":{\"color\":\"#FFFFFF\"},\"showarrow\":false,\"text\":\"-0.09\",\"x\":\"VOC\",\"xref\":\"x\",\"y\":\"footfall\",\"yref\":\"y\"},{\"font\":{\"color\":\"#FFFFFF\"},\"showarrow\":false,\"text\":\"-0.04\",\"x\":\"RP\",\"xref\":\"x\",\"y\":\"footfall\",\"yref\":\"y\"},{\"font\":{\"color\":\"#FFFFFF\"},\"showarrow\":false,\"text\":\"-0.0\",\"x\":\"IP\",\"xref\":\"x\",\"y\":\"footfall\",\"yref\":\"y\"},{\"font\":{\"color\":\"#FFFFFF\"},\"showarrow\":false,\"text\":\"-0.02\",\"x\":\"Temperature\",\"xref\":\"x\",\"y\":\"footfall\",\"yref\":\"y\"},{\"font\":{\"color\":\"#FFFFFF\"},\"showarrow\":false,\"text\":\"-0.07\",\"x\":\"fail\",\"xref\":\"x\",\"y\":\"footfall\",\"yref\":\"y\"},{\"font\":{\"color\":\"#FFFFFF\"},\"showarrow\":false,\"text\":\"0.02\",\"x\":\"footfall\",\"xref\":\"x\",\"y\":\"tempMode\",\"yref\":\"y\"},{\"font\":{\"color\":\"#000000\"},\"showarrow\":false,\"text\":\"1.0\",\"x\":\"tempMode\",\"xref\":\"x\",\"y\":\"tempMode\",\"yref\":\"y\"},{\"font\":{\"color\":\"#FFFFFF\"},\"showarrow\":false,\"text\":\"-0.01\",\"x\":\"AQ\",\"xref\":\"x\",\"y\":\"tempMode\",\"yref\":\"y\"},{\"font\":{\"color\":\"#FFFFFF\"},\"showarrow\":false,\"text\":\"0.0\",\"x\":\"USS\",\"xref\":\"x\",\"y\":\"tempMode\",\"yref\":\"y\"},{\"font\":{\"color\":\"#FFFFFF\"},\"showarrow\":false,\"text\":\"-0.01\",\"x\":\"CS\",\"xref\":\"x\",\"y\":\"tempMode\",\"yref\":\"y\"},{\"font\":{\"color\":\"#FFFFFF\"},\"showarrow\":false,\"text\":\"-0.05\",\"x\":\"VOC\",\"xref\":\"x\",\"y\":\"tempMode\",\"yref\":\"y\"},{\"font\":{\"color\":\"#000000\"},\"showarrow\":false,\"text\":\"0.41\",\"x\":\"RP\",\"xref\":\"x\",\"y\":\"tempMode\",\"yref\":\"y\"},{\"font\":{\"color\":\"#FFFFFF\"},\"showarrow\":false,\"text\":\"-0.06\",\"x\":\"IP\",\"xref\":\"x\",\"y\":\"tempMode\",\"yref\":\"y\"},{\"font\":{\"color\":\"#FFFFFF\"},\"showarrow\":false,\"text\":\"-0.06\",\"x\":\"Temperature\",\"xref\":\"x\",\"y\":\"tempMode\",\"yref\":\"y\"},{\"font\":{\"color\":\"#FFFFFF\"},\"showarrow\":false,\"text\":\"-0.01\",\"x\":\"fail\",\"xref\":\"x\",\"y\":\"tempMode\",\"yref\":\"y\"},{\"font\":{\"color\":\"#FFFFFF\"},\"showarrow\":false,\"text\":\"-0.07\",\"x\":\"footfall\",\"xref\":\"x\",\"y\":\"AQ\",\"yref\":\"y\"},{\"font\":{\"color\":\"#FFFFFF\"},\"showarrow\":false,\"text\":\"-0.01\",\"x\":\"tempMode\",\"xref\":\"x\",\"y\":\"AQ\",\"yref\":\"y\"},{\"font\":{\"color\":\"#000000\"},\"showarrow\":false,\"text\":\"1.0\",\"x\":\"AQ\",\"xref\":\"x\",\"y\":\"AQ\",\"yref\":\"y\"},{\"font\":{\"color\":\"#FFFFFF\"},\"showarrow\":false,\"text\":\"-0.16\",\"x\":\"USS\",\"xref\":\"x\",\"y\":\"AQ\",\"yref\":\"y\"},{\"font\":{\"color\":\"#FFFFFF\"},\"showarrow\":false,\"text\":\"-0.09\",\"x\":\"CS\",\"xref\":\"x\",\"y\":\"AQ\",\"yref\":\"y\"},{\"font\":{\"color\":\"#000000\"},\"showarrow\":false,\"text\":\"0.62\",\"x\":\"VOC\",\"xref\":\"x\",\"y\":\"AQ\",\"yref\":\"y\"},{\"font\":{\"color\":\"#FFFFFF\"},\"showarrow\":false,\"text\":\"0.09\",\"x\":\"RP\",\"xref\":\"x\",\"y\":\"AQ\",\"yref\":\"y\"},{\"font\":{\"color\":\"#FFFFFF\"},\"showarrow\":false,\"text\":\"-0.11\",\"x\":\"IP\",\"xref\":\"x\",\"y\":\"AQ\",\"yref\":\"y\"},{\"font\":{\"color\":\"#FFFFFF\"},\"showarrow\":false,\"text\":\"0.04\",\"x\":\"Temperature\",\"xref\":\"x\",\"y\":\"AQ\",\"yref\":\"y\"},{\"font\":{\"color\":\"#000000\"},\"showarrow\":false,\"text\":\"0.58\",\"x\":\"fail\",\"xref\":\"x\",\"y\":\"AQ\",\"yref\":\"y\"},{\"font\":{\"color\":\"#FFFFFF\"},\"showarrow\":false,\"text\":\"0.02\",\"x\":\"footfall\",\"xref\":\"x\",\"y\":\"USS\",\"yref\":\"y\"},{\"font\":{\"color\":\"#FFFFFF\"},\"showarrow\":false,\"text\":\"0.0\",\"x\":\"tempMode\",\"xref\":\"x\",\"y\":\"USS\",\"yref\":\"y\"},{\"font\":{\"color\":\"#FFFFFF\"},\"showarrow\":false,\"text\":\"-0.16\",\"x\":\"AQ\",\"xref\":\"x\",\"y\":\"USS\",\"yref\":\"y\"},{\"font\":{\"color\":\"#000000\"},\"showarrow\":false,\"text\":\"1.0\",\"x\":\"USS\",\"xref\":\"x\",\"y\":\"USS\",\"yref\":\"y\"},{\"font\":{\"color\":\"#FFFFFF\"},\"showarrow\":false,\"text\":\"-0.35\",\"x\":\"CS\",\"xref\":\"x\",\"y\":\"USS\",\"yref\":\"y\"},{\"font\":{\"color\":\"#FFFFFF\"},\"showarrow\":false,\"text\":\"-0.4\",\"x\":\"VOC\",\"xref\":\"x\",\"y\":\"USS\",\"yref\":\"y\"},{\"font\":{\"color\":\"#FFFFFF\"},\"showarrow\":false,\"text\":\"-0.03\",\"x\":\"RP\",\"xref\":\"x\",\"y\":\"USS\",\"yref\":\"y\"},{\"font\":{\"color\":\"#FFFFFF\"},\"showarrow\":false,\"text\":\"-0.21\",\"x\":\"IP\",\"xref\":\"x\",\"y\":\"USS\",\"yref\":\"y\"},{\"font\":{\"color\":\"#FFFFFF\"},\"showarrow\":false,\"text\":\"-0.23\",\"x\":\"Temperature\",\"xref\":\"x\",\"y\":\"USS\",\"yref\":\"y\"},{\"font\":{\"color\":\"#FFFFFF\"},\"showarrow\":false,\"text\":\"-0.47\",\"x\":\"fail\",\"xref\":\"x\",\"y\":\"USS\",\"yref\":\"y\"},{\"font\":{\"color\":\"#FFFFFF\"},\"showarrow\":false,\"text\":\"0.03\",\"x\":\"footfall\",\"xref\":\"x\",\"y\":\"CS\",\"yref\":\"y\"},{\"font\":{\"color\":\"#FFFFFF\"},\"showarrow\":false,\"text\":\"-0.01\",\"x\":\"tempMode\",\"xref\":\"x\",\"y\":\"CS\",\"yref\":\"y\"},{\"font\":{\"color\":\"#FFFFFF\"},\"showarrow\":false,\"text\":\"-0.09\",\"x\":\"AQ\",\"xref\":\"x\",\"y\":\"CS\",\"yref\":\"y\"},{\"font\":{\"color\":\"#FFFFFF\"},\"showarrow\":false,\"text\":\"-0.35\",\"x\":\"USS\",\"xref\":\"x\",\"y\":\"CS\",\"yref\":\"y\"},{\"font\":{\"color\":\"#000000\"},\"showarrow\":false,\"text\":\"1.0\",\"x\":\"CS\",\"xref\":\"x\",\"y\":\"CS\",\"yref\":\"y\"},{\"font\":{\"color\":\"#FFFFFF\"},\"showarrow\":false,\"text\":\"0.05\",\"x\":\"VOC\",\"xref\":\"x\",\"y\":\"CS\",\"yref\":\"y\"},{\"font\":{\"color\":\"#FFFFFF\"},\"showarrow\":false,\"text\":\"-0.03\",\"x\":\"RP\",\"xref\":\"x\",\"y\":\"CS\",\"yref\":\"y\"},{\"font\":{\"color\":\"#FFFFFF\"},\"showarrow\":false,\"text\":\"0.19\",\"x\":\"IP\",\"xref\":\"x\",\"y\":\"CS\",\"yref\":\"y\"},{\"font\":{\"color\":\"#FFFFFF\"},\"showarrow\":false,\"text\":\"0.14\",\"x\":\"Temperature\",\"xref\":\"x\",\"y\":\"CS\",\"yref\":\"y\"},{\"font\":{\"color\":\"#FFFFFF\"},\"showarrow\":false,\"text\":\"0.02\",\"x\":\"fail\",\"xref\":\"x\",\"y\":\"CS\",\"yref\":\"y\"},{\"font\":{\"color\":\"#FFFFFF\"},\"showarrow\":false,\"text\":\"-0.09\",\"x\":\"footfall\",\"xref\":\"x\",\"y\":\"VOC\",\"yref\":\"y\"},{\"font\":{\"color\":\"#FFFFFF\"},\"showarrow\":false,\"text\":\"-0.05\",\"x\":\"tempMode\",\"xref\":\"x\",\"y\":\"VOC\",\"yref\":\"y\"},{\"font\":{\"color\":\"#000000\"},\"showarrow\":false,\"text\":\"0.62\",\"x\":\"AQ\",\"xref\":\"x\",\"y\":\"VOC\",\"yref\":\"y\"},{\"font\":{\"color\":\"#FFFFFF\"},\"showarrow\":false,\"text\":\"-0.4\",\"x\":\"USS\",\"xref\":\"x\",\"y\":\"VOC\",\"yref\":\"y\"},{\"font\":{\"color\":\"#FFFFFF\"},\"showarrow\":false,\"text\":\"0.05\",\"x\":\"CS\",\"xref\":\"x\",\"y\":\"VOC\",\"yref\":\"y\"},{\"font\":{\"color\":\"#000000\"},\"showarrow\":false,\"text\":\"1.0\",\"x\":\"VOC\",\"xref\":\"x\",\"y\":\"VOC\",\"yref\":\"y\"},{\"font\":{\"color\":\"#FFFFFF\"},\"showarrow\":false,\"text\":\"0.01\",\"x\":\"RP\",\"xref\":\"x\",\"y\":\"VOC\",\"yref\":\"y\"},{\"font\":{\"color\":\"#FFFFFF\"},\"showarrow\":false,\"text\":\"0.1\",\"x\":\"IP\",\"xref\":\"x\",\"y\":\"VOC\",\"yref\":\"y\"},{\"font\":{\"color\":\"#FFFFFF\"},\"showarrow\":false,\"text\":\"0.21\",\"x\":\"Temperature\",\"xref\":\"x\",\"y\":\"VOC\",\"yref\":\"y\"},{\"font\":{\"color\":\"#000000\"},\"showarrow\":false,\"text\":\"0.8\",\"x\":\"fail\",\"xref\":\"x\",\"y\":\"VOC\",\"yref\":\"y\"},{\"font\":{\"color\":\"#FFFFFF\"},\"showarrow\":false,\"text\":\"-0.04\",\"x\":\"footfall\",\"xref\":\"x\",\"y\":\"RP\",\"yref\":\"y\"},{\"font\":{\"color\":\"#000000\"},\"showarrow\":false,\"text\":\"0.41\",\"x\":\"tempMode\",\"xref\":\"x\",\"y\":\"RP\",\"yref\":\"y\"},{\"font\":{\"color\":\"#FFFFFF\"},\"showarrow\":false,\"text\":\"0.09\",\"x\":\"AQ\",\"xref\":\"x\",\"y\":\"RP\",\"yref\":\"y\"},{\"font\":{\"color\":\"#FFFFFF\"},\"showarrow\":false,\"text\":\"-0.03\",\"x\":\"USS\",\"xref\":\"x\",\"y\":\"RP\",\"yref\":\"y\"},{\"font\":{\"color\":\"#FFFFFF\"},\"showarrow\":false,\"text\":\"-0.03\",\"x\":\"CS\",\"xref\":\"x\",\"y\":\"RP\",\"yref\":\"y\"},{\"font\":{\"color\":\"#FFFFFF\"},\"showarrow\":false,\"text\":\"0.01\",\"x\":\"VOC\",\"xref\":\"x\",\"y\":\"RP\",\"yref\":\"y\"},{\"font\":{\"color\":\"#000000\"},\"showarrow\":false,\"text\":\"1.0\",\"x\":\"RP\",\"xref\":\"x\",\"y\":\"RP\",\"yref\":\"y\"},{\"font\":{\"color\":\"#FFFFFF\"},\"showarrow\":false,\"text\":\"-0.16\",\"x\":\"IP\",\"xref\":\"x\",\"y\":\"RP\",\"yref\":\"y\"},{\"font\":{\"color\":\"#FFFFFF\"},\"showarrow\":false,\"text\":\"-0.08\",\"x\":\"Temperature\",\"xref\":\"x\",\"y\":\"RP\",\"yref\":\"y\"},{\"font\":{\"color\":\"#FFFFFF\"},\"showarrow\":false,\"text\":\"0.05\",\"x\":\"fail\",\"xref\":\"x\",\"y\":\"RP\",\"yref\":\"y\"},{\"font\":{\"color\":\"#FFFFFF\"},\"showarrow\":false,\"text\":\"-0.0\",\"x\":\"footfall\",\"xref\":\"x\",\"y\":\"IP\",\"yref\":\"y\"},{\"font\":{\"color\":\"#FFFFFF\"},\"showarrow\":false,\"text\":\"-0.06\",\"x\":\"tempMode\",\"xref\":\"x\",\"y\":\"IP\",\"yref\":\"y\"},{\"font\":{\"color\":\"#FFFFFF\"},\"showarrow\":false,\"text\":\"-0.11\",\"x\":\"AQ\",\"xref\":\"x\",\"y\":\"IP\",\"yref\":\"y\"},{\"font\":{\"color\":\"#FFFFFF\"},\"showarrow\":false,\"text\":\"-0.21\",\"x\":\"USS\",\"xref\":\"x\",\"y\":\"IP\",\"yref\":\"y\"},{\"font\":{\"color\":\"#FFFFFF\"},\"showarrow\":false,\"text\":\"0.19\",\"x\":\"CS\",\"xref\":\"x\",\"y\":\"IP\",\"yref\":\"y\"},{\"font\":{\"color\":\"#FFFFFF\"},\"showarrow\":false,\"text\":\"0.1\",\"x\":\"VOC\",\"xref\":\"x\",\"y\":\"IP\",\"yref\":\"y\"},{\"font\":{\"color\":\"#FFFFFF\"},\"showarrow\":false,\"text\":\"-0.16\",\"x\":\"RP\",\"xref\":\"x\",\"y\":\"IP\",\"yref\":\"y\"},{\"font\":{\"color\":\"#000000\"},\"showarrow\":false,\"text\":\"1.0\",\"x\":\"IP\",\"xref\":\"x\",\"y\":\"IP\",\"yref\":\"y\"},{\"font\":{\"color\":\"#000000\"},\"showarrow\":false,\"text\":\"0.37\",\"x\":\"Temperature\",\"xref\":\"x\",\"y\":\"IP\",\"yref\":\"y\"},{\"font\":{\"color\":\"#FFFFFF\"},\"showarrow\":false,\"text\":\"0.09\",\"x\":\"fail\",\"xref\":\"x\",\"y\":\"IP\",\"yref\":\"y\"},{\"font\":{\"color\":\"#FFFFFF\"},\"showarrow\":false,\"text\":\"-0.02\",\"x\":\"footfall\",\"xref\":\"x\",\"y\":\"Temperature\",\"yref\":\"y\"},{\"font\":{\"color\":\"#FFFFFF\"},\"showarrow\":false,\"text\":\"-0.06\",\"x\":\"tempMode\",\"xref\":\"x\",\"y\":\"Temperature\",\"yref\":\"y\"},{\"font\":{\"color\":\"#FFFFFF\"},\"showarrow\":false,\"text\":\"0.04\",\"x\":\"AQ\",\"xref\":\"x\",\"y\":\"Temperature\",\"yref\":\"y\"},{\"font\":{\"color\":\"#FFFFFF\"},\"showarrow\":false,\"text\":\"-0.23\",\"x\":\"USS\",\"xref\":\"x\",\"y\":\"Temperature\",\"yref\":\"y\"},{\"font\":{\"color\":\"#FFFFFF\"},\"showarrow\":false,\"text\":\"0.14\",\"x\":\"CS\",\"xref\":\"x\",\"y\":\"Temperature\",\"yref\":\"y\"},{\"font\":{\"color\":\"#FFFFFF\"},\"showarrow\":false,\"text\":\"0.21\",\"x\":\"VOC\",\"xref\":\"x\",\"y\":\"Temperature\",\"yref\":\"y\"},{\"font\":{\"color\":\"#FFFFFF\"},\"showarrow\":false,\"text\":\"-0.08\",\"x\":\"RP\",\"xref\":\"x\",\"y\":\"Temperature\",\"yref\":\"y\"},{\"font\":{\"color\":\"#000000\"},\"showarrow\":false,\"text\":\"0.37\",\"x\":\"IP\",\"xref\":\"x\",\"y\":\"Temperature\",\"yref\":\"y\"},{\"font\":{\"color\":\"#000000\"},\"showarrow\":false,\"text\":\"1.0\",\"x\":\"Temperature\",\"xref\":\"x\",\"y\":\"Temperature\",\"yref\":\"y\"},{\"font\":{\"color\":\"#FFFFFF\"},\"showarrow\":false,\"text\":\"0.19\",\"x\":\"fail\",\"xref\":\"x\",\"y\":\"Temperature\",\"yref\":\"y\"},{\"font\":{\"color\":\"#FFFFFF\"},\"showarrow\":false,\"text\":\"-0.07\",\"x\":\"footfall\",\"xref\":\"x\",\"y\":\"fail\",\"yref\":\"y\"},{\"font\":{\"color\":\"#FFFFFF\"},\"showarrow\":false,\"text\":\"-0.01\",\"x\":\"tempMode\",\"xref\":\"x\",\"y\":\"fail\",\"yref\":\"y\"},{\"font\":{\"color\":\"#000000\"},\"showarrow\":false,\"text\":\"0.58\",\"x\":\"AQ\",\"xref\":\"x\",\"y\":\"fail\",\"yref\":\"y\"},{\"font\":{\"color\":\"#FFFFFF\"},\"showarrow\":false,\"text\":\"-0.47\",\"x\":\"USS\",\"xref\":\"x\",\"y\":\"fail\",\"yref\":\"y\"},{\"font\":{\"color\":\"#FFFFFF\"},\"showarrow\":false,\"text\":\"0.02\",\"x\":\"CS\",\"xref\":\"x\",\"y\":\"fail\",\"yref\":\"y\"},{\"font\":{\"color\":\"#000000\"},\"showarrow\":false,\"text\":\"0.8\",\"x\":\"VOC\",\"xref\":\"x\",\"y\":\"fail\",\"yref\":\"y\"},{\"font\":{\"color\":\"#FFFFFF\"},\"showarrow\":false,\"text\":\"0.05\",\"x\":\"RP\",\"xref\":\"x\",\"y\":\"fail\",\"yref\":\"y\"},{\"font\":{\"color\":\"#FFFFFF\"},\"showarrow\":false,\"text\":\"0.09\",\"x\":\"IP\",\"xref\":\"x\",\"y\":\"fail\",\"yref\":\"y\"},{\"font\":{\"color\":\"#FFFFFF\"},\"showarrow\":false,\"text\":\"0.19\",\"x\":\"Temperature\",\"xref\":\"x\",\"y\":\"fail\",\"yref\":\"y\"},{\"font\":{\"color\":\"#000000\"},\"showarrow\":false,\"text\":\"1.0\",\"x\":\"fail\",\"xref\":\"x\",\"y\":\"fail\",\"yref\":\"y\"}],\"xaxis\":{\"dtick\":1,\"gridcolor\":\"rgb(0, 0, 0)\",\"side\":\"top\",\"ticks\":\"\"},\"yaxis\":{\"dtick\":1,\"ticks\":\"\",\"ticksuffix\":\"  \"},\"template\":{\"data\":{\"histogram2dcontour\":[{\"type\":\"histogram2dcontour\",\"colorbar\":{\"outlinewidth\":0,\"ticks\":\"\"},\"colorscale\":[[0.0,\"#0d0887\"],[0.1111111111111111,\"#46039f\"],[0.2222222222222222,\"#7201a8\"],[0.3333333333333333,\"#9c179e\"],[0.4444444444444444,\"#bd3786\"],[0.5555555555555556,\"#d8576b\"],[0.6666666666666666,\"#ed7953\"],[0.7777777777777778,\"#fb9f3a\"],[0.8888888888888888,\"#fdca26\"],[1.0,\"#f0f921\"]]}],\"choropleth\":[{\"type\":\"choropleth\",\"colorbar\":{\"outlinewidth\":0,\"ticks\":\"\"}}],\"histogram2d\":[{\"type\":\"histogram2d\",\"colorbar\":{\"outlinewidth\":0,\"ticks\":\"\"},\"colorscale\":[[0.0,\"#0d0887\"],[0.1111111111111111,\"#46039f\"],[0.2222222222222222,\"#7201a8\"],[0.3333333333333333,\"#9c179e\"],[0.4444444444444444,\"#bd3786\"],[0.5555555555555556,\"#d8576b\"],[0.6666666666666666,\"#ed7953\"],[0.7777777777777778,\"#fb9f3a\"],[0.8888888888888888,\"#fdca26\"],[1.0,\"#f0f921\"]]}],\"heatmap\":[{\"type\":\"heatmap\",\"colorbar\":{\"outlinewidth\":0,\"ticks\":\"\"},\"colorscale\":[[0.0,\"#0d0887\"],[0.1111111111111111,\"#46039f\"],[0.2222222222222222,\"#7201a8\"],[0.3333333333333333,\"#9c179e\"],[0.4444444444444444,\"#bd3786\"],[0.5555555555555556,\"#d8576b\"],[0.6666666666666666,\"#ed7953\"],[0.7777777777777778,\"#fb9f3a\"],[0.8888888888888888,\"#fdca26\"],[1.0,\"#f0f921\"]]}],\"heatmapgl\":[{\"type\":\"heatmapgl\",\"colorbar\":{\"outlinewidth\":0,\"ticks\":\"\"},\"colorscale\":[[0.0,\"#0d0887\"],[0.1111111111111111,\"#46039f\"],[0.2222222222222222,\"#7201a8\"],[0.3333333333333333,\"#9c179e\"],[0.4444444444444444,\"#bd3786\"],[0.5555555555555556,\"#d8576b\"],[0.6666666666666666,\"#ed7953\"],[0.7777777777777778,\"#fb9f3a\"],[0.8888888888888888,\"#fdca26\"],[1.0,\"#f0f921\"]]}],\"contourcarpet\":[{\"type\":\"contourcarpet\",\"colorbar\":{\"outlinewidth\":0,\"ticks\":\"\"}}],\"contour\":[{\"type\":\"contour\",\"colorbar\":{\"outlinewidth\":0,\"ticks\":\"\"},\"colorscale\":[[0.0,\"#0d0887\"],[0.1111111111111111,\"#46039f\"],[0.2222222222222222,\"#7201a8\"],[0.3333333333333333,\"#9c179e\"],[0.4444444444444444,\"#bd3786\"],[0.5555555555555556,\"#d8576b\"],[0.6666666666666666,\"#ed7953\"],[0.7777777777777778,\"#fb9f3a\"],[0.8888888888888888,\"#fdca26\"],[1.0,\"#f0f921\"]]}],\"surface\":[{\"type\":\"surface\",\"colorbar\":{\"outlinewidth\":0,\"ticks\":\"\"},\"colorscale\":[[0.0,\"#0d0887\"],[0.1111111111111111,\"#46039f\"],[0.2222222222222222,\"#7201a8\"],[0.3333333333333333,\"#9c179e\"],[0.4444444444444444,\"#bd3786\"],[0.5555555555555556,\"#d8576b\"],[0.6666666666666666,\"#ed7953\"],[0.7777777777777778,\"#fb9f3a\"],[0.8888888888888888,\"#fdca26\"],[1.0,\"#f0f921\"]]}],\"mesh3d\":[{\"type\":\"mesh3d\",\"colorbar\":{\"outlinewidth\":0,\"ticks\":\"\"}}],\"scatter\":[{\"fillpattern\":{\"fillmode\":\"overlay\",\"size\":10,\"solidity\":0.2},\"type\":\"scatter\"}],\"parcoords\":[{\"type\":\"parcoords\",\"line\":{\"colorbar\":{\"outlinewidth\":0,\"ticks\":\"\"}}}],\"scatterpolargl\":[{\"type\":\"scatterpolargl\",\"marker\":{\"colorbar\":{\"outlinewidth\":0,\"ticks\":\"\"}}}],\"bar\":[{\"error_x\":{\"color\":\"#2a3f5f\"},\"error_y\":{\"color\":\"#2a3f5f\"},\"marker\":{\"line\":{\"color\":\"#E5ECF6\",\"width\":0.5},\"pattern\":{\"fillmode\":\"overlay\",\"size\":10,\"solidity\":0.2}},\"type\":\"bar\"}],\"scattergeo\":[{\"type\":\"scattergeo\",\"marker\":{\"colorbar\":{\"outlinewidth\":0,\"ticks\":\"\"}}}],\"scatterpolar\":[{\"type\":\"scatterpolar\",\"marker\":{\"colorbar\":{\"outlinewidth\":0,\"ticks\":\"\"}}}],\"histogram\":[{\"marker\":{\"pattern\":{\"fillmode\":\"overlay\",\"size\":10,\"solidity\":0.2}},\"type\":\"histogram\"}],\"scattergl\":[{\"type\":\"scattergl\",\"marker\":{\"colorbar\":{\"outlinewidth\":0,\"ticks\":\"\"}}}],\"scatter3d\":[{\"type\":\"scatter3d\",\"line\":{\"colorbar\":{\"outlinewidth\":0,\"ticks\":\"\"}},\"marker\":{\"colorbar\":{\"outlinewidth\":0,\"ticks\":\"\"}}}],\"scattermapbox\":[{\"type\":\"scattermapbox\",\"marker\":{\"colorbar\":{\"outlinewidth\":0,\"ticks\":\"\"}}}],\"scatterternary\":[{\"type\":\"scatterternary\",\"marker\":{\"colorbar\":{\"outlinewidth\":0,\"ticks\":\"\"}}}],\"scattercarpet\":[{\"type\":\"scattercarpet\",\"marker\":{\"colorbar\":{\"outlinewidth\":0,\"ticks\":\"\"}}}],\"carpet\":[{\"aaxis\":{\"endlinecolor\":\"#2a3f5f\",\"gridcolor\":\"white\",\"linecolor\":\"white\",\"minorgridcolor\":\"white\",\"startlinecolor\":\"#2a3f5f\"},\"baxis\":{\"endlinecolor\":\"#2a3f5f\",\"gridcolor\":\"white\",\"linecolor\":\"white\",\"minorgridcolor\":\"white\",\"startlinecolor\":\"#2a3f5f\"},\"type\":\"carpet\"}],\"table\":[{\"cells\":{\"fill\":{\"color\":\"#EBF0F8\"},\"line\":{\"color\":\"white\"}},\"header\":{\"fill\":{\"color\":\"#C8D4E3\"},\"line\":{\"color\":\"white\"}},\"type\":\"table\"}],\"barpolar\":[{\"marker\":{\"line\":{\"color\":\"#E5ECF6\",\"width\":0.5},\"pattern\":{\"fillmode\":\"overlay\",\"size\":10,\"solidity\":0.2}},\"type\":\"barpolar\"}],\"pie\":[{\"automargin\":true,\"type\":\"pie\"}]},\"layout\":{\"autotypenumbers\":\"strict\",\"colorway\":[\"#636efa\",\"#EF553B\",\"#00cc96\",\"#ab63fa\",\"#FFA15A\",\"#19d3f3\",\"#FF6692\",\"#B6E880\",\"#FF97FF\",\"#FECB52\"],\"font\":{\"color\":\"#2a3f5f\"},\"hovermode\":\"closest\",\"hoverlabel\":{\"align\":\"left\"},\"paper_bgcolor\":\"white\",\"plot_bgcolor\":\"#E5ECF6\",\"polar\":{\"bgcolor\":\"#E5ECF6\",\"angularaxis\":{\"gridcolor\":\"white\",\"linecolor\":\"white\",\"ticks\":\"\"},\"radialaxis\":{\"gridcolor\":\"white\",\"linecolor\":\"white\",\"ticks\":\"\"}},\"ternary\":{\"bgcolor\":\"#E5ECF6\",\"aaxis\":{\"gridcolor\":\"white\",\"linecolor\":\"white\",\"ticks\":\"\"},\"baxis\":{\"gridcolor\":\"white\",\"linecolor\":\"white\",\"ticks\":\"\"},\"caxis\":{\"gridcolor\":\"white\",\"linecolor\":\"white\",\"ticks\":\"\"}},\"coloraxis\":{\"colorbar\":{\"outlinewidth\":0,\"ticks\":\"\"}},\"colorscale\":{\"sequential\":[[0.0,\"#0d0887\"],[0.1111111111111111,\"#46039f\"],[0.2222222222222222,\"#7201a8\"],[0.3333333333333333,\"#9c179e\"],[0.4444444444444444,\"#bd3786\"],[0.5555555555555556,\"#d8576b\"],[0.6666666666666666,\"#ed7953\"],[0.7777777777777778,\"#fb9f3a\"],[0.8888888888888888,\"#fdca26\"],[1.0,\"#f0f921\"]],\"sequentialminus\":[[0.0,\"#0d0887\"],[0.1111111111111111,\"#46039f\"],[0.2222222222222222,\"#7201a8\"],[0.3333333333333333,\"#9c179e\"],[0.4444444444444444,\"#bd3786\"],[0.5555555555555556,\"#d8576b\"],[0.6666666666666666,\"#ed7953\"],[0.7777777777777778,\"#fb9f3a\"],[0.8888888888888888,\"#fdca26\"],[1.0,\"#f0f921\"]],\"diverging\":[[0,\"#8e0152\"],[0.1,\"#c51b7d\"],[0.2,\"#de77ae\"],[0.3,\"#f1b6da\"],[0.4,\"#fde0ef\"],[0.5,\"#f7f7f7\"],[0.6,\"#e6f5d0\"],[0.7,\"#b8e186\"],[0.8,\"#7fbc41\"],[0.9,\"#4d9221\"],[1,\"#276419\"]]},\"xaxis\":{\"gridcolor\":\"white\",\"linecolor\":\"white\",\"ticks\":\"\",\"title\":{\"standoff\":15},\"zerolinecolor\":\"white\",\"automargin\":true,\"zerolinewidth\":2},\"yaxis\":{\"gridcolor\":\"white\",\"linecolor\":\"white\",\"ticks\":\"\",\"title\":{\"standoff\":15},\"zerolinecolor\":\"white\",\"automargin\":true,\"zerolinewidth\":2},\"scene\":{\"xaxis\":{\"backgroundcolor\":\"#E5ECF6\",\"gridcolor\":\"white\",\"linecolor\":\"white\",\"showbackground\":true,\"ticks\":\"\",\"zerolinecolor\":\"white\",\"gridwidth\":2},\"yaxis\":{\"backgroundcolor\":\"#E5ECF6\",\"gridcolor\":\"white\",\"linecolor\":\"white\",\"showbackground\":true,\"ticks\":\"\",\"zerolinecolor\":\"white\",\"gridwidth\":2},\"zaxis\":{\"backgroundcolor\":\"#E5ECF6\",\"gridcolor\":\"white\",\"linecolor\":\"white\",\"showbackground\":true,\"ticks\":\"\",\"zerolinecolor\":\"white\",\"gridwidth\":2}},\"shapedefaults\":{\"line\":{\"color\":\"#2a3f5f\"}},\"annotationdefaults\":{\"arrowcolor\":\"#2a3f5f\",\"arrowhead\":0,\"arrowwidth\":1},\"geo\":{\"bgcolor\":\"white\",\"landcolor\":\"#E5ECF6\",\"subunitcolor\":\"white\",\"showland\":true,\"showlakes\":true,\"lakecolor\":\"white\"},\"title\":{\"x\":0.05},\"mapbox\":{\"style\":\"light\"}}},\"title\":{\"font\":{\"size\":25},\"text\":\"Correlation Heatmap\",\"x\":0.5}},                        {\"responsive\": true}                    ).then(function(){\n",
              "                            \n",
              "var gd = document.getElementById('97e8d124-76ef-4cbc-abbc-7e3ea4692933');\n",
              "var x = new MutationObserver(function (mutations, observer) {{\n",
              "        var display = window.getComputedStyle(gd).display;\n",
              "        if (!display || display === 'none') {{\n",
              "            console.log([gd, 'removed!']);\n",
              "            Plotly.purge(gd);\n",
              "            observer.disconnect();\n",
              "        }}\n",
              "}});\n",
              "\n",
              "// Listen for the removal of the full notebook cells\n",
              "var notebookContainer = gd.closest('#notebook-container');\n",
              "if (notebookContainer) {{\n",
              "    x.observe(notebookContainer, {childList: true});\n",
              "}}\n",
              "\n",
              "// Listen for the clearing of the current output cell\n",
              "var outputEl = gd.closest('.output');\n",
              "if (outputEl) {{\n",
              "    x.observe(outputEl, {childList: true});\n",
              "}}\n",
              "\n",
              "                        })                };                            </script>        </div>\n",
              "</body>\n",
              "</html>"
            ]
          },
          "metadata": {}
        }
      ]
    },
    {
      "cell_type": "code",
      "source": [
        "# Carregando variaveis numéricas para plot\n",
        "variaveis_numericas = []\n",
        "for i in dados.columns[0:11].tolist():\n",
        "        if dados.dtypes[i] == 'int64' or dados.dtypes[i] == 'float64':\n",
        "            variaveis_numericas.append(i)"
      ],
      "metadata": {
        "id": "3ALyPro9SECI"
      },
      "execution_count": 18,
      "outputs": []
    },
    {
      "cell_type": "code",
      "source": [
        "# Carregando boxplot para observar existência de outliers\n",
        "plt.figure(figsize=(20, 15))\n",
        "plt.suptitle(\"Análise Univariada das Variáveis\", fontsize=16, fontweight='bold')\n",
        "\n",
        "# Loop pelas variáveis numéricas e cria boxplots\n",
        "for i in range(len(variaveis_numericas)):\n",
        "    plt.subplot((len(variaveis_numericas) + 2) // 3, 3, i + 1)\n",
        "    sns.boxplot(x=dados[variaveis_numericas[i]])\n",
        "    plt.title(variaveis_numericas[i])\n",
        "    plt.tight_layout(pad=2.0)\n",
        "\n",
        "plt.show()"
      ],
      "metadata": {
        "colab": {
          "base_uri": "https://localhost:8080/",
          "height": 832
        },
        "id": "iOV9ngW5SINn",
        "outputId": "19584ab6-05ad-45ac-934b-910cd2dfa6e0"
      },
      "execution_count": 19,
      "outputs": [
        {
          "output_type": "display_data",
          "data": {
            "text/plain": [
              "<Figure size 2000x1500 with 10 Axes>"
            ],
            "image/png": "[encoded data removed]"
          },
          "metadata": {}
        }
      ]
    },
    {
      "cell_type": "code",
      "source": [
        "# Função para tratar os outliers\n",
        "def remover_outlier(in_data,in_col):\n",
        "\n",
        "    primeiro_quartil = in_data[in_col].quantile(0.25)\n",
        "    terceiro_quartil = in_data[in_col].quantile(0.75)\n",
        "    iqr = terceiro_quartil - primeiro_quartil\n",
        "    sup_limit = terceiro_quartil + 1.5 * iqr\n",
        "    inf_limit = primeiro_quartil - 1.5 * iqr\n",
        "    in_data.loc[(in_data[in_col]>sup_limit), in_col] = sup_limit\n",
        "    in_data.loc[(in_data[in_col]<inf_limit), in_col] = inf_limit\n",
        "    return in_data"
      ],
      "metadata": {
        "id": "N9fTZ8lZf8s8"
      },
      "execution_count": 20,
      "outputs": []
    },
    {
      "cell_type": "code",
      "source": [
        "# Removendo\n",
        "for i in variaveis_numericas:\n",
        "    dados = remover_outlier(dados, i)"
      ],
      "metadata": {
        "id": "75yAKWk6gDJC"
      },
      "execution_count": 21,
      "outputs": []
    },
    {
      "cell_type": "code",
      "source": [
        "# Conferindo se os outliers foram removidos\n",
        "plt.figure(figsize=(20,250))\n",
        "plt.suptitle(\"Análise Univariada\", fontsize=16, fontweight='bold')\n",
        "\n",
        "for i in range(0,len(variaveis_numericas)):\n",
        "    plt.subplot(85,3,i+1)\n",
        "    sns.boxplot(dados[variaveis_numericas[i]])\n",
        "    plt.tight_layout()"
      ],
      "metadata": {
        "colab": {
          "base_uri": "https://localhost:8080/",
          "height": 663
        },
        "id": "KaNhFrvDgMdq",
        "outputId": "ba18d444-b1fe-4198-de09-1ddd58428307"
      },
      "execution_count": 22,
      "outputs": [
        {
          "output_type": "display_data",
          "data": {
            "text/plain": [
              "<Figure size 2000x25000 with 10 Axes>"
            ],
            "image/png": "[encoded data removed]"
          },
          "metadata": {}
        }
      ]
    },
    {
      "cell_type": "code",
      "source": [
        "# Criando a variável target\n",
        "target = dados['fail']"
      ],
      "metadata": {
        "id": "b0eX6GdDgcCK"
      },
      "execution_count": 23,
      "outputs": []
    },
    {
      "cell_type": "code",
      "source": [
        "# Dropando a variável que não serve\n",
        "preditoras = dados.drop(['fail'], axis=1)"
      ],
      "metadata": {
        "id": "9xFfcQp7m8Y5"
      },
      "execution_count": 24,
      "outputs": []
    },
    {
      "cell_type": "code",
      "source": [
        "target.head()"
      ],
      "metadata": {
        "colab": {
          "base_uri": "https://localhost:8080/"
        },
        "id": "PWHlYN0MnC97",
        "outputId": "330944a5-b92b-4419-c926-521bbbd14396"
      },
      "execution_count": 25,
      "outputs": [
        {
          "output_type": "execute_result",
          "data": {
            "text/plain": [
              "0   1.00\n",
              "1   0.00\n",
              "2   0.00\n",
              "3   0.00\n",
              "4   0.00\n",
              "Name: fail, dtype: float64"
            ]
          },
          "metadata": {},
          "execution_count": 25
        }
      ]
    },
    {
      "cell_type": "code",
      "source": [
        "preditoras.head()"
      ],
      "metadata": {
        "colab": {
          "base_uri": "https://localhost:8080/",
          "height": 206
        },
        "id": "GIYOM1DYnGXT",
        "outputId": "f9175d2d-78f4-4834-95fe-e96e93d1aab4"
      },
      "execution_count": 26,
      "outputs": [
        {
          "output_type": "execute_result",
          "data": {
            "text/plain": [
              "   footfall  tempMode   AQ  USS   CS  VOC  RP   IP  Temperature\n",
              "0      0.00         7 7.00    1 6.00    6  36 3.00         3.50\n",
              "1    190.00         1 3.00    3 5.00    1  20 4.00         3.50\n",
              "2     31.00         7 2.00    2 6.00    1  24 6.00         3.50\n",
              "3     83.00         4 3.00    4 5.00    1  28 6.00         3.50\n",
              "4    273.50         7 5.00    6 4.00    0  68 6.00         3.50"
            ],
            "text/html": [
              "\n",
              "  <div id=\"df-6dfc12bf-332f-437b-8506-16cd15e22e3d\" class=\"colab-df-container\">\n",
              "    <div>\n",
              "<style scoped>\n",
              "    .dataframe tbody tr th:only-of-type {\n",
              "        vertical-align: middle;\n",
              "    }\n",
              "\n",
              "    .dataframe tbody tr th {\n",
              "        vertical-align: top;\n",
              "    }\n",
              "\n",
              "    .dataframe thead th {\n",
              "        text-align: right;\n",
              "    }\n",
              "</style>\n",
              "<table border=\"1\" class=\"dataframe\">\n",
              "  <thead>\n",
              "    <tr style=\"text-align: right;\">\n",
              "      <th></th>\n",
              "      <th>footfall</th>\n",
              "      <th>tempMode</th>\n",
              "      <th>AQ</th>\n",
              "      <th>USS</th>\n",
              "      <th>CS</th>\n",
              "      <th>VOC</th>\n",
              "      <th>RP</th>\n",
              "      <th>IP</th>\n",
              "      <th>Temperature</th>\n",
              "    </tr>\n",
              "  </thead>\n",
              "  <tbody>\n",
              "    <tr>\n",
              "      <th>0</th>\n",
              "      <td>0.00</td>\n",
              "      <td>7</td>\n",
              "      <td>7.00</td>\n",
              "      <td>1</td>\n",
              "      <td>6.00</td>\n",
              "      <td>6</td>\n",
              "      <td>36</td>\n",
              "      <td>3.00</td>\n",
              "      <td>3.50</td>\n",
              "    </tr>\n",
              "    <tr>\n",
              "      <th>1</th>\n",
              "      <td>190.00</td>\n",
              "      <td>1</td>\n",
              "      <td>3.00</td>\n",
              "      <td>3</td>\n",
              "      <td>5.00</td>\n",
              "      <td>1</td>\n",
              "      <td>20</td>\n",
              "      <td>4.00</td>\n",
              "      <td>3.50</td>\n",
              "    </tr>\n",
              "    <tr>\n",
              "      <th>2</th>\n",
              "      <td>31.00</td>\n",
              "      <td>7</td>\n",
              "      <td>2.00</td>\n",
              "      <td>2</td>\n",
              "      <td>6.00</td>\n",
              "      <td>1</td>\n",
              "      <td>24</td>\n",
              "      <td>6.00</td>\n",
              "      <td>3.50</td>\n",
              "    </tr>\n",
              "    <tr>\n",
              "      <th>3</th>\n",
              "      <td>83.00</td>\n",
              "      <td>4</td>\n",
              "      <td>3.00</td>\n",
              "      <td>4</td>\n",
              "      <td>5.00</td>\n",
              "      <td>1</td>\n",
              "      <td>28</td>\n",
              "      <td>6.00</td>\n",
              "      <td>3.50</td>\n",
              "    </tr>\n",
              "    <tr>\n",
              "      <th>4</th>\n",
              "      <td>273.50</td>\n",
              "      <td>7</td>\n",
              "      <td>5.00</td>\n",
              "      <td>6</td>\n",
              "      <td>4.00</td>\n",
              "      <td>0</td>\n",
              "      <td>68</td>\n",
              "      <td>6.00</td>\n",
              "      <td>3.50</td>\n",
              "    </tr>\n",
              "  </tbody>\n",
              "</table>\n",
              "</div>\n",
              "    <div class=\"colab-df-buttons\">\n",
              "\n",
              "  <div class=\"colab-df-container\">\n",
              "    <button class=\"colab-df-convert\" onclick=\"convertToInteractive('df-6dfc12bf-332f-437b-8506-16cd15e22e3d')\"\n",
              "            title=\"Convert this dataframe to an interactive table.\"\n",
              "            style=\"display:none;\">\n",
              "\n",
              "  <svg xmlns=\"http://www.w3.org/2000/svg\" height=\"24px\" viewBox=\"0 -960 960 960\">\n",
              "    <path d=\"M120-120v-720h720v720H120Zm60-500h600v-160H180v160Zm220 220h160v-160H400v160Zm0 220h160v-160H400v160ZM180-400h160v-160H180v160Zm440 0h160v-160H620v160ZM180-180h160v-160H180v160Zm440 0h160v-160H620v160Z\"/>\n",
              "  </svg>\n",
              "    </button>\n",
              "\n",
              "  <style>\n",
              "    .colab-df-container {\n",
              "      display:flex;\n",
              "      gap: 12px;\n",
              "    }\n",
              "\n",
              "    .colab-df-convert {\n",
              "      background-color: #E8F0FE;\n",
              "      border: none;\n",
              "      border-radius: 50%;\n",
              "      cursor: pointer;\n",
              "      display: none;\n",
              "      fill: #1967D2;\n",
              "      height: 32px;\n",
              "      padding: 0 0 0 0;\n",
              "      width: 32px;\n",
              "    }\n",
              "\n",
              "    .colab-df-convert:hover {\n",
              "      background-color: #E2EBFA;\n",
              "      box-shadow: 0px 1px 2px rgba(60, 64, 67, 0.3), 0px 1px 3px 1px rgba(60, 64, 67, 0.15);\n",
              "      fill: #174EA6;\n",
              "    }\n",
              "\n",
              "    .colab-df-buttons div {\n",
              "      margin-bottom: 4px;\n",
              "    }\n",
              "\n",
              "    [theme=dark] .colab-df-convert {\n",
              "      background-color: #3B4455;\n",
              "      fill: #D2E3FC;\n",
              "    }\n",
              "\n",
              "    [theme=dark] .colab-df-convert:hover {\n",
              "      background-color: #434B5C;\n",
              "      box-shadow: 0px 1px 3px 1px rgba(0, 0, 0, 0.15);\n",
              "      filter: drop-shadow(0px 1px 2px rgba(0, 0, 0, 0.3));\n",
              "      fill: #FFFFFF;\n",
              "    }\n",
              "  </style>\n",
              "\n",
              "    <script>\n",
              "      const buttonEl =\n",
              "        document.querySelector('#df-6dfc12bf-332f-437b-8506-16cd15e22e3d button.colab-df-convert');\n",
              "      buttonEl.style.display =\n",
              "        google.colab.kernel.accessAllowed ? 'block' : 'none';\n",
              "\n",
              "      async function convertToInteractive(key) {\n",
              "        const element = document.querySelector('#df-6dfc12bf-332f-437b-8506-16cd15e22e3d');\n",
              "        const dataTable =\n",
              "          await google.colab.kernel.invokeFunction('convertToInteractive',\n",
              "                                                    [key], {});\n",
              "        if (!dataTable) return;\n",
              "\n",
              "        const docLinkHtml = 'Like what you see? Visit the ' +\n",
              "          '<a target=\"_blank\" href=https://colab.research.google.com/notebooks/data_table.ipynb>data table notebook</a>'\n",
              "          + ' to learn more about interactive tables.';\n",
              "        element.innerHTML = '';\n",
              "        dataTable['output_type'] = 'display_data';\n",
              "        await google.colab.output.renderOutput(dataTable, element);\n",
              "        const docLink = document.createElement('div');\n",
              "        docLink.innerHTML = docLinkHtml;\n",
              "        element.appendChild(docLink);\n",
              "      }\n",
              "    </script>\n",
              "  </div>\n",
              "\n",
              "\n",
              "<div id=\"df-347c5259-bee2-4714-b3a5-29300c76fc6f\">\n",
              "  <button class=\"colab-df-quickchart\" onclick=\"quickchart('df-347c5259-bee2-4714-b3a5-29300c76fc6f')\"\n",
              "            title=\"Suggest charts\"\n",
              "            style=\"display:none;\">\n",
              "\n",
              "<svg xmlns=\"http://www.w3.org/2000/svg\" height=\"24px\"viewBox=\"0 0 24 24\"\n",
              "     width=\"24px\">\n",
              "    <g>\n",
              "        <path d=\"M19 3H5c-1.1 0-2 .9-2 2v14c0 1.1.9 2 2 2h14c1.1 0 2-.9 2-2V5c0-1.1-.9-2-2-2zM9 17H7v-7h2v7zm4 0h-2V7h2v10zm4 0h-2v-4h2v4z\"/>\n",
              "    </g>\n",
              "</svg>\n",
              "  </button>\n",
              "\n",
              "<style>\n",
              "  .colab-df-quickchart {\n",
              "      --bg-color: #E8F0FE;\n",
              "      --fill-color: #1967D2;\n",
              "      --hover-bg-color: #E2EBFA;\n",
              "      --hover-fill-color: #174EA6;\n",
              "      --disabled-fill-color: #AAA;\n",
              "      --disabled-bg-color: #DDD;\n",
              "  }\n",
              "\n",
              "  [theme=dark] .colab-df-quickchart {\n",
              "      --bg-color: #3B4455;\n",
              "      --fill-color: #D2E3FC;\n",
              "      --hover-bg-color: #434B5C;\n",
              "      --hover-fill-color: #FFFFFF;\n",
              "      --disabled-bg-color: #3B4455;\n",
              "      --disabled-fill-color: #666;\n",
              "  }\n",
              "\n",
              "  .colab-df-quickchart {\n",
              "    background-color: var(--bg-color);\n",
              "    border: none;\n",
              "    border-radius: 50%;\n",
              "    cursor: pointer;\n",
              "    display: none;\n",
              "    fill: var(--fill-color);\n",
              "    height: 32px;\n",
              "    padding: 0;\n",
              "    width: 32px;\n",
              "  }\n",
              "\n",
              "  .colab-df-quickchart:hover {\n",
              "    background-color: var(--hover-bg-color);\n",
              "    box-shadow: 0 1px 2px rgba(60, 64, 67, 0.3), 0 1px 3px 1px rgba(60, 64, 67, 0.15);\n",
              "    fill: var(--button-hover-fill-color);\n",
              "  }\n",
              "\n",
              "  .colab-df-quickchart-complete:disabled,\n",
              "  .colab-df-quickchart-complete:disabled:hover {\n",
              "    background-color: var(--disabled-bg-color);\n",
              "    fill: var(--disabled-fill-color);\n",
              "    box-shadow: none;\n",
              "  }\n",
              "\n",
              "  .colab-df-spinner {\n",
              "    border: 2px solid var(--fill-color);\n",
              "    border-color: transparent;\n",
              "    border-bottom-color: var(--fill-color);\n",
              "    animation:\n",
              "      spin 1s steps(1) infinite;\n",
              "  }\n",
              "\n",
              "  @keyframes spin {\n",
              "    0% {\n",
              "      border-color: transparent;\n",
              "      border-bottom-color: var(--fill-color);\n",
              "      border-left-color: var(--fill-color);\n",
              "    }\n",
              "    20% {\n",
              "      border-color: transparent;\n",
              "      border-left-color: var(--fill-color);\n",
              "      border-top-color: var(--fill-color);\n",
              "    }\n",
              "    30% {\n",
              "      border-color: transparent;\n",
              "      border-left-color: var(--fill-color);\n",
              "      border-top-color: var(--fill-color);\n",
              "      border-right-color: var(--fill-color);\n",
              "    }\n",
              "    40% {\n",
              "      border-color: transparent;\n",
              "      border-right-color: var(--fill-color);\n",
              "      border-top-color: var(--fill-color);\n",
              "    }\n",
              "    60% {\n",
              "      border-color: transparent;\n",
              "      border-right-color: var(--fill-color);\n",
              "    }\n",
              "    80% {\n",
              "      border-color: transparent;\n",
              "      border-right-color: var(--fill-color);\n",
              "      border-bottom-color: var(--fill-color);\n",
              "    }\n",
              "    90% {\n",
              "      border-color: transparent;\n",
              "      border-bottom-color: var(--fill-color);\n",
              "    }\n",
              "  }\n",
              "</style>\n",
              "\n",
              "  <script>\n",
              "    async function quickchart(key) {\n",
              "      const quickchartButtonEl =\n",
              "        document.querySelector('#' + key + ' button');\n",
              "      quickchartButtonEl.disabled = true;  // To prevent multiple clicks.\n",
              "      quickchartButtonEl.classList.add('colab-df-spinner');\n",
              "      try {\n",
              "        const charts = await google.colab.kernel.invokeFunction(\n",
              "            'suggestCharts', [key], {});\n",
              "      } catch (error) {\n",
              "        console.error('Error during call to suggestCharts:', error);\n",
              "      }\n",
              "      quickchartButtonEl.classList.remove('colab-df-spinner');\n",
              "      quickchartButtonEl.classList.add('colab-df-quickchart-complete');\n",
              "    }\n",
              "    (() => {\n",
              "      let quickchartButtonEl =\n",
              "        document.querySelector('#df-347c5259-bee2-4714-b3a5-29300c76fc6f button');\n",
              "      quickchartButtonEl.style.display =\n",
              "        google.colab.kernel.accessAllowed ? 'block' : 'none';\n",
              "    })();\n",
              "  </script>\n",
              "</div>\n",
              "\n",
              "    </div>\n",
              "  </div>\n"
            ],
            "application/vnd.google.colaboratory.intrinsic+json": {
              "type": "dataframe",
              "variable_name": "preditoras",
              "summary": "{\n  \"name\": \"preditoras\",\n  \"rows\": 943,\n  \"fields\": [\n    {\n      \"column\": \"footfall\",\n      \"properties\": {\n        \"dtype\": \"number\",\n        \"std\": 100.84797548946202,\n        \"min\": 0.0,\n        \"max\": 273.5,\n        \"num_unique_values\": 76,\n        \"samples\": [\n          273.5,\n          27.0,\n          33.0\n        ],\n        \"semantic_type\": \"\",\n        \"description\": \"\"\n      }\n    },\n    {\n      \"column\": \"tempMode\",\n      \"properties\": {\n        \"dtype\": \"number\",\n        \"std\": 2,\n        \"min\": 0,\n        \"max\": 7,\n        \"num_unique_values\": 8,\n        \"samples\": [\n          1,\n          5,\n          7\n        ],\n        \"semantic_type\": \"\",\n        \"description\": \"\"\n      }\n    },\n    {\n      \"column\": \"AQ\",\n      \"properties\": {\n        \"dtype\": \"number\",\n        \"std\": 1.4385509299017263,\n        \"min\": 1.0,\n        \"max\": 7.0,\n        \"num_unique_values\": 7,\n        \"samples\": [\n          7.0,\n          3.0,\n          6.0\n        ],\n        \"semantic_type\": \"\",\n        \"description\": \"\"\n      }\n    },\n    {\n      \"column\": \"USS\",\n      \"properties\": {\n        \"dtype\": \"number\",\n        \"std\": 1,\n        \"min\": 1,\n        \"max\": 7,\n        \"num_unique_values\": 7,\n        \"samples\": [\n          1,\n          3,\n          7\n        ],\n        \"semantic_type\": \"\",\n        \"description\": \"\"\n      }\n    },\n    {\n      \"column\": \"CS\",\n      \"properties\": {\n        \"dtype\": \"number\",\n        \"std\": 1.0126587317583202,\n        \"min\": 3.5,\n        \"max\": 7.0,\n        \"num_unique_values\": 5,\n        \"samples\": [\n          5.0,\n          7.0,\n          4.0\n        ],\n        \"semantic_type\": \"\",\n        \"description\": \"\"\n      }\n    },\n    {\n      \"column\": \"VOC\",\n      \"properties\": {\n        \"dtype\": \"number\",\n        \"std\": 2,\n        \"min\": 0,\n        \"max\": 6,\n        \"num_unique_values\": 7,\n        \"samples\": [\n          6,\n          1,\n          5\n        ],\n        \"semantic_type\": \"\",\n        \"description\": \"\"\n      }\n    },\n    {\n      \"column\": \"RP\",\n      \"properties\": {\n        \"dtype\": \"number\",\n        \"std\": 16,\n        \"min\": 19,\n        \"max\": 91,\n        \"num_unique_values\": 71,\n        \"samples\": [\n          34,\n          36,\n          53\n        ],\n        \"semantic_type\": \"\",\n        \"description\": \"\"\n      }\n    },\n    {\n      \"column\": \"IP\",\n      \"properties\": {\n        \"dtype\": \"number\",\n        \"std\": 1.5994520375279924,\n        \"min\": 1.0,\n        \"max\": 7.0,\n        \"num_unique_values\": 7,\n        \"samples\": [\n          3.0,\n          4.0,\n          1.0\n        ],\n        \"semantic_type\": \"\",\n        \"description\": \"\"\n      }\n    },\n    {\n      \"column\": \"Temperature\",\n      \"properties\": {\n        \"dtype\": \"number\",\n        \"std\": 5.790692396999243,\n        \"min\": 3.5,\n        \"max\": 24.0,\n        \"num_unique_values\": 22,\n        \"samples\": [\n          3.5,\n          16.0,\n          11.0\n        ],\n        \"semantic_type\": \"\",\n        \"description\": \"\"\n      }\n    }\n  ]\n}"
            }
          },
          "metadata": {},
          "execution_count": 26
        }
      ]
    },
    {
      "cell_type": "code",
      "source": [
        "target.shape"
      ],
      "metadata": {
        "colab": {
          "base_uri": "https://localhost:8080/"
        },
        "id": "eB-1cz4onOzi",
        "outputId": "d01411d6-aa61-44b0-fc25-2952c5299d12"
      },
      "execution_count": 27,
      "outputs": [
        {
          "output_type": "execute_result",
          "data": {
            "text/plain": [
              "(943,)"
            ]
          },
          "metadata": {},
          "execution_count": 27
        }
      ]
    },
    {
      "cell_type": "code",
      "source": [
        "preditoras.shape"
      ],
      "metadata": {
        "colab": {
          "base_uri": "https://localhost:8080/"
        },
        "id": "ttOCx4IjnSb4",
        "outputId": "42127e57-ac5f-4c1c-fb97-8b0f4d46de79"
      },
      "execution_count": 28,
      "outputs": [
        {
          "output_type": "execute_result",
          "data": {
            "text/plain": [
              "(943, 9)"
            ]
          },
          "metadata": {},
          "execution_count": 28
        }
      ]
    },
    {
      "cell_type": "code",
      "source": [
        "# Criando o balanceador SMOTE\n",
        "from imblearn.over_sampling import SMOTE\n",
        "balanceador = SMOTE()"
      ],
      "metadata": {
        "id": "jSOxswOinXDX"
      },
      "execution_count": 29,
      "outputs": []
    },
    {
      "cell_type": "code",
      "source": [
        "# Aplicando o balanceador\n",
        "preditoras_res, target_res = balanceador.fit_resample(preditoras, target)"
      ],
      "metadata": {
        "id": "qFQ_oRjPnjQC"
      },
      "execution_count": 30,
      "outputs": []
    },
    {
      "cell_type": "code",
      "source": [
        "# Observando se a variável target foi balanceada\n",
        "target_res.value_counts()"
      ],
      "metadata": {
        "colab": {
          "base_uri": "https://localhost:8080/"
        },
        "id": "rR8tXHbqnmCi",
        "outputId": "2a7d0d3c-e36e-4bc3-e608-8f5fb549b6b0"
      },
      "execution_count": 31,
      "outputs": [
        {
          "output_type": "execute_result",
          "data": {
            "text/plain": [
              "fail\n",
              "1.00    550\n",
              "0.00    550\n",
              "Name: count, dtype: int64"
            ]
          },
          "metadata": {},
          "execution_count": 31
        }
      ]
    },
    {
      "cell_type": "code",
      "source": [
        "# Observando graficamente\n",
        "target_res.hist(grid = False, xlabelsize = 10, ylabelsize = 10, legend = \"class\", bins = 3);"
      ],
      "metadata": {
        "colab": {
          "base_uri": "https://localhost:8080/",
          "height": 430
        },
        "id": "NfZDkdv4nqV5",
        "outputId": "b3fb1c16-df93-4f0a-ecf1-ded47ebf8155"
      },
      "execution_count": 32,
      "outputs": [
        {
          "output_type": "display_data",
          "data": {
            "text/plain": [
              "<Figure size 640x480 with 1 Axes>"
            ],
            "image/png": "[encoded data removed]"
          },
          "metadata": {}
        }
      ]
    },
    {
      "cell_type": "code",
      "source": [
        "# Quantidade de registros após do balanceamento\n",
        "preditoras_res.shape"
      ],
      "metadata": {
        "colab": {
          "base_uri": "https://localhost:8080/"
        },
        "id": "oOVupU1WnwLt",
        "outputId": "0bac3f0a-3b53-473f-a601-0a796200ca8e"
      },
      "execution_count": 33,
      "outputs": [
        {
          "output_type": "execute_result",
          "data": {
            "text/plain": [
              "(1100, 9)"
            ]
          },
          "metadata": {},
          "execution_count": 33
        }
      ]
    },
    {
      "cell_type": "code",
      "source": [
        "# Quantidade de registros após do balanceamento\n",
        "target_res.shape"
      ],
      "metadata": {
        "colab": {
          "base_uri": "https://localhost:8080/"
        },
        "id": "dQhESjp7n1GC",
        "outputId": "97a760ce-7c30-4b36-9fc6-f711a4e81d96"
      },
      "execution_count": 34,
      "outputs": [
        {
          "output_type": "execute_result",
          "data": {
            "text/plain": [
              "(1100,)"
            ]
          },
          "metadata": {},
          "execution_count": 34
        }
      ]
    },
    {
      "cell_type": "code",
      "source": [
        "# Divisão em Dados de Treino e Teste.\n",
        "x_treino, x_teste, y_treino, y_teste = train_test_split(preditoras_res, target_res, test_size = 0.20)"
      ],
      "metadata": {
        "id": "-gcFysVsn5N8"
      },
      "execution_count": 35,
      "outputs": []
    },
    {
      "cell_type": "code",
      "source": [
        "# Padronização das Variáveis\n",
        "padronizador = StandardScaler()\n",
        "x_treino_padronizado = padronizador.fit_transform(x_treino)\n",
        "x_teste_padronizado = padronizador.transform(x_teste)"
      ],
      "metadata": {
        "id": "X9ySK0vrooEU"
      },
      "execution_count": 36,
      "outputs": []
    },
    {
      "cell_type": "code",
      "source": [
        "# Visualizando os dados padronizados\n",
        "x_treino_padronizado"
      ],
      "metadata": {
        "colab": {
          "base_uri": "https://localhost:8080/"
        },
        "id": "zTg3jW5hostJ",
        "outputId": "7ccd4baf-6faf-4f05-a30f-557c0fb3f972"
      },
      "execution_count": 37,
      "outputs": [
        {
          "output_type": "execute_result",
          "data": {
            "text/plain": [
              "array([[ 0.59008246,  1.24400129, -0.30704704, ...,  0.6368285 ,\n",
              "        -1.03173716, -2.27712245],\n",
              "       [-0.7400415 , -1.40757239, -0.30704704, ..., -1.39971583,\n",
              "        -0.38938384,  0.06691142],\n",
              "       [-0.57196922,  0.86520505,  0.96703815, ...,  0.33733669,\n",
              "         0.75831311,  1.10870425],\n",
              "       ...,\n",
              "       [-0.7400415 ,  1.24400129,  1.1191358 , ...,  1.29571049,\n",
              "        -1.03173716, -0.10672072],\n",
              "       [-0.5149436 ,  1.24400129, -1.02013847, ..., -0.02205349,\n",
              "        -1.03173716, -0.28035286],\n",
              "       [-0.22845536,  0.10761257, -1.02013847, ..., -0.20174858,\n",
              "        -1.03173716,  0.58780784]])"
            ]
          },
          "metadata": {},
          "execution_count": 37
        }
      ]
    },
    {
      "cell_type": "code",
      "source": [
        "modelos = {\n",
        "    'RandomForest': RandomForestClassifier(),\n",
        "    'GradientBoosting': GradientBoostingClassifier(),\n",
        "    'LogisticRegression': LogisticRegression(),\n",
        "    'SVM': SVC(probability=True)\n",
        "}\n",
        "\n",
        "params = {\n",
        "    'RandomForest': {'n_estimators': [50, 100, 200], 'max_depth': [None, 10, 20]},\n",
        "    'GradientBoosting': {'n_estimators': [50, 100, 200], 'learning_rate': [0.01, 0.1, 1]},\n",
        "    'LogisticRegression': {'C': [0.01, 0.1, 1, 10]},\n",
        "    'SVM': {'C': [0.01, 0.1, 1, 10], 'kernel': ['linear', 'rbf']}\n",
        "}"
      ],
      "metadata": {
        "id": "T901yp1IozdD"
      },
      "execution_count": 38,
      "outputs": []
    },
    {
      "cell_type": "code",
      "source": [
        "best_models = {}\n",
        "best_accuracy = 0\n",
        "best_model_name = ''\n",
        "best_model = None\n",
        "\n",
        "for model_name in modelos.keys():\n",
        "    grid = GridSearchCV(modelos[model_name], params[model_name], cv=5, n_jobs=-1, verbose=1)\n",
        "    grid.fit(x_treino_padronizado, y_treino)\n",
        "    best_models[model_name] = grid.best_estimator_\n",
        "    print(f\"Best parameters for {model_name}: {grid.best_params_}\")\n",
        "    y_pred = grid.best_estimator_.predict(x_teste_padronizado)\n",
        "    accuracy = accuracy_score(y_teste, y_pred)\n",
        "    print(f\"Accuracy for {model_name}: {accuracy}\")\n",
        "    if accuracy > best_accuracy:\n",
        "        best_accuracy = accuracy\n",
        "        best_model_name = model_name\n",
        "        best_model = grid.best_estimator_\n",
        "\n",
        "print(f\"\\nBest model: {best_model_name} with accuracy: {best_accuracy}\")"
      ],
      "metadata": {
        "colab": {
          "base_uri": "https://localhost:8080/"
        },
        "id": "PnVvEUoTo760",
        "outputId": "8efad9d3-991c-4939-ce33-9731916a6378"
      },
      "execution_count": 39,
      "outputs": [
        {
          "output_type": "stream",
          "name": "stdout",
          "text": [
            "Fitting 5 folds for each of 9 candidates, totalling 45 fits\n",
            "Best parameters for RandomForest: {'max_depth': None, 'n_estimators': 200}\n",
            "Accuracy for RandomForest: 0.9272727272727272\n",
            "Fitting 5 folds for each of 9 candidates, totalling 45 fits\n",
            "Best parameters for GradientBoosting: {'learning_rate': 0.1, 'n_estimators': 50}\n",
            "Accuracy for GradientBoosting: 0.9227272727272727\n",
            "Fitting 5 folds for each of 4 candidates, totalling 20 fits\n",
            "Best parameters for LogisticRegression: {'C': 1}\n",
            "Accuracy for LogisticRegression: 0.9227272727272727\n",
            "Fitting 5 folds for each of 8 candidates, totalling 40 fits\n",
            "Best parameters for SVM: {'C': 1, 'kernel': 'rbf'}\n",
            "Accuracy for SVM: 0.9363636363636364\n",
            "\n",
            "Best model: SVM with accuracy: 0.9363636363636364\n"
          ]
        }
      ]
    },
    {
      "cell_type": "code",
      "source": [
        "# Observando a acurácia do modelo\n",
        "y_pred = best_model.predict(x_teste_padronizado)\n",
        "print(accuracy_score(y_teste, y_pred)*100)"
      ],
      "metadata": {
        "colab": {
          "base_uri": "https://localhost:8080/"
        },
        "id": "6my1DRF9ql9M",
        "outputId": "3d0c8524-aee9-4c29-b13e-960b3de85b60"
      },
      "execution_count": 40,
      "outputs": [
        {
          "output_type": "stream",
          "name": "stdout",
          "text": [
            "93.63636363636364\n"
          ]
        }
      ]
    },
    {
      "cell_type": "code",
      "source": [
        "y_pred"
      ],
      "metadata": {
        "colab": {
          "base_uri": "https://localhost:8080/"
        },
        "id": "y7KI7_6dp7Tr",
        "outputId": "9e983d80-056a-4105-993b-753b486b8bde"
      },
      "execution_count": 41,
      "outputs": [
        {
          "output_type": "execute_result",
          "data": {
            "text/plain": [
              "array([1., 0., 1., 0., 0., 0., 1., 1., 1., 0., 1., 0., 1., 1., 0., 0., 0.,\n",
              "       0., 0., 0., 0., 1., 0., 0., 1., 1., 0., 1., 1., 0., 1., 0., 1., 1.,\n",
              "       0., 0., 0., 1., 1., 1., 1., 1., 1., 0., 1., 0., 0., 1., 1., 0., 0.,\n",
              "       1., 1., 0., 1., 1., 1., 0., 0., 0., 1., 1., 1., 0., 1., 0., 0., 1.,\n",
              "       0., 1., 1., 0., 0., 1., 0., 0., 1., 1., 1., 1., 0., 1., 1., 0., 1.,\n",
              "       0., 0., 0., 1., 0., 1., 0., 1., 0., 1., 0., 1., 1., 1., 1., 0., 1.,\n",
              "       0., 1., 1., 1., 1., 1., 1., 1., 0., 0., 0., 1., 1., 0., 0., 0., 0.,\n",
              "       1., 0., 1., 1., 1., 0., 0., 1., 0., 0., 0., 1., 1., 1., 1., 0., 1.,\n",
              "       1., 0., 1., 0., 0., 0., 0., 0., 0., 1., 0., 1., 1., 0., 0., 0., 1.,\n",
              "       0., 1., 1., 1., 1., 0., 0., 1., 1., 0., 0., 0., 1., 0., 1., 0., 1.,\n",
              "       0., 1., 0., 0., 0., 1., 0., 1., 0., 1., 0., 0., 1., 1., 1., 0., 1.,\n",
              "       0., 1., 0., 1., 1., 1., 0., 0., 0., 0., 1., 0., 0., 0., 1., 1., 0.,\n",
              "       1., 0., 0., 0., 0., 1., 0., 0., 1., 1., 1., 0., 1., 1., 1., 0.])"
            ]
          },
          "metadata": {},
          "execution_count": 41
        }
      ]
    },
    {
      "cell_type": "code",
      "source": [
        "y_teste"
      ],
      "metadata": {
        "colab": {
          "base_uri": "https://localhost:8080/"
        },
        "id": "fy07SStPp9Sj",
        "outputId": "69ee8f69-0d2c-4264-c7b3-a548ba4e1f55"
      },
      "execution_count": 42,
      "outputs": [
        {
          "output_type": "execute_result",
          "data": {
            "text/plain": [
              "128    1.00\n",
              "65     0.00\n",
              "366    1.00\n",
              "842    0.00\n",
              "496    0.00\n",
              "94     0.00\n",
              "726    1.00\n",
              "1077   1.00\n",
              "447    1.00\n",
              "481    0.00\n",
              "975    1.00\n",
              "278    1.00\n",
              "722    1.00\n",
              "710    1.00\n",
              "672    0.00\n",
              "212    1.00\n",
              "485    0.00\n",
              "188    0.00\n",
              "266    0.00\n",
              "542    1.00\n",
              "319    0.00\n",
              "960    1.00\n",
              "112    0.00\n",
              "593    0.00\n",
              "1086   1.00\n",
              "289    1.00\n",
              "890    0.00\n",
              "908    1.00\n",
              "516    1.00\n",
              "306    0.00\n",
              "451    1.00\n",
              "646    0.00\n",
              "986    1.00\n",
              "1008   1.00\n",
              "441    0.00\n",
              "119    0.00\n",
              "125    0.00\n",
              "215    1.00\n",
              "641    1.00\n",
              "501    1.00\n",
              "173    1.00\n",
              "204    1.00\n",
              "430    0.00\n",
              "597    0.00\n",
              "980    1.00\n",
              "237    0.00\n",
              "873    0.00\n",
              "163    1.00\n",
              "367    1.00\n",
              "772    0.00\n",
              "71     0.00\n",
              "348    1.00\n",
              "1099   1.00\n",
              "629    0.00\n",
              "93     1.00\n",
              "1085   1.00\n",
              "969    1.00\n",
              "209    0.00\n",
              "432    0.00\n",
              "559    0.00\n",
              "194    1.00\n",
              "974    1.00\n",
              "1049   1.00\n",
              "874    0.00\n",
              "352    1.00\n",
              "1      0.00\n",
              "910    0.00\n",
              "1033   1.00\n",
              "688    0.00\n",
              "493    1.00\n",
              "482    1.00\n",
              "530    0.00\n",
              "167    0.00\n",
              "557    1.00\n",
              "661    0.00\n",
              "568    0.00\n",
              "640    1.00\n",
              "580    1.00\n",
              "338    1.00\n",
              "1066   1.00\n",
              "181    0.00\n",
              "814    0.00\n",
              "92     1.00\n",
              "695    0.00\n",
              "1022   1.00\n",
              "83     0.00\n",
              "494    0.00\n",
              "235    0.00\n",
              "636    0.00\n",
              "183    0.00\n",
              "465    1.00\n",
              "553    0.00\n",
              "837    1.00\n",
              "684    0.00\n",
              "179    1.00\n",
              "750    0.00\n",
              "824    1.00\n",
              "612    1.00\n",
              "316    1.00\n",
              "740    1.00\n",
              "808    0.00\n",
              "978    1.00\n",
              "287    0.00\n",
              "935    1.00\n",
              "610    1.00\n",
              "964    1.00\n",
              "899    1.00\n",
              "230    0.00\n",
              "445    1.00\n",
              "638    0.00\n",
              "43     0.00\n",
              "536    0.00\n",
              "623    0.00\n",
              "659    1.00\n",
              "606    1.00\n",
              "497    0.00\n",
              "143    0.00\n",
              "216    0.00\n",
              "705    0.00\n",
              "954    1.00\n",
              "134    0.00\n",
              "599    1.00\n",
              "647    1.00\n",
              "1023   1.00\n",
              "25     0.00\n",
              "323    0.00\n",
              "937    1.00\n",
              "292    1.00\n",
              "613    0.00\n",
              "473    0.00\n",
              "578    1.00\n",
              "1075   1.00\n",
              "345    1.00\n",
              "1024   1.00\n",
              "193    0.00\n",
              "307    1.00\n",
              "1017   1.00\n",
              "315    0.00\n",
              "712    1.00\n",
              "156    0.00\n",
              "603    0.00\n",
              "22     0.00\n",
              "883    0.00\n",
              "360    0.00\n",
              "276    0.00\n",
              "679    1.00\n",
              "713    0.00\n",
              "737    1.00\n",
              "286    1.00\n",
              "693    0.00\n",
              "328    0.00\n",
              "27     0.00\n",
              "18     1.00\n",
              "560    0.00\n",
              "253    1.00\n",
              "228    1.00\n",
              "370    1.00\n",
              "662    1.00\n",
              "363    0.00\n",
              "373    0.00\n",
              "67     1.00\n",
              "517    1.00\n",
              "211    0.00\n",
              "294    0.00\n",
              "220    0.00\n",
              "864    1.00\n",
              "66     0.00\n",
              "202    1.00\n",
              "730    0.00\n",
              "914    1.00\n",
              "721    0.00\n",
              "375    1.00\n",
              "144    0.00\n",
              "238    0.00\n",
              "271    0.00\n",
              "801    1.00\n",
              "583    0.00\n",
              "330    1.00\n",
              "264    0.00\n",
              "353    0.00\n",
              "326    0.00\n",
              "581    0.00\n",
              "121    1.00\n",
              "453    1.00\n",
              "786    1.00\n",
              "48     0.00\n",
              "413    0.00\n",
              "198    0.00\n",
              "417    1.00\n",
              "162    0.00\n",
              "70     0.00\n",
              "461    1.00\n",
              "293    1.00\n",
              "205    0.00\n",
              "30     0.00\n",
              "412    0.00\n",
              "729    0.00\n",
              "171    1.00\n",
              "362    0.00\n",
              "708    0.00\n",
              "24     0.00\n",
              "1047   1.00\n",
              "776    0.00\n",
              "161    0.00\n",
              "616    1.00\n",
              "225    0.00\n",
              "186    0.00\n",
              "868    1.00\n",
              "256    0.00\n",
              "50     1.00\n",
              "390    0.00\n",
              "434    0.00\n",
              "902    1.00\n",
              "394    1.00\n",
              "728    1.00\n",
              "175    0.00\n",
              "785    1.00\n",
              "550    1.00\n",
              "38     1.00\n",
              "787    0.00\n",
              "Name: fail, dtype: float64"
            ]
          },
          "metadata": {},
          "execution_count": 42
        }
      ]
    },
    {
      "cell_type": "code",
      "source": [
        "print(classification_report(y_teste, y_pred))"
      ],
      "metadata": {
        "colab": {
          "base_uri": "https://localhost:8080/"
        },
        "id": "l5G7jOzmqDxz",
        "outputId": "184dcc92-41b6-421c-b2cf-ab2a165ae487"
      },
      "execution_count": 43,
      "outputs": [
        {
          "output_type": "stream",
          "name": "stdout",
          "text": [
            "              precision    recall  f1-score   support\n",
            "\n",
            "         0.0       0.95      0.92      0.94       113\n",
            "         1.0       0.92      0.95      0.94       107\n",
            "\n",
            "    accuracy                           0.94       220\n",
            "   macro avg       0.94      0.94      0.94       220\n",
            "weighted avg       0.94      0.94      0.94       220\n",
            "\n"
          ]
        }
      ]
    },
    {
      "cell_type": "code",
      "source": [
        "cm = confusion_matrix(y_teste, y_pred)\n",
        "print(cm)"
      ],
      "metadata": {
        "colab": {
          "base_uri": "https://localhost:8080/"
        },
        "id": "Bwd3Ofc4qKOL",
        "outputId": "bddc0f52-04b2-4354-aee7-cd8e26ea2182"
      },
      "execution_count": 44,
      "outputs": [
        {
          "output_type": "stream",
          "name": "stdout",
          "text": [
            "[[104   9]\n",
            " [  5 102]]\n"
          ]
        }
      ]
    },
    {
      "cell_type": "code",
      "source": [
        "cm_disp = ConfusionMatrixDisplay(confusion_matrix = cm, display_labels = [\"Não\",\"Sim\"])"
      ],
      "metadata": {
        "id": "255lpuE4qR9V"
      },
      "execution_count": 45,
      "outputs": []
    },
    {
      "cell_type": "code",
      "source": [
        "plt.rcParams[\"figure.figsize\"] = [5.00, 5.00]\n",
        "plt.rcParams[\"figure.autolayout\"] = True\n",
        "cm_disp.plot(include_values=True,\n",
        "             cmap='Blues',\n",
        "             colorbar=None)"
      ],
      "metadata": {
        "colab": {
          "base_uri": "https://localhost:8080/",
          "height": 511
        },
        "id": "zKQqwhkuqbod",
        "outputId": "d9103845-ffbe-4521-c88b-97213e469fab"
      },
      "execution_count": 46,
      "outputs": [
        {
          "output_type": "execute_result",
          "data": {
            "text/plain": [
              "<sklearn.metrics._plot.confusion_matrix.ConfusionMatrixDisplay at 0x7e9e36ce7b50>"
            ]
          },
          "metadata": {},
          "execution_count": 46
        },
        {
          "output_type": "display_data",
          "data": {
            "text/plain": [
              "<Figure size 500x500 with 1 Axes>"
            ],
            "image/png": "[encoded data removed]"
          },
          "metadata": {}
        }
      ]
    }
  ]
}